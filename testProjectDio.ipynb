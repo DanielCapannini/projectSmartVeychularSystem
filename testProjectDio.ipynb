{
 "cells": [
  {
   "cell_type": "code",
   "execution_count": 1,
   "metadata": {},
   "outputs": [
    {
     "name": "stdout",
     "output_type": "stream",
     "text": [
      "pygame 2.6.1 (SDL 2.28.4, Python 3.7.12)\n",
      "Hello from the pygame community. https://www.pygame.org/contribute.html\n"
     ]
    }
   ],
   "source": [
    "import carla, time, pygame, math, random, cv2\n",
    "import numpy as np"
   ]
  },
  {
   "cell_type": "code",
   "execution_count": 2,
   "metadata": {},
   "outputs": [],
   "source": [
    "client = carla.Client('localhost', 2000)\n",
    "client.set_timeout(20.0)\n",
    "world = client.load_world('Town05')\n",
    "world = client.get_world()\n",
    "spectator = world.get_spectator()"
   ]
  },
  {
   "cell_type": "code",
   "execution_count": 3,
   "metadata": {},
   "outputs": [],
   "source": [
    "def spawn_vehicle(vehicle_index=0, spawn_index=0, pattern='vehicle.*'):\n",
    "    blueprint_library = world.get_blueprint_library()\n",
    "    vehicle_bp = blueprint_library.filter(pattern)[vehicle_index]\n",
    "    spawn_point = world.get_map().get_spawn_points()[spawn_index]\n",
    "    vehicle = world.spawn_actor(vehicle_bp, spawn_point)\n",
    "    return vehicle\n",
    "\n",
    "def spawn_camera(attach_to=None, transform=carla.Transform(carla.Location(x=1.2, z=1.2), carla.Rotation(pitch=-10)), width=800, height=600):\n",
    "    camera_bp = world.get_blueprint_library().find('sensor.camera.rgb')\n",
    "    camera_bp.set_attribute('image_size_x', str(width))\n",
    "    camera_bp.set_attribute('image_size_y', str(height))\n",
    "    camera = world.spawn_actor(camera_bp, transform, attach_to=attach_to)\n",
    "    return camera"
   ]
  },
  {
   "cell_type": "code",
   "execution_count": 4,
   "metadata": {},
   "outputs": [
    {
     "ename": "",
     "evalue": "",
     "output_type": "error",
     "traceback": [
      "\u001b[1;31mThe Kernel crashed while executing code in the current cell or a previous cell. \n",
      "\u001b[1;31mPlease review the code in the cell(s) to identify a possible cause of the failure. \n",
      "\u001b[1;31mClick <a href='https://aka.ms/vscodeJupyterKernelCrash'>here</a> for more info. \n",
      "\u001b[1;31mView Jupyter <a href='command:jupyter.viewOutput'>log</a> for further details."
     ]
    }
   ],
   "source": [
    "camera_transforms = [\n",
    "    (carla.Transform(carla.Location(x=1.5, z=2.4)), (600, 300)),  # Front camera\n",
    "    (carla.Transform(carla.Location(x=-0.5, y=-0.9, z=2.4), carla.Rotation(yaw=-135)), (200, 400)),  # Left side camera\n",
    "    (carla.Transform(carla.Location(x=-0.5, y=0.9, z=2.4), carla.Rotation(yaw=135)), (200, 400)),  # Right side camera\n",
    "    (carla.Transform(carla.Location(x=-1.5, z=2.4), carla.Rotation(yaw=180)), (600, 300))  # Rear camera\n",
    "]\n",
    "\n",
    "vehicle = spawn_vehicle()\n",
    "vehicle.set_autopilot(True)\n",
    "\n",
    "# Spawn cameras and attach to vehicle\n",
    "cameras = []\n",
    "video_outputs = [np.zeros((600, 800, 4), dtype=np.uint8) for _ in range(4)]\n",
    "\n",
    "def create_camera_callback(index):\n",
    "    def camera_callback(image):\n",
    "        global video_outputs\n",
    "        video_outputs[index] = np.reshape(np.copy(image.raw_data), (image.height, image.width, 4))\n",
    "    return camera_callback\n",
    "\n",
    "for i, transform in enumerate(camera_transforms):\n",
    "    camera = spawn_camera(attach_to=vehicle, transform=transform[0], width=transform[1][0], height=transform[1][1])\n",
    "    camera.listen(create_camera_callback(i))\n",
    "    cameras.append(camera)\n",
    "\n",
    "cv2.namedWindow('Front Camera', cv2.WINDOW_AUTOSIZE)\n",
    "cv2.namedWindow('Left Side Camera', cv2.WINDOW_AUTOSIZE)\n",
    "cv2.namedWindow('Right Side Camera', cv2.WINDOW_AUTOSIZE)\n",
    "cv2.namedWindow('Rear Camera', cv2.WINDOW_AUTOSIZE)\n",
    "\n",
    "running = True\n",
    "\n",
    "try:\n",
    "    while running:\n",
    "        if cv2.waitKey(1) == ord('q'):\n",
    "            running = False\n",
    "            break\n",
    "        cv2.imshow('Front Camera', video_outputs[0])\n",
    "        cv2.imshow('Left Side Camera', video_outputs[1])\n",
    "        cv2.imshow('Right Side Camera', video_outputs[2])\n",
    "        cv2.imshow('Rear Camera', video_outputs[3])\n",
    "finally:\n",
    "    cv2.destroyAllWindows()\n",
    "    for camera in cameras:\n",
    "        camera.destroy()\n",
    "    vehicle.destroy()"
   ]
  }
 ],
 "metadata": {
  "kernelspec": {
   "display_name": "carla-env",
   "language": "python",
   "name": "python3"
  },
  "language_info": {
   "codemirror_mode": {
    "name": "ipython",
    "version": 3
   },
   "file_extension": ".py",
   "mimetype": "text/x-python",
   "name": "python",
   "nbconvert_exporter": "python",
   "pygments_lexer": "ipython3",
   "version": "3.7.12"
  }
 },
 "nbformat": 4,
 "nbformat_minor": 2
}
