{
 "cells": [
  {
   "cell_type": "code",
   "execution_count": 4,
   "metadata": {},
   "outputs": [],
   "source": [
    "import carla, time, pygame, math, random, cv2\n",
    "import numpy as np\n",
    "from Utility import spawn_camera, spawn_vehicle, preprocess_image"
   ]
  },
  {
   "cell_type": "code",
   "execution_count": 7,
   "metadata": {},
   "outputs": [],
   "source": [
    "client = carla.Client('localhost', 2000)\n",
    "client.set_timeout(20.0)\n",
    "client.load_world('Town05')\n",
    "world = client.get_world()\n",
    "spectator = world.get_spectator()"
   ]
  },
  {
   "cell_type": "code",
   "execution_count": 8,
   "metadata": {},
   "outputs": [],
   "source": [
    "#macchina spawnata debug\n",
    "blueprint_library = world.get_blueprint_library()\n",
    "vehicle_bp = blueprint_library.filter('vehicle.*')[0]\n",
    "spawn_point = carla.Transform(carla.Location(6.6, -41.3, 2), carla.Rotation(yaw=-90))\n",
    "vehicle = world.spawn_actor(vehicle_bp, spawn_point)\n",
    "camera_retro = spawn_camera(attach_to=vehicle, world=world, transform=carla.Transform(carla.Location(x=-1.6, z=1.9), carla.Rotation(yaw=180, pitch=-40)))\n",
    "camera_rigth = spawn_camera(attach_to=vehicle, world=world, transform=carla.Transform(carla.Location(x=-1.6, z=1.9), carla.Rotation(yaw=90, pitch=-40)))"
   ]
  },
  {
   "cell_type": "code",
   "execution_count": null,
   "metadata": {},
   "outputs": [],
   "source": [
    "print(\"Distruggendo il veicolo...\")\n",
    "vehicle.destroy()\n",
    "print(\"Veicolo rimosso.\")"
   ]
  },
  {
   "cell_type": "code",
   "execution_count": 136,
   "metadata": {},
   "outputs": [],
   "source": [
    "#macchina spawnata tipo 1\n",
    "blueprint_library = world.get_blueprint_library()\n",
    "vehicle_bp = blueprint_library.filter('vehicle.*')[0]\n",
    "spawn_point = carla.Transform(carla.Location(-1, -41.3, 2), carla.Rotation(yaw=-90))\n",
    "vehicle = world.spawn_actor(vehicle_bp, spawn_point)\n",
    "camera_retro = spawn_camera(attach_to=vehicle, world=world, transform=carla.Transform(carla.Location(x=-1.6, z=1.9), carla.Rotation(yaw=180, pitch=-40)))\n",
    "camera_rigth = spawn_camera(attach_to=vehicle, world=world, transform=carla.Transform(carla.Location(x=-1.6, z=1.9), carla.Rotation(yaw=90, pitch=-40)))\n"
   ]
  },
  {
   "cell_type": "code",
   "execution_count": 9,
   "metadata": {},
   "outputs": [],
   "source": [
    "#macchina spawnata tipo 2\n",
    "blueprint_library = world.get_blueprint_library()\n",
    "vehicle_bp = blueprint_library.filter('vehicle.*')[0]\n",
    "spawn_point = carla.Transform(carla.Location(0, -41.3, 1), carla.Rotation(yaw=-90))\n",
    "vehicle = world.spawn_actor(vehicle_bp, spawn_point)\n",
    "camera_retro = spawn_camera(attach_to=vehicle, world=world, transform=carla.Transform(carla.Location(x=-1.6, z=1.9), carla.Rotation(yaw=180, pitch=-40)))\n",
    "camera_rigth = spawn_camera(attach_to=vehicle, world=world, transform=carla.Transform(carla.Location(x=-1.6, z=1.9), carla.Rotation(yaw=90, pitch=-40)))"
   ]
  },
  {
   "cell_type": "code",
   "execution_count": 21,
   "metadata": {},
   "outputs": [],
   "source": [
    "#macchina spawnata tipo 3\n",
    "blueprint_library = world.get_blueprint_library()\n",
    "vehicle_bp = blueprint_library.filter('vehicle.*')[0]\n",
    "spawn_point = carla.Transform(carla.Location(-0.5, -41.3, 1), carla.Rotation(yaw=-90))\n",
    "vehicle = world.spawn_actor(vehicle_bp, spawn_point)\n",
    "camera_retro = spawn_camera(attach_to=vehicle, world=world, transform=carla.Transform(carla.Location(x=-1.6, z=1.9), carla.Rotation(yaw=180, pitch=-40)))\n",
    "camera_rigth = spawn_camera(attach_to=vehicle, world=world, transform=carla.Transform(carla.Location(x=-1.6, z=1.9), carla.Rotation(yaw=90, pitch=-40)))"
   ]
  },
  {
   "cell_type": "code",
   "execution_count": 22,
   "metadata": {},
   "outputs": [
    {
     "name": "stdout",
     "output_type": "stream",
     "text": [
      "Parcheggio completato!\n",
      "Distruggendo il veicolo...\n",
      "Veicolo rimosso.\n"
     ]
    }
   ],
   "source": [
    "control = carla.VehicleControl()\n",
    "control.reverse = False  # Retromarcia\n",
    "control.throttle = 0.3  # Velocità moderata\n",
    "control.brake = 0.0\n",
    "\n",
    "# Passi per il parcheggio\n",
    "PARKING_STEP_0_DURATION = 5.8\n",
    "PARKING_STEP_1_DURATION = 6.5  # Tempo per sterzare all'indietro\n",
    "PARKING_STEP_2_DURATION = 2  # Tempo per raddrizzare\n",
    "\n",
    "try:\n",
    "    control.steer = -0.5  # Sterzata a destra (positivo per destra)\n",
    "    start_time = time.perf_counter()\n",
    "    while time.perf_counter() - start_time < PARKING_STEP_0_DURATION:\n",
    "        vehicle.apply_control(control)\n",
    "        time.sleep(0.1)\n",
    "\n",
    "    # Step 1: Sterzata iniziale per entrare nel parcheggio\n",
    "    control.steer = 0.5  # Sterzata a destra (positivo per destra)\n",
    "    control.reverse = True\n",
    "    start_time = time.perf_counter()\n",
    "    while time.perf_counter() - start_time < PARKING_STEP_1_DURATION:\n",
    "        vehicle.apply_control(control)\n",
    "        time.sleep(0.1)\n",
    "\n",
    "    # Step 3: Retromarcia diritta per completare il parcheggio\n",
    "    control.steer = 0.0  # Sterzo neutro\n",
    "    start_time = time.perf_counter()\n",
    "    while time.perf_counter() - start_time < PARKING_STEP_2_DURATION:\n",
    "        vehicle.apply_control(control)\n",
    "        time.sleep(0.1)\n",
    "\n",
    "    # Ferma il veicolo\n",
    "    control.throttle = 0.0\n",
    "    control.brake = 1.0\n",
    "    vehicle.apply_control(control)\n",
    "\n",
    "    print(\"Parcheggio completato!\")\n",
    "\n",
    "finally:\n",
    "    # Despawn del veicolo\n",
    "    if vehicle is not None:\n",
    "        print(\"Distruggendo il veicolo...\")\n",
    "        vehicle.destroy()\n",
    "        print(\"Veicolo rimosso.\")"
   ]
  }
 ],
 "metadata": {
  "kernelspec": {
   "display_name": "carla-env",
   "language": "python",
   "name": "python3"
  },
  "language_info": {
   "codemirror_mode": {
    "name": "ipython",
    "version": 3
   },
   "file_extension": ".py",
   "mimetype": "text/x-python",
   "name": "python",
   "nbconvert_exporter": "python",
   "pygments_lexer": "ipython3",
   "version": "3.7.12"
  }
 },
 "nbformat": 4,
 "nbformat_minor": 2
}
