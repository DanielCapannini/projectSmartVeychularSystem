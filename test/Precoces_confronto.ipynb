{
 "cells": [
  {
   "cell_type": "code",
   "execution_count": null,
   "metadata": {
    "vscode": {
     "languageId": "plaintext"
    }
   },
   "outputs": [],
   "source": [
    "def preprocess_image(image):\n",
    "    gray_image = cv2.cvtColor(image, cv2.COLOR_BGR2GRAY)\n",
    "    adaptive_thresh = cv2.adaptiveThreshold(gray_image, 255, cv2.ADAPTIVE_THRESH_GAUSSIAN_C,\n",
    "                                           cv2.THRESH_BINARY, 11, 2)\n",
    "    kernel = np.ones((3, 13), np.uint8)\n",
    "    opened_mask = cv2.morphologyEx(adaptive_thresh, cv2.MORPH_OPEN, kernel)\n",
    "    contours, _ = cv2.findContours(opened_mask, cv2.RETR_EXTERNAL, cv2.CHAIN_APPROX_SIMPLE)\n",
    "    final_mask = np.zeros_like(opened_mask)\n",
    "    for contour in contours:\n",
    "        if cv2.contourArea(contour) >= 1500:\n",
    "            cv2.drawContours(final_mask, [contour], -1, (255), thickness=cv2.FILLED)\n",
    "    return final_mask\n",
    "\n",
    "def preprocess_image2(image):\n",
    "    gray_image = cv2.cvtColor(image, cv2.COLOR_BGR2GRAY)\n",
    "    _, binary_mask = cv2.threshold(gray_image, 200, 255, cv2.THRESH_BINARY)\n",
    "    kernel = np.ones((5, 5), np.uint8)\n",
    "    mask_cleaned = cv2.morphologyEx(binary_mask, cv2.MORPH_CLOSE, kernel)\n",
    "    return mask_cleaned\n",
    "\n",
    "def preprocess_image3(image):\n",
    "    hsv_image = cv2.cvtColor(image, cv2.COLOR_BGR2HSV)\n",
    "    lower_white = np.array([0, 0, 200])\n",
    "    upper_white = np.array([180, 50, 255])\n",
    "    binary_mask = cv2.inRange(hsv_image, lower_white, upper_white)\n",
    "    kernel = np.ones((5, 5), np.uint8)\n",
    "    mask_cleaned = cv2.morphologyEx(binary_mask, cv2.MORPH_CLOSE, kernel)\n",
    "    return mask_cleaned"
   ]
  }
 ],
 "metadata": {
  "language_info": {
   "name": "python"
  }
 },
 "nbformat": 4,
 "nbformat_minor": 2
}
