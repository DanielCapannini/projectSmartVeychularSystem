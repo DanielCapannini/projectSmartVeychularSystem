{
 "cells": [
  {
   "cell_type": "markdown",
   "metadata": {},
   "source": [
    "test tra i vari algoritmi di preprocess"
   ]
  },
  {
   "cell_type": "code",
   "execution_count": 13,
   "metadata": {},
   "outputs": [
    {
     "name": "stdout",
     "output_type": "stream",
     "text": [
      "None\n"
     ]
    }
   ],
   "source": [
    "import cv2\n",
    "import numpy as np\n",
    "import matplotlib.pyplot as plt\n",
    "\n",
    "path_image_giorno = \"/prova_giorno.png\"\n",
    "path_image_notte = \"/prova_notte.png\"\n",
    "image_giorno = cv2.imread(path_image_giorno)\n",
    "image_notte = cv2.imread(path_image_notte)\n",
    "print(image_giorno)"
   ]
  },
  {
   "cell_type": "code",
   "execution_count": 10,
   "metadata": {},
   "outputs": [
    {
     "name": "stdout",
     "output_type": "stream",
     "text": [
      " Il volume nell'unit� C non ha etichetta.\n",
      " Numero di serie del volume: 56AA-DDF7\n",
      "\n",
      " Directory di c:\\Users\\danie\\OneDrive\\Documenti\\GitHub\\projectSmartVeychularSystem\\test\n",
      "\n",
      "21/01/2025  16:42    <DIR>          .\n",
      "21/01/2025  16:40    <DIR>          ..\n",
      "21/01/2025  15:37             1.899 Precoces_confronto.ipynb\n",
      "11/01/2025  20:42           786.432 prova_giorno.png\n",
      "11/01/2025  23:40           567.190 prova_notte.png\n",
      "21/01/2025  14:48             3.285 testAngolo.ipynb\n",
      "21/01/2025  15:23           124.093 testRadar.ipynb\n",
      "               5 File      1.482.899 byte\n",
      "               2 Directory  21.109.309.440 byte disponibili\n"
     ]
    }
   ],
   "source": [
    "!dir"
   ]
  },
  {
   "cell_type": "code",
   "execution_count": 12,
   "metadata": {},
   "outputs": [
    {
     "name": "stdout",
     "output_type": "stream",
     "text": [
      "Errore nel caricamento delle immagini. Controlla i percorsi.\n"
     ]
    }
   ],
   "source": [
    "if image_giorno is None or image_notte is None:\n",
    "    print(\"Errore nel caricamento delle immagini. Controlla i percorsi.\")\n",
    "else:\n",
    "    # Configura il layout per mostrare le immagini\n",
    "    plt.figure(figsize=(12, 6))\n",
    "\n",
    "    # Immagine Giorno\n",
    "    plt.subplot(1, 2, 1)\n",
    "    plt.imshow(cv2.cvtColor(image_giorno, cv2.COLOR_BGR2RGB))\n",
    "    plt.title(\"Immagine Giorno\")\n",
    "    plt.axis(\"off\")\n",
    "\n",
    "    # Immagine Notte\n",
    "    plt.subplot(1, 2, 2)\n",
    "    plt.imshow(cv2.cvtColor(image_notte, cv2.COLOR_BGR2RGB))\n",
    "    plt.title(\"Immagine Notte\")\n",
    "    plt.axis(\"off\")\n",
    "\n",
    "    # Mostra le immagini\n",
    "    plt.tight_layout()\n",
    "    plt.show()"
   ]
  },
  {
   "cell_type": "markdown",
   "metadata": {},
   "source": [
    "preprocess soglia globale"
   ]
  },
  {
   "cell_type": "code",
   "execution_count": null,
   "metadata": {},
   "outputs": [],
   "source": [
    "def preprocess_image(image):\n",
    "    gray_image = cv2.cvtColor(image, cv2.COLOR_BGR2GRAY)\n",
    "    _, binary_mask = cv2.threshold(gray_image, 200, 255, cv2.THRESH_BINARY)\n",
    "    kernel = np.ones((5, 5), np.uint8)\n",
    "    mask_cleaned = cv2.morphologyEx(binary_mask, cv2.MORPH_CLOSE, kernel)\n",
    "    return mask_cleaned"
   ]
  },
  {
   "cell_type": "code",
   "execution_count": null,
   "metadata": {},
   "outputs": [],
   "source": [
    "img_matches = preprocess_image(image)\n",
    "\n",
    "cv2.imshow('Matches', img_matches)\n",
    "cv2.waitKey(0)\n",
    "cv2.destroyAllWindows()"
   ]
  },
  {
   "cell_type": "markdown",
   "metadata": {},
   "source": [
    "preprocess con maschera in HSV"
   ]
  },
  {
   "cell_type": "code",
   "execution_count": null,
   "metadata": {},
   "outputs": [],
   "source": [
    "def preprocess_image(image):\n",
    "    hsv_image = cv2.cvtColor(image, cv2.COLOR_BGR2HSV)\n",
    "    lower_white = np.array([0, 0, 200])\n",
    "    upper_white = np.array([180, 50, 255])\n",
    "    binary_mask = cv2.inRange(hsv_image, lower_white, upper_white)\n",
    "    kernel = np.ones((5, 5), np.uint8)\n",
    "    mask_cleaned = cv2.morphologyEx(binary_mask, cv2.MORPH_CLOSE, kernel)\n",
    "    return mask_cleaned"
   ]
  },
  {
   "cell_type": "markdown",
   "metadata": {},
   "source": [
    "preprocess con soglia locale"
   ]
  },
  {
   "cell_type": "code",
   "execution_count": null,
   "metadata": {},
   "outputs": [],
   "source": [
    "def preprocess_image(image):\n",
    "    gray_image = cv2.cvtColor(image, cv2.COLOR_BGR2GRAY)\n",
    "    adaptive_thresh = cv2.adaptiveThreshold(gray_image, 255, cv2.ADAPTIVE_THRESH_GAUSSIAN_C,\n",
    "                                           cv2.THRESH_BINARY, 11, 2)\n",
    "    kernel = np.ones((3, 13), np.uint8)\n",
    "    opened_mask = cv2.morphologyEx(adaptive_thresh, cv2.MORPH_OPEN, kernel)\n",
    "    contours, _ = cv2.findContours(opened_mask, cv2.RETR_EXTERNAL, cv2.CHAIN_APPROX_SIMPLE)\n",
    "    final_mask = np.zeros_like(opened_mask)\n",
    "    for contour in contours:\n",
    "        if cv2.contourArea(contour) >= 1500:\n",
    "            cv2.drawContours(final_mask, [contour], -1, (255), thickness=cv2.FILLED)\n",
    "    return final_mask"
   ]
  }
 ],
 "metadata": {
  "kernelspec": {
   "display_name": "carla-env",
   "language": "python",
   "name": "python3"
  },
  "language_info": {
   "codemirror_mode": {
    "name": "ipython",
    "version": 3
   },
   "file_extension": ".py",
   "mimetype": "text/x-python",
   "name": "python",
   "nbconvert_exporter": "python",
   "pygments_lexer": "ipython3",
   "version": "3.7.16"
  }
 },
 "nbformat": 4,
 "nbformat_minor": 2
}
