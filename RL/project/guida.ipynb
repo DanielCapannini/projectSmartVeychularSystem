{
 "cells": [
  {
   "cell_type": "code",
   "execution_count": 1,
   "metadata": {},
   "outputs": [
    {
     "name": "stdout",
     "output_type": "stream",
     "text": [
      "pygame 2.6.1 (SDL 2.28.4, Python 3.7.12)\n",
      "Hello from the pygame community. https://www.pygame.org/contribute.html\n"
     ]
    }
   ],
   "source": [
    "import carla, time, pygame, math, random, cv2\n",
    "import numpy as np\n",
    "from Utility import spawn_camera, preprocess_image, riconosci_parcheggio, control_retro, controllo_velocita, find_point"
   ]
  },
  {
   "cell_type": "code",
   "execution_count": 2,
   "metadata": {},
   "outputs": [],
   "source": [
    "client = carla.Client('localhost', 2000)\n",
    "client.set_timeout(20.0)\n",
    "client.load_world('Town05')\n",
    "world = client.get_world()\n",
    "spectator = world.get_spectator()"
   ]
  },
  {
   "cell_type": "code",
   "execution_count": 19,
   "metadata": {},
   "outputs": [],
   "source": [
    "blueprint_library = world.get_blueprint_library()\n",
    "vehicle_bp = blueprint_library.filter('vehicle.*')[0]\n",
    "spawn_point = carla.Transform(carla.Location(-1, -25, 2), carla.Rotation(yaw=-90))\n",
    "vehicle = world.spawn_actor(vehicle_bp, spawn_point)\n",
    "camera_retro = spawn_camera(attach_to=vehicle, world=world, transform=carla.Transform(carla.Location(x=-1.6, z=1.9), carla.Rotation(yaw=180, pitch=-40)))\n",
    "camera_rigth = spawn_camera(attach_to=vehicle, world=world, transform=carla.Transform(carla.Location(x=-0.8, y=0.5, z=1.9), carla.Rotation(yaw=90, pitch=-40)))\n",
    "run = True"
   ]
  },
  {
   "cell_type": "code",
   "execution_count": 20,
   "metadata": {},
   "outputs": [],
   "source": [
    "radar_bp = world.get_blueprint_library().find('sensor.other.radar')\n",
    "radar_bp.set_attribute('horizontal_fov', '10')  # Horizontal field of view\n",
    "radar_bp.set_attribute('vertical_fov', '10')    # Vertical field of view\n",
    "radar_bp.set_attribute('range', '20')           # Maximum range\n",
    "radar_transform = carla.Transform(carla.Location(x=2.0, z=1.0))\n",
    "radar = world.spawn_actor(radar_bp, radar_transform, attach_to=vehicle)"
   ]
  },
  {
   "cell_type": "code",
   "execution_count": 21,
   "metadata": {},
   "outputs": [],
   "source": [
    "def camera_rigth_callback(image):\n",
    "    global run\n",
    "    prediction=riconosci_parcheggio(preprocess_image(np.reshape(np.copy(image.raw_data), (image.height, image.width, 4))))\n",
    "    if prediction > 0.6:\n",
    "        run = False\n",
    "camera_rigth.listen(lambda image: camera_rigth_callback(image))\n",
    "\n",
    "min_ttc = float('inf')\n",
    "def radar_callback(data: carla.RadarMeasurement):\n",
    "    global min_ttc, min_distance\n",
    "    min_ttc = float('inf')\n",
    "    for detection, i in zip(data, range(len(data))):\n",
    "        absolute_speed = abs(detection.velocity)\n",
    "        # Calculate TTC\n",
    "        if absolute_speed != 0:\n",
    "            ttc = detection.depth / absolute_speed\n",
    "            if ttc < min_ttc:\n",
    "                min_ttc = ttc\n",
    "\n",
    "# Register the radar callback\n",
    "radar.listen(radar_callback)"
   ]
  },
  {
   "cell_type": "code",
   "execution_count": 22,
   "metadata": {},
   "outputs": [
    {
     "name": "stdout",
     "output_type": "stream",
     "text": [
      "VehicleControl(throttle=0.000000, steer=0.800000, brake=0.000000, hand_brake=False, reverse=True, manual_gear_shift=False, gear=0)\n",
      "VehicleControl(throttle=0.678803, steer=0.800000, brake=0.000000, hand_brake=False, reverse=True, manual_gear_shift=False, gear=0)\n",
      "VehicleControl(throttle=0.678803, steer=0.800000, brake=0.000000, hand_brake=False, reverse=True, manual_gear_shift=False, gear=0)\n",
      "VehicleControl(throttle=1.000000, steer=0.800000, brake=0.000000, hand_brake=False, reverse=True, manual_gear_shift=False, gear=0)\n",
      "VehicleControl(throttle=1.000000, steer=0.800000, brake=0.000000, hand_brake=False, reverse=True, manual_gear_shift=False, gear=0)\n",
      "VehicleControl(throttle=1.000000, steer=0.800000, brake=0.000000, hand_brake=False, reverse=True, manual_gear_shift=False, gear=0)\n",
      "VehicleControl(throttle=1.000000, steer=0.800000, brake=0.000000, hand_brake=False, reverse=True, manual_gear_shift=False, gear=0)\n",
      "VehicleControl(throttle=1.000000, steer=0.800000, brake=0.000000, hand_brake=False, reverse=True, manual_gear_shift=False, gear=0)\n",
      "VehicleControl(throttle=1.000000, steer=0.800000, brake=0.000000, hand_brake=False, reverse=True, manual_gear_shift=False, gear=0)\n",
      "VehicleControl(throttle=1.000000, steer=0.800000, brake=0.000000, hand_brake=False, reverse=True, manual_gear_shift=False, gear=0)\n",
      "VehicleControl(throttle=1.000000, steer=0.800000, brake=0.000000, hand_brake=False, reverse=True, manual_gear_shift=False, gear=0)\n",
      "VehicleControl(throttle=0.891423, steer=0.800000, brake=0.000000, hand_brake=False, reverse=True, manual_gear_shift=False, gear=0)\n",
      "VehicleControl(throttle=0.768105, steer=0.800000, brake=0.000000, hand_brake=False, reverse=True, manual_gear_shift=False, gear=0)\n",
      "VehicleControl(throttle=0.708968, steer=0.800000, brake=0.000000, hand_brake=False, reverse=True, manual_gear_shift=False, gear=0)\n",
      "VehicleControl(throttle=0.657711, steer=0.800000, brake=0.000000, hand_brake=False, reverse=True, manual_gear_shift=False, gear=0)\n",
      "VehicleControl(throttle=0.550575, steer=0.800000, brake=0.000000, hand_brake=False, reverse=True, manual_gear_shift=False, gear=0)\n",
      "VehicleControl(throttle=0.524300, steer=0.800000, brake=0.000000, hand_brake=False, reverse=True, manual_gear_shift=False, gear=0)\n",
      "VehicleControl(throttle=0.000000, steer=0.800000, brake=0.008129, hand_brake=False, reverse=True, manual_gear_shift=False, gear=0)\n",
      "VehicleControl(throttle=0.000000, steer=0.800000, brake=0.008129, hand_brake=False, reverse=True, manual_gear_shift=False, gear=0)\n",
      "VehicleControl(throttle=0.538866, steer=0.800000, brake=0.000000, hand_brake=False, reverse=True, manual_gear_shift=False, gear=0)\n",
      "VehicleControl(throttle=0.614738, steer=0.800000, brake=0.000000, hand_brake=False, reverse=True, manual_gear_shift=False, gear=0)\n",
      "VehicleControl(throttle=0.640315, steer=0.800000, brake=0.000000, hand_brake=False, reverse=True, manual_gear_shift=False, gear=0)\n",
      "VehicleControl(throttle=0.640315, steer=0.800000, brake=0.000000, hand_brake=False, reverse=True, manual_gear_shift=False, gear=0)\n",
      "VehicleControl(throttle=0.637306, steer=0.800000, brake=0.000000, hand_brake=False, reverse=True, manual_gear_shift=False, gear=0)\n",
      "VehicleControl(throttle=0.609997, steer=0.800000, brake=0.000000, hand_brake=False, reverse=True, manual_gear_shift=False, gear=0)\n",
      "VehicleControl(throttle=0.592667, steer=0.800000, brake=0.000000, hand_brake=False, reverse=True, manual_gear_shift=False, gear=0)\n",
      "VehicleControl(throttle=0.592667, steer=0.800000, brake=0.000000, hand_brake=False, reverse=True, manual_gear_shift=False, gear=0)\n",
      "VehicleControl(throttle=0.539238, steer=0.800000, brake=0.000000, hand_brake=False, reverse=True, manual_gear_shift=False, gear=0)\n",
      "VehicleControl(throttle=0.509635, steer=0.800000, brake=0.000000, hand_brake=False, reverse=True, manual_gear_shift=False, gear=0)\n",
      "VehicleControl(throttle=0.000000, steer=0.800000, brake=0.009179, hand_brake=False, reverse=True, manual_gear_shift=False, gear=0)\n",
      "VehicleControl(throttle=0.000000, steer=0.800000, brake=0.012173, hand_brake=False, reverse=True, manual_gear_shift=False, gear=0)\n",
      "79620.5\n",
      "78030.5\n",
      "76197.0\n",
      "74546.5\n",
      "72786.0\n",
      "69682.0\n",
      "66697.5\n",
      "63321.5\n",
      "59225.5\n",
      "55745.0\n",
      "50389.0\n",
      "42149.0\n",
      "32441.0\n",
      "18033.5\n",
      "1968.5\n"
     ]
    },
    {
     "data": {
      "text/plain": [
       "True"
      ]
     },
     "execution_count": 22,
     "metadata": {},
     "output_type": "execute_result"
    }
   ],
   "source": [
    "target_speed_mps = 10 / 3.6\n",
    "\n",
    "control = carla.VehicleControl()\n",
    "control.steer = 0.0\n",
    "control.brake = 0.0\n",
    "target_distance = 1.1\n",
    "distance_travelled = 0.0\n",
    "\n",
    "n_listem_break=0\n",
    "ttc_threshold = 1.0\n",
    "collision = False\n",
    "\n",
    "while run:\n",
    "    current_velocity = vehicle.get_velocity()\n",
    "    current_speed_mps = current_velocity.length()\n",
    "    control = controllo_velocita(control, target_speed_mps, current_speed_mps)\n",
    "    vehicle.apply_control(control)\n",
    "    if min_ttc < ttc_threshold:\n",
    "            control = carla.VehicleControl()\n",
    "            control.brake = 1.0  \n",
    "            vehicle.apply_control(control)\n",
    "            print(\"Emergency braking activated!\")\n",
    "            n_listem_break += 1\n",
    "            if n_listem_break>10:\n",
    "                collision = True\n",
    "                break\n",
    "    time.sleep(0.05)\n",
    "while distance_travelled < target_distance and not collision:\n",
    "    current_velocity = vehicle.get_velocity()\n",
    "    current_speed_mps = current_velocity.length()\n",
    "    distance_travelled += current_speed_mps * 0.05\n",
    "    control = controllo_velocita(control, target_speed_mps, current_speed_mps)\n",
    "    vehicle.apply_control(control)\n",
    "    time.sleep(0.05)\n",
    "control.brake = 1.0\n",
    "control.throttle = 0.0\n",
    "vehicle.apply_control(control)\n",
    "control.brake = 0.0\n",
    "control.reverse = True\n",
    "control.steer = 0.8\n",
    "distance_travelled = 0.0\n",
    "target_distance = 3.2\n",
    "while distance_travelled < target_distance and not collision:\n",
    "    current_velocity = vehicle.get_velocity()\n",
    "    current_speed_mps = current_velocity.length()\n",
    "    distance_travelled += current_speed_mps * 0.05\n",
    "    print(control)\n",
    "    control = controllo_velocita(control, target_speed_mps, current_speed_mps)\n",
    "    vehicle.apply_control(control)\n",
    "    time.sleep(0.05)\n",
    "control.brake = 1.0\n",
    "control.throttle = 0.0\n",
    "vehicle.apply_control(control)\n",
    "camera_rigth.destroy()\n",
    "image1 = None\n",
    "def camera_callback2(image):\n",
    "    global image1\n",
    "    image1 =  np.reshape(np.copy(image.raw_data), (image.height, image.width, 4))\n",
    "camera_retro.listen(lambda image: camera_callback2(image))\n",
    "time.sleep(0.15)\n",
    "while True:\n",
    "    if control_retro(vehicle, find_point(image1), control):\n",
    "        break\n",
    "control.brake = 1.0\n",
    "control.throttle = 0.0\n",
    "vehicle.apply_control(control)\n",
    "time.sleep(4.1)\n",
    "camera_retro.destroy()\n",
    "vehicle.destroy()"
   ]
  }
 ],
 "metadata": {
  "kernelspec": {
   "display_name": "carla-env",
   "language": "python",
   "name": "python3"
  },
  "language_info": {
   "codemirror_mode": {
    "name": "ipython",
    "version": 3
   },
   "file_extension": ".py",
   "mimetype": "text/x-python",
   "name": "python",
   "nbconvert_exporter": "python",
   "pygments_lexer": "ipython3",
   "version": "3.7.12"
  }
 },
 "nbformat": 4,
 "nbformat_minor": 2
}
