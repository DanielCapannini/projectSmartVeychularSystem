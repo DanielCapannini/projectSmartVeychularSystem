{
 "cells": [
  {
   "cell_type": "code",
   "execution_count": 1,
   "metadata": {},
   "outputs": [
    {
     "name": "stdout",
     "output_type": "stream",
     "text": [
      "pygame 2.6.1 (SDL 2.28.4, Python 3.7.12)\n",
      "Hello from the pygame community. https://www.pygame.org/contribute.html\n"
     ]
    }
   ],
   "source": [
    "import carla, time, pygame, math, random, cv2\n",
    "import numpy as np\n",
    "from Utility import spawn_camera, preprocess_image, riconosci_parcheggio, control_retro, controllo_velocita, find_point"
   ]
  },
  {
   "cell_type": "code",
   "execution_count": 2,
   "metadata": {},
   "outputs": [],
   "source": [
    "client = carla.Client('localhost', 2000)\n",
    "client.set_timeout(20.0)\n",
    "client.load_world('Town05')\n",
    "world = client.get_world()\n",
    "spectator = world.get_spectator()"
   ]
  },
  {
   "cell_type": "code",
   "execution_count": 6,
   "metadata": {},
   "outputs": [],
   "source": [
    "blueprint_library = world.get_blueprint_library()\n",
    "vehicle_bp = blueprint_library.filter('vehicle.*')[0]\n",
    "spawn_point = carla.Transform(carla.Location(-1, -25, 2), carla.Rotation(yaw=-90))\n",
    "vehicle = world.spawn_actor(vehicle_bp, spawn_point)\n",
    "camera_retro = spawn_camera(attach_to=vehicle, world=world, transform=carla.Transform(carla.Location(x=-1.6, z=1.9), carla.Rotation(yaw=180, pitch=-40)))\n",
    "camera_rigth = spawn_camera(attach_to=vehicle, world=world, transform=carla.Transform(carla.Location(x=-0.8, y=0.5, z=1.9), carla.Rotation(yaw=90, pitch=-40)))\n",
    "run = True"
   ]
  },
  {
   "cell_type": "code",
   "execution_count": 7,
   "metadata": {},
   "outputs": [],
   "source": [
    "def camera_rigth_callback(image):\n",
    "    global run\n",
    "    prediction=riconosci_parcheggio(preprocess_image(np.reshape(np.copy(image.raw_data), (image.height, image.width, 4))))\n",
    "    if prediction > 0.6:\n",
    "        run = False\n",
    "camera_rigth.listen(lambda image: camera_rigth_callback(image))"
   ]
  },
  {
   "cell_type": "code",
   "execution_count": 8,
   "metadata": {},
   "outputs": [
    {
     "name": "stdout",
     "output_type": "stream",
     "text": [
      "VehicleControl(throttle=0.000000, steer=0.800000, brake=0.000000, hand_brake=False, reverse=True, manual_gear_shift=False, gear=0)\n",
      "VehicleControl(throttle=0.633339, steer=0.800000, brake=0.000000, hand_brake=False, reverse=True, manual_gear_shift=False, gear=0)\n",
      "VehicleControl(throttle=1.000000, steer=0.800000, brake=0.000000, hand_brake=False, reverse=True, manual_gear_shift=False, gear=0)\n",
      "VehicleControl(throttle=1.000000, steer=0.800000, brake=0.000000, hand_brake=False, reverse=True, manual_gear_shift=False, gear=0)\n",
      "VehicleControl(throttle=1.000000, steer=0.800000, brake=0.000000, hand_brake=False, reverse=True, manual_gear_shift=False, gear=0)\n",
      "VehicleControl(throttle=1.000000, steer=0.800000, brake=0.000000, hand_brake=False, reverse=True, manual_gear_shift=False, gear=0)\n",
      "VehicleControl(throttle=0.934961, steer=0.800000, brake=0.000000, hand_brake=False, reverse=True, manual_gear_shift=False, gear=0)\n",
      "VehicleControl(throttle=0.775713, steer=0.800000, brake=0.000000, hand_brake=False, reverse=True, manual_gear_shift=False, gear=0)\n",
      "VehicleControl(throttle=0.586918, steer=0.800000, brake=0.000000, hand_brake=False, reverse=True, manual_gear_shift=False, gear=0)\n",
      "VehicleControl(throttle=0.516705, steer=0.800000, brake=0.000000, hand_brake=False, reverse=True, manual_gear_shift=False, gear=0)\n",
      "VehicleControl(throttle=0.000000, steer=0.800000, brake=0.009155, hand_brake=False, reverse=True, manual_gear_shift=False, gear=0)\n",
      "VehicleControl(throttle=0.588402, steer=0.800000, brake=0.000000, hand_brake=False, reverse=True, manual_gear_shift=False, gear=0)\n",
      "VehicleControl(throttle=0.715398, steer=0.800000, brake=0.000000, hand_brake=False, reverse=True, manual_gear_shift=False, gear=0)\n",
      "VehicleControl(throttle=0.753589, steer=0.800000, brake=0.000000, hand_brake=False, reverse=True, manual_gear_shift=False, gear=0)\n",
      "VehicleControl(throttle=0.678100, steer=0.800000, brake=0.000000, hand_brake=False, reverse=True, manual_gear_shift=False, gear=0)\n",
      "VehicleControl(throttle=0.678100, steer=0.800000, brake=0.000000, hand_brake=False, reverse=True, manual_gear_shift=False, gear=0)\n",
      "VehicleControl(throttle=0.514832, steer=0.800000, brake=0.000000, hand_brake=False, reverse=True, manual_gear_shift=False, gear=0)\n",
      "78342.5\n",
      "76969.5\n",
      "74874.5\n",
      "73765.5\n",
      "69696.0\n",
      "68457.0\n",
      "64835.5\n",
      "62338.0\n",
      "58135.0\n",
      "52848.0\n",
      "48471.5\n",
      "43281.5\n",
      "32578.5\n",
      "17566.0\n",
      "3445.0\n"
     ]
    },
    {
     "data": {
      "text/plain": [
       "True"
      ]
     },
     "execution_count": 8,
     "metadata": {},
     "output_type": "execute_result"
    }
   ],
   "source": [
    "target_speed_mps = 10 / 3.6\n",
    "\n",
    "control = carla.VehicleControl()\n",
    "control.steer = 0.0\n",
    "control.brake = 0.0\n",
    "target_distance = 1.6\n",
    "distance_travelled = 0.0\n",
    "\n",
    "while run:\n",
    "    current_velocity = vehicle.get_velocity()\n",
    "    current_speed_mps = current_velocity.length()\n",
    "    control = controllo_velocita(control, target_speed_mps, current_speed_mps)\n",
    "    vehicle.apply_control(control)\n",
    "    time.sleep(0.1)\n",
    "while distance_travelled < target_distance:\n",
    "    current_velocity = vehicle.get_velocity()\n",
    "    current_speed_mps = current_velocity.length()\n",
    "    distance_travelled += current_speed_mps * 0.05\n",
    "    control = controllo_velocita(control, target_speed_mps, current_speed_mps)\n",
    "    vehicle.apply_control(control)\n",
    "    time.sleep(0.05)\n",
    "control.brake = 1.0\n",
    "control.throttle = 0.0\n",
    "vehicle.apply_control(control)\n",
    "control.brake = 0.0\n",
    "control.reverse = True\n",
    "control.steer = 0.8\n",
    "distance_travelled = 0.0\n",
    "target_distance = 3.5\n",
    "while distance_travelled < target_distance:\n",
    "    current_velocity = vehicle.get_velocity()\n",
    "    current_speed_mps = current_velocity.length()\n",
    "    distance_travelled += current_speed_mps * 0.05\n",
    "    print(control)\n",
    "    control = controllo_velocita(control, target_speed_mps, current_speed_mps)\n",
    "    vehicle.apply_control(control)\n",
    "    time.sleep(0.05)\n",
    "control.brake = 1.0\n",
    "control.throttle = 0.0\n",
    "vehicle.apply_control(control)\n",
    "camera_rigth.destroy()\n",
    "image1 = None\n",
    "def camera_callback2(image):\n",
    "    global image1\n",
    "    image1 =  np.reshape(np.copy(image.raw_data), (image.height, image.width, 4))\n",
    "camera_retro.listen(lambda image: camera_callback2(image))\n",
    "time.sleep(0.05)\n",
    "while True:\n",
    "    if control_retro(vehicle, find_point(image1), control):\n",
    "        break\n",
    "control.brake = 1.0\n",
    "control.throttle = 0.0\n",
    "vehicle.apply_control(control)\n",
    "time.sleep(4.1)\n",
    "camera_retro.destroy()\n",
    "vehicle.destroy()"
   ]
  }
 ],
 "metadata": {
  "kernelspec": {
   "display_name": "carla-env",
   "language": "python",
   "name": "python3"
  },
  "language_info": {
   "codemirror_mode": {
    "name": "ipython",
    "version": 3
   },
   "file_extension": ".py",
   "mimetype": "text/x-python",
   "name": "python",
   "nbconvert_exporter": "python",
   "pygments_lexer": "ipython3",
   "version": "3.7.12"
  }
 },
 "nbformat": 4,
 "nbformat_minor": 2
}
