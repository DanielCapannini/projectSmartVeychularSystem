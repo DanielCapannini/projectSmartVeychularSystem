{
 "cells": [
  {
   "cell_type": "code",
   "execution_count": 1,
   "metadata": {},
   "outputs": [
    {
     "name": "stdout",
     "output_type": "stream",
     "text": [
      "pygame 2.6.1 (SDL 2.28.4, Python 3.7.12)\n",
      "Hello from the pygame community. https://www.pygame.org/contribute.html\n"
     ]
    }
   ],
   "source": [
    "import carla, time, pygame, math, random, cv2\n",
    "import numpy as np\n",
    "from Utility import spawn_camera, preprocess_image, recognize_parking, control_retro, speed_control, find_point"
   ]
  },
  {
   "cell_type": "code",
   "execution_count": 2,
   "metadata": {},
   "outputs": [],
   "source": [
    "client = carla.Client('localhost', 2000)\n",
    "client.set_timeout(20.0)\n",
    "client.load_world('Town05')\n",
    "world = client.get_world()\n",
    "spectator = world.get_spectator()"
   ]
  },
  {
   "cell_type": "code",
   "execution_count": 3,
   "metadata": {},
   "outputs": [],
   "source": [
    "spawn_point = carla.Transform(carla.Location(-1, -25, 2), carla.Rotation(yaw=-90))"
   ]
  },
  {
   "cell_type": "code",
   "execution_count": null,
   "metadata": {},
   "outputs": [],
   "source": [
    "spawn_point = carla.Transform(carla.Location(-2, -25, 2), carla.Rotation(yaw=-90))"
   ]
  },
  {
   "cell_type": "code",
   "execution_count": 13,
   "metadata": {},
   "outputs": [],
   "source": [
    "spawn_point = carla.Transform(carla.Location(-17.5, -45, 2), carla.Rotation(yaw=90))"
   ]
  },
  {
   "cell_type": "code",
   "execution_count": 75,
   "metadata": {},
   "outputs": [],
   "source": [
    "spawn_point = carla.Transform(carla.Location(-18, -25, 2), carla.Rotation(yaw=90))"
   ]
  },
  {
   "cell_type": "code",
   "execution_count": 13,
   "metadata": {},
   "outputs": [],
   "source": [
    "spawn_point = carla.Transform(carla.Location(-19, -30, 2), carla.Rotation(yaw=90))"
   ]
  },
  {
   "cell_type": "code",
   "execution_count": 14,
   "metadata": {},
   "outputs": [],
   "source": [
    "#ostacolo\n",
    "blueprint_library = world.get_blueprint_library()\n",
    "vehicle_bp = blueprint_library.filter('vehicle.*')[0]\n",
    "spawn_point1 = carla.Transform(carla.Location(-19, -25, 2), carla.Rotation(yaw=90))\n",
    "vehicle = world.spawn_actor(vehicle_bp, spawn_point1)\n",
    "camera_retro = spawn_camera(attach_to=vehicle, world=world, transform=carla.Transform(carla.Location(x=-1.6, z=1.9), carla.Rotation(yaw=180, pitch=-40)))\n",
    "camera_rigth = spawn_camera(attach_to=vehicle, world=world, transform=carla.Transform(carla.Location(x=-0.8, y=0.5, z=1.9), carla.Rotation(yaw=90, pitch=-40)))\n",
    "run = True"
   ]
  },
  {
   "cell_type": "code",
   "execution_count": 76,
   "metadata": {},
   "outputs": [],
   "source": [
    "#ostacolo2\n",
    "blueprint_library = world.get_blueprint_library()\n",
    "vehicle_bp = blueprint_library.filter('vehicle.*')[0]\n",
    "spawn_point1 = carla.Transform(carla.Location(-22, -24.4, 2), carla.Rotation(yaw=180))\n",
    "vehicle = world.spawn_actor(vehicle_bp, spawn_point1)\n",
    "camera_retro = spawn_camera(attach_to=vehicle, world=world, transform=carla.Transform(carla.Location(x=-1.6, z=1.9), carla.Rotation(yaw=180, pitch=-40)))\n",
    "camera_rigth = spawn_camera(attach_to=vehicle, world=world, transform=carla.Transform(carla.Location(x=-0.8, y=0.5, z=1.9), carla.Rotation(yaw=90, pitch=-40)))\n",
    "run = True"
   ]
  },
  {
   "cell_type": "code",
   "execution_count": 4,
   "metadata": {},
   "outputs": [],
   "source": [
    "blueprint_library = world.get_blueprint_library()\n",
    "vehicle_bp = blueprint_library.filter('vehicle.*')[0]\n",
    "vehicle = world.spawn_actor(vehicle_bp, spawn_point)\n",
    "camera_retro = spawn_camera(attach_to=vehicle, world=world, transform=carla.Transform(carla.Location(x=-1.6, z=1.9), carla.Rotation(yaw=180, pitch=-40)))\n",
    "camera_rigth = spawn_camera(attach_to=vehicle, world=world, transform=carla.Transform(carla.Location(x=-0.8, y=0.5, z=1.9), carla.Rotation(yaw=90, pitch=-40)))\n",
    "run = True"
   ]
  },
  {
   "cell_type": "code",
   "execution_count": 5,
   "metadata": {},
   "outputs": [],
   "source": [
    "radar_bp = world.get_blueprint_library().find('sensor.other.radar')\n",
    "radar_bp.set_attribute('horizontal_fov', '10')  # Horizontal field of view\n",
    "radar_bp.set_attribute('vertical_fov', '10')    # Vertical field of view\n",
    "radar_bp.set_attribute('range', '20')           # Maximum range\n",
    "radar_transform = carla.Transform(carla.Location(x=2.0, z=1.0))\n",
    "radar = world.spawn_actor(radar_bp, radar_transform, attach_to=vehicle)"
   ]
  },
  {
   "cell_type": "code",
   "execution_count": 6,
   "metadata": {},
   "outputs": [],
   "source": [
    "def camera_rigth_callback(image):\n",
    "    global run\n",
    "    prediction=recognize_parking(preprocess_image(np.reshape(np.copy(image.raw_data), (image.height, image.width, 4))))\n",
    "    if prediction > 0.6:\n",
    "        run = False\n",
    "camera_rigth.listen(lambda image: camera_rigth_callback(image))\n",
    "\n",
    "min_ttc = float('inf')\n",
    "def radar_callback(data: carla.RadarMeasurement):\n",
    "    global min_ttc, min_distance\n",
    "    min_ttc = float('inf')\n",
    "    for detection, i in zip(data, range(len(data))):\n",
    "        absolute_speed = abs(detection.velocity)\n",
    "        # Calculate TTC\n",
    "        if absolute_speed != 0:\n",
    "            ttc = detection.depth / absolute_speed\n",
    "            if ttc < min_ttc:\n",
    "                min_ttc = ttc\n",
    "\n",
    "# Register the radar callback\n",
    "radar.listen(radar_callback)"
   ]
  },
  {
   "cell_type": "code",
   "execution_count": 7,
   "metadata": {},
   "outputs": [
    {
     "name": "stdout",
     "output_type": "stream",
     "text": [
      "VehicleControl(throttle=0.000000, steer=0.800000, brake=0.000000, hand_brake=False, reverse=True, manual_gear_shift=False, gear=0)\n",
      "VehicleControl(throttle=0.000000, steer=0.800000, brake=0.029363, hand_brake=False, reverse=True, manual_gear_shift=False, gear=0)\n",
      "VehicleControl(throttle=0.798003, steer=0.800000, brake=0.000000, hand_brake=False, reverse=True, manual_gear_shift=False, gear=0)\n",
      "VehicleControl(throttle=0.798003, steer=0.800000, brake=0.000000, hand_brake=False, reverse=True, manual_gear_shift=False, gear=0)\n",
      "VehicleControl(throttle=1.000000, steer=0.800000, brake=0.000000, hand_brake=False, reverse=True, manual_gear_shift=False, gear=0)\n",
      "VehicleControl(throttle=1.000000, steer=0.800000, brake=0.000000, hand_brake=False, reverse=True, manual_gear_shift=False, gear=0)\n",
      "VehicleControl(throttle=1.000000, steer=0.800000, brake=0.000000, hand_brake=False, reverse=True, manual_gear_shift=False, gear=0)\n",
      "VehicleControl(throttle=1.000000, steer=0.800000, brake=0.000000, hand_brake=False, reverse=True, manual_gear_shift=False, gear=0)\n",
      "VehicleControl(throttle=1.000000, steer=0.800000, brake=0.000000, hand_brake=False, reverse=True, manual_gear_shift=False, gear=0)\n",
      "VehicleControl(throttle=1.000000, steer=0.800000, brake=0.000000, hand_brake=False, reverse=True, manual_gear_shift=False, gear=0)\n",
      "VehicleControl(throttle=1.000000, steer=0.800000, brake=0.000000, hand_brake=False, reverse=True, manual_gear_shift=False, gear=0)\n",
      "VehicleControl(throttle=1.000000, steer=0.800000, brake=0.000000, hand_brake=False, reverse=True, manual_gear_shift=False, gear=0)\n",
      "VehicleControl(throttle=0.926165, steer=0.800000, brake=0.000000, hand_brake=False, reverse=True, manual_gear_shift=False, gear=0)\n",
      "VehicleControl(throttle=0.926165, steer=0.800000, brake=0.000000, hand_brake=False, reverse=True, manual_gear_shift=False, gear=0)\n",
      "VehicleControl(throttle=0.703349, steer=0.800000, brake=0.000000, hand_brake=False, reverse=True, manual_gear_shift=False, gear=0)\n",
      "VehicleControl(throttle=0.618728, steer=0.800000, brake=0.000000, hand_brake=False, reverse=True, manual_gear_shift=False, gear=0)\n",
      "VehicleControl(throttle=0.577565, steer=0.800000, brake=0.000000, hand_brake=False, reverse=True, manual_gear_shift=False, gear=0)\n",
      "VehicleControl(throttle=0.577565, steer=0.800000, brake=0.000000, hand_brake=False, reverse=True, manual_gear_shift=False, gear=0)\n",
      "VehicleControl(throttle=0.000000, steer=0.800000, brake=0.015925, hand_brake=False, reverse=True, manual_gear_shift=False, gear=0)\n",
      "VehicleControl(throttle=0.000000, steer=0.800000, brake=0.015446, hand_brake=False, reverse=True, manual_gear_shift=False, gear=0)\n",
      "VehicleControl(throttle=0.000000, steer=0.800000, brake=0.015446, hand_brake=False, reverse=True, manual_gear_shift=False, gear=0)\n",
      "VehicleControl(throttle=0.620366, steer=0.800000, brake=0.000000, hand_brake=False, reverse=True, manual_gear_shift=False, gear=0)\n",
      "VehicleControl(throttle=0.688837, steer=0.800000, brake=0.000000, hand_brake=False, reverse=True, manual_gear_shift=False, gear=0)\n",
      "VehicleControl(throttle=0.720596, steer=0.800000, brake=0.000000, hand_brake=False, reverse=True, manual_gear_shift=False, gear=0)\n",
      "VehicleControl(throttle=0.720596, steer=0.800000, brake=0.000000, hand_brake=False, reverse=True, manual_gear_shift=False, gear=0)\n",
      "VehicleControl(throttle=0.698517, steer=0.800000, brake=0.000000, hand_brake=False, reverse=True, manual_gear_shift=False, gear=0)\n",
      "VehicleControl(throttle=0.676390, steer=0.800000, brake=0.000000, hand_brake=False, reverse=True, manual_gear_shift=False, gear=0)\n",
      "VehicleControl(throttle=0.652672, steer=0.800000, brake=0.000000, hand_brake=False, reverse=True, manual_gear_shift=False, gear=0)\n",
      "VehicleControl(throttle=0.628401, steer=0.800000, brake=0.000000, hand_brake=False, reverse=True, manual_gear_shift=False, gear=0)\n",
      "VehicleControl(throttle=0.557621, steer=0.800000, brake=0.000000, hand_brake=False, reverse=True, manual_gear_shift=False, gear=0)\n",
      "VehicleControl(throttle=0.521332, steer=0.800000, brake=0.000000, hand_brake=False, reverse=True, manual_gear_shift=False, gear=0)\n",
      "VehicleControl(throttle=0.521332, steer=0.800000, brake=0.000000, hand_brake=False, reverse=True, manual_gear_shift=False, gear=0)\n",
      "VehicleControl(throttle=0.000000, steer=0.800000, brake=0.014402, hand_brake=False, reverse=True, manual_gear_shift=False, gear=0)\n",
      "VehicleControl(throttle=0.000000, steer=0.800000, brake=0.012377, hand_brake=False, reverse=True, manual_gear_shift=False, gear=0)\n",
      "77555.0\n",
      "76030.0\n",
      "74233.5\n",
      "73272.5\n",
      "70135.0\n",
      "68808.0\n",
      "65938.5\n",
      "65160.5\n",
      "62912.5\n",
      "61620.5\n",
      "57633.5\n",
      "55422.5\n",
      "49731.0\n",
      "47246.5\n",
      "41159.0\n",
      "38299.5\n",
      "29570.5\n",
      "24595.5\n",
      "10856.5\n",
      "4659.5\n"
     ]
    },
    {
     "data": {
      "text/plain": [
       "True"
      ]
     },
     "execution_count": 7,
     "metadata": {},
     "output_type": "execute_result"
    }
   ],
   "source": [
    "target_speed_mps = 10 / 3.6\n",
    "\n",
    "control = carla.VehicleControl()\n",
    "control.steer = 0.0\n",
    "control.brake = 0.0\n",
    "target_distance = 1.1\n",
    "distance_travelled = 0.0\n",
    "\n",
    "n_listem_break=0\n",
    "ttc_threshold = 1.0\n",
    "collision = False\n",
    "\n",
    "while run:\n",
    "    current_velocity = vehicle.get_velocity()\n",
    "    current_speed_mps = current_velocity.length()\n",
    "    control = speed_control(control, target_speed_mps, current_speed_mps)\n",
    "    vehicle.apply_control(control)\n",
    "    if min_ttc < ttc_threshold:\n",
    "            control = carla.VehicleControl()\n",
    "            control.brake = 1.0  \n",
    "            vehicle.apply_control(control)\n",
    "            print(\"Emergency braking activated!\")\n",
    "            n_listem_break += 1\n",
    "            if n_listem_break>10:\n",
    "                collision = True\n",
    "                break\n",
    "    time.sleep(0.05)\n",
    "while distance_travelled < target_distance and not collision:\n",
    "    current_velocity = vehicle.get_velocity()\n",
    "    current_speed_mps = current_velocity.length()\n",
    "    distance_travelled += current_speed_mps * 0.05\n",
    "    control = speed_control(control, target_speed_mps, current_speed_mps)\n",
    "    vehicle.apply_control(control)\n",
    "    time.sleep(0.05)\n",
    "control.brake = 1.0\n",
    "control.throttle = 0.0\n",
    "vehicle.apply_control(control)\n",
    "control.brake = 0.0\n",
    "control.reverse = True\n",
    "control.steer = 0.8\n",
    "distance_travelled = 0.0\n",
    "target_distance = 3.5\n",
    "while distance_travelled < target_distance and not collision:\n",
    "    current_velocity = vehicle.get_velocity()\n",
    "    current_speed_mps = current_velocity.length()\n",
    "    distance_travelled += current_speed_mps * 0.05\n",
    "    print(control)\n",
    "    control = speed_control(control, target_speed_mps, current_speed_mps)\n",
    "    vehicle.apply_control(control)\n",
    "    time.sleep(0.05)\n",
    "control.brake = 1.0\n",
    "control.throttle = 0.0\n",
    "vehicle.apply_control(control)\n",
    "camera_rigth.destroy()\n",
    "image1 = None\n",
    "def camera_callback2(image):\n",
    "    global image1\n",
    "    image1 =  np.reshape(np.copy(image.raw_data), (image.height, image.width, 4))\n",
    "camera_retro.listen(lambda image: camera_callback2(image))\n",
    "time.sleep(0.15)\n",
    "while True:\n",
    "    if control_retro(vehicle, find_point(image1), control, target_speed_mps=6/3.6):\n",
    "        break\n",
    "control.brake = 1.0\n",
    "control.throttle = 0.0\n",
    "vehicle.apply_control(control)\n",
    "time.sleep(4.1)\n",
    "camera_retro.destroy()\n",
    "vehicle.destroy()"
   ]
  }
 ],
 "metadata": {
  "kernelspec": {
   "display_name": "carla-env",
   "language": "python",
   "name": "python3"
  },
  "language_info": {
   "codemirror_mode": {
    "name": "ipython",
    "version": 3
   },
   "file_extension": ".py",
   "mimetype": "text/x-python",
   "name": "python",
   "nbconvert_exporter": "python",
   "pygments_lexer": "ipython3",
   "version": "3.7.12"
  }
 },
 "nbformat": 4,
 "nbformat_minor": 2
}
