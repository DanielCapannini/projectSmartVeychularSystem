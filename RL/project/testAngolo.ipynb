{
 "cells": [
  {
   "cell_type": "code",
   "execution_count": 1,
   "metadata": {},
   "outputs": [],
   "source": [
    "import cv2\n",
    "import numpy as np"
   ]
  },
  {
   "cell_type": "code",
   "execution_count": 2,
   "metadata": {},
   "outputs": [],
   "source": [
    "def preprocess_image(image):\n",
    "    gray_image = cv2.cvtColor(image, cv2.COLOR_BGR2GRAY)\n",
    "    adaptive_thresh = cv2.adaptiveThreshold(gray_image, 255, cv2.ADAPTIVE_THRESH_GAUSSIAN_C,\n",
    "                                           cv2.THRESH_BINARY, 11, 2)\n",
    "    kernel = np.ones((3, 13), np.uint8)\n",
    "    opened_mask = cv2.morphologyEx(adaptive_thresh, cv2.MORPH_OPEN, kernel)\n",
    "    contours, _ = cv2.findContours(opened_mask, cv2.RETR_EXTERNAL, cv2.CHAIN_APPROX_SIMPLE)\n",
    "    final_mask = np.zeros_like(opened_mask)\n",
    "    for contour in contours:\n",
    "        if cv2.contourArea(contour) >= 1500:\n",
    "            cv2.drawContours(final_mask, [contour], -1, (255), thickness=cv2.FILLED)\n",
    "    return final_mask"
   ]
  },
  {
   "cell_type": "code",
   "execution_count": 6,
   "metadata": {},
   "outputs": [],
   "source": [
    "def angle_calculation(image):\n",
    "    imageP = preprocess_image(image)\n",
    "    edges = cv2.Canny(imageP, 50, 150)\n",
    "    lines = cv2.HoughLines(edges, 1, np.pi / 180, threshold=100)\n",
    "    min_angle = 75\n",
    "    max_angle = 105\n",
    "    min_angle_rad = np.deg2rad(min_angle)\n",
    "    max_angle_rad = np.deg2rad(max_angle)\n",
    "    theta_sum = 0\n",
    "    line_count = 0\n",
    "    for line in lines:\n",
    "        rho, theta = line[0]\n",
    "        if min_angle_rad <= theta <= max_angle_rad:\n",
    "            theta_sum += theta\n",
    "            line_count += 1\n",
    "    if  line_count > 0:\n",
    "        theta_mean = theta_sum / line_count\n",
    "        theta_mean_deg = np.rad2deg(theta_mean) \n",
    "        if theta_mean_deg > 90:\n",
    "            return theta_mean_deg+5\n",
    "        if theta_mean_deg < 90:\n",
    "            return theta_mean_deg-2\n",
    "        return theta_mean_deg \n",
    "    print(\"cane\")\n",
    "    return None"
   ]
  },
  {
   "cell_type": "code",
   "execution_count": 13,
   "metadata": {},
   "outputs": [
    {
     "name": "stdout",
     "output_type": "stream",
     "text": [
      "87.80000090520186\n"
     ]
    }
   ],
   "source": [
    "image_path = \"prova.png\"\n",
    "image = cv2.imread(image_path)\n",
    "\n",
    "print(angle_calculation(image))\n",
    "img_matches = preprocess_image(image)\n",
    "\n",
    "cv2.imshow('Matches', img_matches)\n",
    "cv2.waitKey(0)\n",
    "cv2.destroyAllWindows()"
   ]
  }
 ],
 "metadata": {
  "kernelspec": {
   "display_name": "carla-env",
   "language": "python",
   "name": "python3"
  },
  "language_info": {
   "codemirror_mode": {
    "name": "ipython",
    "version": 3
   },
   "file_extension": ".py",
   "mimetype": "text/x-python",
   "name": "python",
   "nbconvert_exporter": "python",
   "pygments_lexer": "ipython3",
   "version": "3.7.16"
  }
 },
 "nbformat": 4,
 "nbformat_minor": 2
}
