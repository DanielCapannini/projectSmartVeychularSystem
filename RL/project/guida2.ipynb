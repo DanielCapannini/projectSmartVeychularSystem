{
 "cells": [
  {
   "cell_type": "code",
   "execution_count": 1,
   "metadata": {},
   "outputs": [
    {
     "name": "stdout",
     "output_type": "stream",
     "text": [
      "pygame 2.6.1 (SDL 2.28.4, Python 3.7.12)\n",
      "Hello from the pygame community. https://www.pygame.org/contribute.html\n"
     ]
    }
   ],
   "source": [
    "import carla, time, pygame, math, random, cv2\n",
    "import numpy as np\n",
    "from Utility import spawn_camera, spawn_vehicle, preprocess_image, controllo_velocita"
   ]
  },
  {
   "cell_type": "code",
   "execution_count": 2,
   "metadata": {},
   "outputs": [],
   "source": [
    "client = carla.Client('localhost', 2000)\n",
    "client.set_timeout(20.0)\n",
    "client.load_world('Town05')\n",
    "world = client.get_world()\n",
    "spectator = world.get_spectator()"
   ]
  },
  {
   "cell_type": "code",
   "execution_count": 25,
   "metadata": {},
   "outputs": [],
   "source": [
    "#macchina spawnata tipo 1\n",
    "blueprint_library = world.get_blueprint_library()\n",
    "vehicle_bp = blueprint_library.filter('vehicle.*')[0]\n",
    "spawn_point = carla.Transform(carla.Location(-2, -41.3, 2), carla.Rotation(yaw=-90))\n",
    "vehicle = world.spawn_actor(vehicle_bp, spawn_point)\n",
    "camera_retro = spawn_camera(attach_to=vehicle, world=world, transform=carla.Transform(carla.Location(x=-1.6, z=1.9), carla.Rotation(yaw=180, pitch=-40)))\n",
    "camera_rigth = spawn_camera(attach_to=vehicle, world=world, transform=carla.Transform(carla.Location(x=-1.6, z=1.9), carla.Rotation(yaw=90, pitch=-40)))\n"
   ]
  },
  {
   "cell_type": "code",
   "execution_count": 26,
   "metadata": {},
   "outputs": [
    {
     "name": "stdout",
     "output_type": "stream",
     "text": [
      "Parcheggio completato!\n",
      "Distruggendo il veicolo...\n",
      "Veicolo rimosso.\n"
     ]
    }
   ],
   "source": [
    "# Configura i controlli iniziali\n",
    "control = carla.VehicleControl()\n",
    "control.reverse = False  # Retromarcia\n",
    "target_speed_mps = 10 / 3.6\n",
    "\n",
    "# Passi per il parcheggio\n",
    "PARKING_STEP_0_DISTANCE = 1.3\n",
    "PARKING_STEP_1_DISTANCE = 1.8  # Tempo per sterzare all'indietro\n",
    "PARKING_STEP_2_DISTANCE = 1.5  # Tempo per raddrizzare\n",
    "\n",
    "distance_travelled = 0.0\n",
    "\n",
    "try:\n",
    "    control.steer = -0.5  # Sterzata a destra (positivo per destra)\n",
    "    while distance_travelled < PARKING_STEP_0_DISTANCE:\n",
    "        current_velocity = vehicle.get_velocity()\n",
    "        current_speed_mps = current_velocity.length()\n",
    "        distance_travelled += current_speed_mps * 0.05\n",
    "        control = controllo_velocita(control, target_speed_mps, current_speed_mps)\n",
    "        vehicle.apply_control(control)\n",
    "        time.sleep(0.1)\n",
    "\n",
    "    # Step 1: Sterzata iniziale per entrare nel parcheggio\n",
    "    control.steer = 0.5  # Sterzata a destra (positivo per destra)\n",
    "    control.reverse = True\n",
    "    distance_travelled = 0.0\n",
    "    while distance_travelled < PARKING_STEP_1_DISTANCE:\n",
    "        current_velocity = vehicle.get_velocity()\n",
    "        current_speed_mps = current_velocity.length()\n",
    "        distance_travelled += current_speed_mps * 0.05\n",
    "        control = controllo_velocita(control, target_speed_mps, current_speed_mps)\n",
    "        vehicle.apply_control(control)\n",
    "        time.sleep(0.1)\n",
    "\n",
    "    # Step 3: Retromarcia diritta per completare il parcheggio\n",
    "    control.steer = 0.0  # Sterzo neutro\n",
    "    distance_travelled = 0.0\n",
    "    while distance_travelled < PARKING_STEP_2_DISTANCE:\n",
    "        current_velocity = vehicle.get_velocity()\n",
    "        current_speed_mps = current_velocity.length()\n",
    "        distance_travelled += current_speed_mps * 0.05\n",
    "        control = controllo_velocita(control, target_speed_mps, current_speed_mps)\n",
    "        vehicle.apply_control(control)\n",
    "        time.sleep(0.1)\n",
    "\n",
    "    # Ferma il veicolo\n",
    "    control.throttle = 0.0\n",
    "    control.brake = 1.0\n",
    "    vehicle.apply_control(control)\n",
    "\n",
    "    print(\"Parcheggio completato!\")\n",
    "\n",
    "    time.sleep(3)\n",
    "\n",
    "finally:\n",
    "    # Despawn del veicolo\n",
    "    if vehicle is not None:\n",
    "        print(\"Distruggendo il veicolo...\")\n",
    "        vehicle.destroy()\n",
    "        print(\"Veicolo rimosso.\")"
   ]
  }
 ],
 "metadata": {
  "kernelspec": {
   "display_name": "carla-env",
   "language": "python",
   "name": "python3"
  },
  "language_info": {
   "codemirror_mode": {
    "name": "ipython",
    "version": 3
   },
   "file_extension": ".py",
   "mimetype": "text/x-python",
   "name": "python",
   "nbconvert_exporter": "python",
   "pygments_lexer": "ipython3",
   "version": "3.7.12"
  }
 },
 "nbformat": 4,
 "nbformat_minor": 2
}
