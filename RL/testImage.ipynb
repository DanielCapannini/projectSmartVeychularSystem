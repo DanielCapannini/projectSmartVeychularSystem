{
 "cells": [
  {
   "cell_type": "code",
   "id": "initial_id",
   "metadata": {
    "collapsed": true,
    "ExecuteTime": {
     "end_time": "2024-11-29T09:13:18.268679Z",
     "start_time": "2024-11-29T09:13:18.064421Z"
    }
   },
   "source": [
    "import time, math, random, cv2\n",
    "import numpy as np"
   ],
   "outputs": [],
   "execution_count": 1
  },
  {
   "metadata": {
    "ExecuteTime": {
     "end_time": "2024-11-29T09:13:26.674124Z",
     "start_time": "2024-11-29T09:13:22.065323Z"
    }
   },
   "cell_type": "code",
   "source": [
    "image = cv2.imread(\"../33271.png\")\n",
    "gray_image = cv2.cvtColor(image, cv2.COLOR_BGR2GRAY)\n",
    "x_start, y_start = 0, 240  # Top-left corner\n",
    "x_end, y_end = 600, 800      # Bottom-right corner\n",
    "gray_image = gray_image[y_start:y_end, x_start:x_end]\n",
    "_, thresholded = cv2.threshold(gray_image, 0, 255, cv2.THRESH_BINARY + cv2.THRESH_OTSU)\n",
    "white_pixels = np.where(thresholded == 255)\n",
    "sorted_pixels = np.sort(gray_image[white_pixels])\n",
    "threshold_value = sorted_pixels[int(0.85 * len(sorted_pixels))]\n",
    "_, custom_thresholded = cv2.threshold(gray_image, threshold_value, 255, cv2.THRESH_BINARY)\n",
    "mask = np.zeros_like(gray_image)\n",
    "mask[custom_thresholded == 255] = gray_image[custom_thresholded == 255]\n",
    "kernel = np.ones((3, 3), np.uint8)\n",
    "image_closed = cv2.morphologyEx(mask, cv2.MORPH_CLOSE, kernel)\n",
    "image_opened = cv2.morphologyEx(image_closed, cv2.MORPH_OPEN, (5,5))\n",
    "image_opened[image_opened > 0] = 255\n",
    "cv2.imshow(\"Result Image\", image_opened)\n",
    "cv2.waitKey(0)\n",
    "cv2.destroyAllWindows()"
   ],
   "id": "a3fee5e50c383a6a",
   "outputs": [],
   "execution_count": 2
  }
 ],
 "metadata": {
  "kernelspec": {
   "display_name": "Python 3",
   "language": "python",
   "name": "python3"
  },
  "language_info": {
   "codemirror_mode": {
    "name": "ipython",
    "version": 2
   },
   "file_extension": ".py",
   "mimetype": "text/x-python",
   "name": "python",
   "nbconvert_exporter": "python",
   "pygments_lexer": "ipython2",
   "version": "2.7.6"
  }
 },
 "nbformat": 4,
 "nbformat_minor": 5
}
