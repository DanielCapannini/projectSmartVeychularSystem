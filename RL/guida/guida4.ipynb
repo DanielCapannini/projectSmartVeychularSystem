{
 "cells": [
  {
   "cell_type": "code",
   "execution_count": 6,
   "metadata": {},
   "outputs": [],
   "source": [
    "import carla, time, pygame, math, random, cv2\n",
    "import numpy as np\n",
    "from Common import spawn_camera, spawn_vehicle, preprocess_image, spawn_camera_depth, riconosci_parcheggio1"
   ]
  },
  {
   "cell_type": "code",
   "execution_count": null,
   "metadata": {},
   "outputs": [],
   "source": [
    "client = carla.Client('localhost', 2000)\n",
    "client.set_timeout(20.0)\n",
    "client.load_world('Town05')\n",
    "world = client.get_world()\n",
    "spectator = world.get_spectator()"
   ]
  },
  {
   "cell_type": "code",
   "execution_count": 57,
   "metadata": {},
   "outputs": [],
   "source": [
    "blueprint_library = world.get_blueprint_library()\n",
    "vehicle_bp = blueprint_library.filter('vehicle.*')[0]\n",
    "spawn_point = carla.Transform(carla.Location(-1, -40, 2), carla.Rotation(yaw=-90))\n",
    "vehicle = world.spawn_actor(vehicle_bp, spawn_point)\n",
    "camera_retro = spawn_camera(attach_to=vehicle, world=world, transform=carla.Transform(carla.Location(x=-1.6, z=1.9), carla.Rotation(yaw=180, pitch=-40)))\n",
    "camera_rigth = spawn_camera(attach_to=vehicle, world=world, transform=carla.Transform(carla.Location(x=-1.6, z=1.9), carla.Rotation(yaw=90, pitch=-40)))\n",
    "run = True"
   ]
  },
  {
   "cell_type": "code",
   "execution_count": 58,
   "metadata": {},
   "outputs": [],
   "source": [
    "def camera_callback(image):\n",
    "    global run\n",
    "    prediction=riconosci_parcheggio1(preprocess_image(np.reshape(np.copy(image.raw_data), (image.height, image.width, 4))))\n",
    "    if prediction > 0.65:\n",
    "        run = False\n",
    "camera_rigth.listen(lambda image: camera_callback(image))"
   ]
  },
  {
   "cell_type": "code",
   "execution_count": 59,
   "metadata": {},
   "outputs": [
    {
     "data": {
      "text/plain": [
       "True"
      ]
     },
     "execution_count": 59,
     "metadata": {},
     "output_type": "execute_result"
    }
   ],
   "source": [
    "control = carla.VehicleControl()\n",
    "control.steer = 0.0 \n",
    "control.throttle = 0.5 \n",
    "control.brake = 0.0  \n",
    "\n",
    "while run:\n",
    "        vehicle.apply_control(control)\n",
    "        time.sleep(0.1)\n",
    "control.brake = 1.0\n",
    "control.throttle = 0.0\n",
    "vehicle.apply_control(control)\n",
    "time.sleep(1.1)\n",
    "\n",
    "control.throttle = 0.5 \n",
    "control.brake = 0.0 \n",
    "i = 0 \n",
    "while i<21:\n",
    "        vehicle.apply_control(control)\n",
    "        i=i+1\n",
    "        time.sleep(0.1)\n",
    "control.brake = 1.0\n",
    "control.throttle = 0.0\n",
    "vehicle.apply_control(control)\n",
    "time.sleep(0.1)\n",
    "\n",
    "i = 0 \n",
    "while i<83:\n",
    "        control = carla.VehicleControl(throttle=0.3, steer=0.8, brake=0.0, reverse=True)\n",
    "        vehicle.apply_control(control)\n",
    "        i=i+1\n",
    "        time.sleep(0.1)\n",
    "control = carla.VehicleControl(throttle=0.0, steer=0.0, brake=1.0, reverse=False)\n",
    "vehicle.apply_control(control)\n",
    "time.sleep(4.1)\n",
    "camera_retro.destroy()\n",
    "camera_rigth.destroy()\n",
    "vehicle.destroy()"
   ]
  },
  {
   "cell_type": "code",
   "execution_count": 19,
   "metadata": {},
   "outputs": [
    {
     "data": {
      "text/plain": [
       "True"
      ]
     },
     "execution_count": 19,
     "metadata": {},
     "output_type": "execute_result"
    }
   ],
   "source": [
    "import carla\n",
    "import time\n",
    "\n",
    "# Connetti al simulatore CARLA\n",
    "client = carla.Client('localhost', 2000)\n",
    "client.set_timeout(10.0)\n",
    "\n",
    "# Ottieni il mondo\n",
    "world = client.get_world()\n",
    "\n",
    "# Crea un veicolo (ad esempio, una macchina)\n",
    "blueprint_library = world.get_blueprint_library()\n",
    "vehicle_bp = blueprint_library.find('vehicle.tesla.model3')  # Sostituisci con il modello di veicolo desiderato\n",
    "spawn_point = carla.Transform(carla.Location(-1, -20, 2), carla.Rotation(yaw=-90))\n",
    "vehicle = world.spawn_actor(vehicle_bp, spawn_point)\n",
    "\n",
    "# Imposta il controllo per far muovere il veicolo in avanti\n",
    "def move_vehicle_forward(distance):\n",
    "    # Calcola il tempo necessario in base alla velocità del veicolo\n",
    "    velocity = 10  # Imposta la velocità in m/s (esempio 10 m/s)\n",
    "    time_to_travel = distance / velocity  # Tempo in secondi\n",
    "\n",
    "    # Imposta il controllo\n",
    "    control = carla.VehicleControl()\n",
    "    control.throttle = 0.50  # Accelera al massimo\n",
    "    control.steering = 0.0  # Mantieni la direzione diritta\n",
    "\n",
    "    vehicle.apply_control(control)\n",
    "\n",
    "    # Mantieni la velocità per il tempo calcolato\n",
    "    time.sleep(time_to_travel)\n",
    "\n",
    "    # Arresta il veicolo dopo aver percorso la distanza\n",
    "    control.throttle = 0.0\n",
    "    vehicle.apply_control(control)\n",
    "\n",
    "# Muovi il veicolo di una distanza x (ad esempio 50 metri)\n",
    "distance = 20  # Imposta la distanza che il veicolo deve percorrere\n",
    "move_vehicle_forward(distance)\n",
    "\n",
    "# Disconnetti il veicolo\n",
    "vehicle.destroy()\n"
   ]
  }
 ],
 "metadata": {
  "kernelspec": {
   "display_name": "carla-env",
   "language": "python",
   "name": "python3"
  },
  "language_info": {
   "codemirror_mode": {
    "name": "ipython",
    "version": 3
   },
   "file_extension": ".py",
   "mimetype": "text/x-python",
   "name": "python",
   "nbconvert_exporter": "python",
   "pygments_lexer": "ipython3",
   "version": "3.7.12"
  }
 },
 "nbformat": 4,
 "nbformat_minor": 2
}
