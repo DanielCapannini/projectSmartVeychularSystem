{
 "cells": [
  {
   "cell_type": "code",
   "execution_count": 1,
   "metadata": {},
   "outputs": [
    {
     "name": "stdout",
     "output_type": "stream",
     "text": [
      "pygame 2.6.1 (SDL 2.28.4, Python 3.7.16)\n",
      "Hello from the pygame community. https://www.pygame.org/contribute.html\n"
     ]
    }
   ],
   "source": [
    "import carla, time, pygame, math, random, cv2\n",
    "import numpy as np\n",
    "from Common import spawn_camera, spawn_vehicle, preprocess_image, spawn_camera_depth, riconosci_parcheggio1"
   ]
  },
  {
   "cell_type": "code",
   "execution_count": 11,
   "metadata": {},
   "outputs": [],
   "source": [
    "client = carla.Client('localhost', 2000)\n",
    "client.set_timeout(20.0)\n",
    "client.load_world('Town05')\n",
    "world = client.get_world()\n",
    "spectator = world.get_spectator()"
   ]
  },
  {
   "cell_type": "code",
   "execution_count": 19,
   "metadata": {},
   "outputs": [],
   "source": [
    "blueprint_library = world.get_blueprint_library()\n",
    "vehicle_bp = blueprint_library.filter('vehicle.*')[0]\n",
    "spawn_point = carla.Transform(carla.Location(-1, -25, 2), carla.Rotation(yaw=-90))\n",
    "vehicle = world.spawn_actor(vehicle_bp, spawn_point)\n",
    "camera_retro = spawn_camera(attach_to=vehicle, world=world, transform=carla.Transform(carla.Location(x=-1.6, z=1.9), carla.Rotation(yaw=180, pitch=-40)))\n",
    "camera_rigth = spawn_camera(attach_to=vehicle, world=world, transform=carla.Transform(carla.Location(x=-1.6, z=1.9), carla.Rotation(yaw=90, pitch=-40)))\n",
    "run = True"
   ]
  },
  {
   "cell_type": "code",
   "execution_count": 20,
   "metadata": {},
   "outputs": [],
   "source": [
    "def camera_callback(image):\n",
    "    global run\n",
    "    prediction=riconosci_parcheggio1(preprocess_image(np.reshape(np.copy(image.raw_data), (image.height, image.width, 4))))\n",
    "    if prediction > 0.70:\n",
    "        run = False\n",
    "camera_rigth.listen(lambda image: camera_callback(image))"
   ]
  },
  {
   "cell_type": "code",
   "execution_count": 11,
   "metadata": {},
   "outputs": [
    {
     "name": "stdout",
     "output_type": "stream",
     "text": [
      "Vector3D(x=0.000000, y=0.000000, z=0.000000)\n",
      "0.00023459320073015988\n",
      "0.0004598141531459987\n",
      "0.0004598141531459987\n",
      "6.139487959444523e-05\n",
      "0.00026056624483317137\n",
      "0.0006337303202599287\n",
      "0.0006271145539358258\n",
      "0.00015612304559908807\n",
      "0.0003752984048333019\n",
      "0.883029043674469\n",
      "1.2972145080566406\n",
      "1.3589094877243042\n",
      "1.4920395612716675\n",
      "1.4920395612716675\n",
      "1.6489211320877075\n",
      "1.6567950248718262\n",
      "1.803009271621704\n",
      "1.8142772912979126\n",
      "1.9246907234191895\n",
      "1.955527663230896\n",
      "2.0544118881225586\n",
      "2.085554361343384\n",
      "2.138209104537964\n",
      "2.1953842639923096\n",
      "2.243004560470581\n",
      "2.29241943359375\n",
      "2.325951337814331\n",
      "2.3643839359283447\n",
      "2.373872995376587\n",
      "2.435182571411133\n",
      "2.4427733421325684\n",
      "2.496809244155884\n",
      "2.500838279724121\n"
     ]
    },
    {
     "data": {
      "text/plain": [
       "True"
      ]
     },
     "execution_count": 11,
     "metadata": {},
     "output_type": "execute_result"
    }
   ],
   "source": [
    "control = carla.VehicleControl()\n",
    "control.steer = 0.0 \n",
    "control.throttle = 0.5 \n",
    "control.brake = 0.0  \n",
    "\n",
    "print(vehicle.get_velocity())\n",
    "\n",
    "while run:\n",
    "        vehicle.apply_control(control)\n",
    "        time.sleep(0.1)\n",
    "        print(vehicle.get_velocity().length())\n",
    "control.brake = 1.0\n",
    "control.throttle = 0.0\n",
    "vehicle.apply_control(control)\n",
    "time.sleep(1.1)\n",
    "\n",
    "control.throttle = 0.5 \n",
    "control.brake = 0.0 \n",
    "i = 0 \n",
    "while i<25:\n",
    "        vehicle.apply_control(control)\n",
    "        i=i+1\n",
    "        time.sleep(0.1)\n",
    "control.brake = 1.0\n",
    "control.throttle = 0.0\n",
    "vehicle.apply_control(control)\n",
    "time.sleep(0.1)\n",
    "\n",
    "i = 0 \n",
    "while i<80:\n",
    "        control = carla.VehicleControl(throttle=0.3, steer=0.8, brake=0.0, reverse=True)\n",
    "        vehicle.apply_control(control)\n",
    "        i=i+1\n",
    "        time.sleep(0.1)\n",
    "control = carla.VehicleControl(throttle=0.0, steer=0.0, brake=1.0, reverse=False)\n",
    "vehicle.apply_control(control)\n",
    "time.sleep(4.1)\n",
    "camera_retro.destroy()\n",
    "camera_rigth.destroy()\n",
    "vehicle.destroy()"
   ]
  },
  {
   "cell_type": "code",
   "execution_count": 20,
   "metadata": {},
   "outputs": [
    {
     "name": "stdout",
     "output_type": "stream",
     "text": [
      "Current speed (km/h): 0.0\n",
      "Current speed (km/h): 0.009150770120322704\n",
      "Current speed (km/h): 0.005237858835607768\n",
      "Current speed (km/h): 0.0015211646561510861\n",
      "Current speed (km/h): 0.00012958745792275296\n",
      "Current speed (km/h): 0.001701594761107117\n",
      "Current speed (km/h): 2.5298078298568725\n",
      "Current speed (km/h): 5.666091871261597\n",
      "Current speed (km/h): 7.547644329071045\n",
      "Current speed (km/h): 8.834461784362793\n",
      "Current speed (km/h): 9.699872016906738\n",
      "Current speed (km/h): 10.182388973236085\n",
      "Current speed (km/h): 10.002523040771484\n",
      "Current speed (km/h): 9.10631160736084\n",
      "Current speed (km/h): 8.340555095672608\n",
      "Current speed (km/h): 8.485519695281983\n",
      "Current speed (km/h): 8.997414779663087\n",
      "Current speed (km/h): 9.52106695175171\n",
      "Current speed (km/h): 9.91614818572998\n",
      "Current speed (km/h): 10.146154689788819\n",
      "Current speed (km/h): 9.814140129089356\n",
      "Current speed (km/h): 9.136282825469971\n",
      "Current speed (km/h): 9.096529483795166\n",
      "Current speed (km/h): 9.364295482635498\n",
      "Current speed (km/h): 9.710220623016358\n",
      "Current speed (km/h): 9.959791374206544\n",
      "Current speed (km/h): 10.107156658172608\n",
      "Location(x=-1.000160, y=-30.794756, z=0.160695)\n"
     ]
    },
    {
     "data": {
      "text/plain": [
       "True"
      ]
     },
     "execution_count": 20,
     "metadata": {},
     "output_type": "execute_result"
    }
   ],
   "source": [
    "import time\n",
    "\n",
    "# Define the target speed in m/s\n",
    "target_speed_mps = 10 / 3.6  # 15 km/h to m/s\n",
    "\n",
    "control = carla.VehicleControl()\n",
    "control.steer = 0.0\n",
    "control.brake = 0.0\n",
    "\n",
    "target_distance = 5.0\n",
    "distance_travelled = 0.0\n",
    "\n",
    "while distance_travelled < target_distance:\n",
    "    # Get the current speed of the vehicle\n",
    "    current_velocity = vehicle.get_velocity()\n",
    "    current_speed_mps = current_velocity.length()  # Speed in m/s\n",
    "    distance_travelled += current_speed_mps * 0.1\n",
    "    # Compute the speed error (difference between current and target speed)\n",
    "    speed_error = target_speed_mps - current_speed_mps\n",
    "    \n",
    "    # Control logic to adjust the throttle\n",
    "    if speed_error > 0:\n",
    "        # If the current speed is less than the target, apply throttle\n",
    "        control.throttle = min(1.0, 0.5 + speed_error * 0.5)  # Adjust factor as needed\n",
    "    elif speed_error < 0:\n",
    "        # If the current speed is greater than the target, apply brake\n",
    "        control.throttle = 0.0\n",
    "        control.brake = min(1.0, -speed_error * 0.5)  # Adjust braking factor as needed\n",
    "    else:\n",
    "        # If we're at the target speed, maintain the throttle\n",
    "        control.throttle = 0.0\n",
    "        control.brake = 0.0\n",
    "    \n",
    "    # Apply the control\n",
    "    vehicle.apply_control(control)\n",
    "    \n",
    "    # Print the current speed in km/h\n",
    "    print(\"Current speed (km/h):\", current_speed_mps * 3.6)\n",
    "    \n",
    "    # Wait for the next control cycle\n",
    "    time.sleep(0.1)\n",
    "\n",
    "control = carla.VehicleControl(throttle=0.0, steer=0.0, brake=1.0, reverse=False)\n",
    "vehicle.apply_control(control)\n",
    "print(vehicle.get_location())\n",
    "time.sleep(4.1)\n",
    "camera_retro.destroy()\n",
    "camera_rigth.destroy()\n",
    "vehicle.destroy()\n"
   ]
  }
 ],
 "metadata": {
  "kernelspec": {
   "display_name": "carla-env",
   "language": "python",
   "name": "python3"
  },
  "language_info": {
   "codemirror_mode": {
    "name": "ipython",
    "version": 3
   },
   "file_extension": ".py",
   "mimetype": "text/x-python",
   "name": "python",
   "nbconvert_exporter": "python",
   "pygments_lexer": "ipython3",
   "version": "3.7.16"
  }
 },
 "nbformat": 4,
 "nbformat_minor": 2
}
