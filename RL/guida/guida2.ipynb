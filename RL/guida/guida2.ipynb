{
 "cells": [
  {
   "cell_type": "code",
   "execution_count": null,
   "metadata": {},
   "outputs": [],
   "source": [
    "import carla, time, pygame, math, random, cv2\n",
    "import numpy as np\n",
    "from Common import spawn_camera, spawn_vehicle, preprocess_image, spawn_camera_depth"
   ]
  },
  {
   "cell_type": "code",
   "execution_count": null,
   "metadata": {},
   "outputs": [],
   "source": [
    "client = carla.Client('localhost', 2000)\n",
    "client.set_timeout(20.0)\n",
    "client.load_world('Town05')\n",
    "world = client.get_world()\n",
    "spectator = world.get_spectator()"
   ]
  },
  {
   "cell_type": "code",
   "execution_count": null,
   "metadata": {},
   "outputs": [],
   "source": [
    "camera_transforms = [\n",
    "    (carla.Transform(carla.Location(x=1.5, z=2.4), carla.Rotation(pitch=-25)), (600, 300)),  # Front camera\n",
    "    (carla.Transform(carla.Location(x=-0.5, y=-0.9, z=2.4), carla.Rotation(yaw=-90, pitch=-25)), (600, 300)),  # Left side camera\n",
    "    (carla.Transform(carla.Location(x=-0.5, y=0.9, z=2.4), carla.Rotation(yaw=90, pitch=-25)), (600, 300)),  # Right side camera\n",
    "    (carla.Transform(carla.Location(x=-1.5, z=2.4), carla.Rotation(yaw=180, pitch=-25)), (600, 300)),  # Right side camera\n",
    "]"
   ]
  },
  {
   "cell_type": "code",
   "execution_count": null,
   "metadata": {},
   "outputs": [],
   "source": [
    "vehicle = spawn_vehicle(world=world)"
   ]
  },
  {
   "cell_type": "code",
   "execution_count": null,
   "metadata": {},
   "outputs": [],
   "source": [
    "def _attach_camera(vehicle):\n",
    "    camera_list = []\n",
    "    for i, transform in enumerate(camera_transforms):\n",
    "        camera = spawn_camera(world, attach_to=vehicle, transform=transform[0], width=transform[1][0], height=transform[1][1])\n",
    "        camera.listen(lambda image, idx=i: _process_image(image, idx))\n",
    "        camera_list.append(camera)\n",
    "    return camera_list\n",
    "\n",
    "def _process_image(image, index):\n",
    "    image_output_left = np.reshape(np.copy(image.raw_data), (image.height, image.width, 4))\n",
    "    processed_image = np.array(preprocess_image(image_output_left))\n",
    "    if index==0:\n",
    "        image0 = processed_image\n",
    "    if index==1:\n",
    "        image1 = processed_image\n",
    "    if index==2:\n",
    "        image2 = processed_image\n",
    "    if index==3:\n",
    "        image3 = processed_image"
   ]
  },
  {
   "cell_type": "code",
   "execution_count": null,
   "metadata": {},
   "outputs": [],
   "source": []
  }
 ],
 "metadata": {
  "language_info": {
   "name": "python"
  }
 },
 "nbformat": 4,
 "nbformat_minor": 2
}
