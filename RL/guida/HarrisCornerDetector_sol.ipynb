{
  "cells": [
    {
      "cell_type": "markdown",
      "metadata": {
        "id": "HbXNxPuA3A-5"
      },
      "source": [
        "# **Harris corner detector**\n",
        "Obiettivo dell’esercitazione è la realizzazione di un algoritmo per la localizzazione dei corner basato **metodo di Harris**.\n",
        "\n",
        "In particolare, data in input un’immagine RGB, l’algoritmo dovrà restituire un array di punti corrispondenti ai principali corner rilevati nell’immagine.\n",
        "\n",
        "Il metodo di Harris si basa interamente sull’analisi del gradiente, quindi l’analisi viene fatta sulla versione grayscale dell’immagine in input."
      ]
    },
    {
      "cell_type": "markdown",
      "metadata": {
        "id": "3oEWDVPc38vr"
      },
      "source": [
        "# **Import delle librerie**\n",
        "È necessario eseguire l'import delle librerie utilizzate durante l'esercitazione."
      ]
    },
    {
      "cell_type": "code",
      "execution_count": 1,
      "metadata": {
        "id": "NY40mRJLg7QH"
      },
      "outputs": [],
      "source": [
        "import cv2\n",
        "import numpy as np"
      ]
    },
    {
      "cell_type": "markdown",
      "metadata": {
        "id": "xJwAe8c540kz"
      },
      "source": [
        "# **Caricamento immagine**\n",
        "Il metodo di Harris si basa interamente sull’**analisi del gradiente**, quindi l’analisi viene fatta sulla versione **grayscale** dell’immagine in input."
      ]
    },
    {
      "cell_type": "markdown",
      "metadata": {
        "id": "7e1YBGhqcglm"
      },
      "source": [
        "# **Harris corner detector in OpenCV**\n",
        "La libreria OpenCV mette a disposizione la funzione `cv2.cornerHarris()` per la localizzazione dei corner (documentazione [qui](https://docs.opencv.org/4.x/dc/d0d/tutorial_py_features_harris.html)). I parametri sono:\n",
        "\n",
        "* `img`: immagine di input grayscale (float32 type).\n",
        "* `blockSize`: dimensione dell'intorno da considerare per la localizzazione dei corner\n",
        "* `ksize`: dimensione del filtro per il calcolo del gradiente con Sobel\n",
        "* `k`: parametro $\\alpha$ nell'equazione dell'Harris corner detector."
      ]
    },
    {
      "cell_type": "code",
      "execution_count": 3,
      "metadata": {
        "id": "XaJ8lt6Zdjq2"
      },
      "outputs": [
        {
          "ename": "",
          "evalue": "",
          "output_type": "error",
          "traceback": [
            "\u001b[1;31mThe Kernel crashed while executing code in the current cell or a previous cell. \n",
            "\u001b[1;31mPlease review the code in the cell(s) to identify a possible cause of the failure. \n",
            "\u001b[1;31mClick <a href='https://aka.ms/vscodeJupyterKernelCrash'>here</a> for more info. \n",
            "\u001b[1;31mView Jupyter <a href='command:jupyter.viewOutput'>log</a> for further details."
          ]
        }
      ],
      "source": [
        "img = cv2.imread('./output/370046.png')\n",
        "cv2.imshow(\"Result Image\", img)\n",
        "img_gray = cv2.cvtColor(img, cv2.COLOR_BGR2GRAY)\n",
        "dst = cv2.cornerHarris(img_gray,2,3,0.04)\n",
        "#dst = cv2.dilate(dst, None)\n",
        "img[dst>0.01*dst.max()]=[0,0,255]"
      ]
    },
    {
      "cell_type": "markdown",
      "metadata": {
        "id": "5lMtBXPfkXJn"
      },
      "source": [
        "## Corner with SubPixel Accuracy\n",
        "A volte potrebbe essere necessario individuare i corner con un'accuratezza maggiore. La libreria OpenCV mette a disposizione la funzione `cv2.cornerSubPix()` che raffina ulteriormente i corner localizzati con l'algoritmo di base.\n",
        "\n",
        "È necessario innanzitutto individuare i corner con il metodo `cv2.cornerHarris()` e poi **clusterizzarli** per utilizzare i centroidi dei cluster individuati come corner finali (potrebbe esserci un gruppo di punti che fanno riferimento allo stesso corner).\n",
        "\n",
        "È necessario fissare un **criterio d'arresto** per l'algoritmo di clustering (un numero prefissato di iterazioni o un certo valore di accuratezza). L'algoritmo di clustering richiede anche di specificare la dimensione dell'intorno da considerare per la ricerca dei corner."
      ]
    },
    {
      "cell_type": "code",
      "execution_count": null,
      "metadata": {
        "id": "8_7q-tRTkauc"
      },
      "outputs": [],
      "source": [
        "img = cv2.imread('scacchiera.png')\n",
        "cv2_imshow(img)\n",
        "img_gray = cv2.cvtColor(img, cv2.COLOR_BGR2GRAY)\n",
        "dst = cv2.cornerHarris(img_gray,2,3,0.04)\n",
        "ret, dst = cv2.threshold(dst,0.01*dst.max(),255,0)\n",
        "dst = np.uint8(dst)\n",
        "\n",
        "cv2_imshow(dst)\n",
        "\n",
        "# find centroids\n",
        "ret, labels, stats, centroids = cv2.connectedComponentsWithStats(dst)\n",
        "\n",
        "# define the criteria to stop and refine the corners\n",
        "criteria = (cv2.TERM_CRITERIA_EPS + cv2.TERM_CRITERIA_MAX_ITER, 100, 0.001)\n",
        "corners = cv2.cornerSubPix(img_gray,np.float32(centroids),(5,5),(-1,-1),criteria)\n",
        "\n",
        "# Now draw them\n",
        "for c in corners:\n",
        "    cv2.circle(img, (int(c[0]), int(c[1])), radius=3, color=(0, 255, 0), thickness=1)\n",
        "cv2_imshow(img)"
      ]
    },
    {
      "cell_type": "markdown",
      "metadata": {
        "id": "U96mweoahL8h"
      },
      "source": [
        "# **La nostra implementazione**\n",
        "## Caricamento dell'immagine"
      ]
    },
    {
      "cell_type": "code",
      "execution_count": null,
      "metadata": {
        "id": "Se65fSAVhJi5"
      },
      "outputs": [],
      "source": [
        "img = cv2.imread('scacchiera.png')\n",
        "#img = cv2.imread('scacchiera.png', cv2.IMREAD_GRAYSCALE) lettura grayscale\n",
        "\n",
        "cv2_imshow(img)\n",
        "img_gray = cv2.cvtColor(img, cv2.COLOR_BGR2GRAY)"
      ]
    },
    {
      "cell_type": "markdown",
      "metadata": {
        "id": "V4YT_fXz5hld"
      },
      "source": [
        "## Calcolo del gradiente e blurring\n",
        "La ricerca dei corner si basa sull’analisi del coefficiente di cornerness. Per un generico punto $(𝑥,𝑦)$ il valore si ottiene come:\n",
        "\n",
        "$R=det(M)-\\alpha\\cdot tr(M)^2$\n",
        "\n",
        "dove:\n",
        "*   $\\alpha$ è una costante che normalmente assume valori nel range $[0.04, 0.06]$\n",
        "*   $M$ è una matrice $2 \\times 2$ calcolata a partire dal gradiente dell'immagine come segue:\n",
        "\n",
        "$M=\\sum_{x,y} w(x,y) \\begin{bmatrix} \\nabla_x^2(x,y) &\\nabla_x(x,y) \\nabla_y(x,y)\\\\\\nabla_x(x,y) \\nabla_y(x,y)&\\nabla_y^2(x,y) \\end{bmatrix}$\n",
        "\n",
        "Il primi step dell'algoritmo sono dunque:\n",
        "* calcolo del gradiente dell'immagine in $x$ ($\\nabla_x$) e in $y$ ($\\nabla_y$). Anche in questo caso possiamo usare Sobel.\n",
        "* calcolo di $\\nabla_x^2$, $\\nabla_y^2$, $\\nabla_x\\nabla_y$\n",
        "\n",
        "NOTE:\n",
        "* per visualizzare le immagini è necessario normalizzarle nel giusto range di valori usando la funzione `cv2.normalize`, con metodo di normalizzazione `cv2.NORM_MINMAX`.\n",
        "\n",
        "<img src=https://biolab.csr.unibo.it/vr/esercitazioni/NotebookImages/EsHarris/step1.png width=\"800\">"
      ]
    },
    {
      "cell_type": "code",
      "execution_count": 4,
      "metadata": {
        "id": "mHIrk-bShelH"
      },
      "outputs": [],
      "source": [
        "img_gray = cv2.imread(\"./output/370046.png\", cv2.IMREAD_GRAYSCALE)\n",
        "gx = cv2.Sobel(img_gray,cv2.CV_64F,1,0,ksize=3)\n",
        "gy = cv2.Sobel(img_gray,cv2.CV_64F,0,1,ksize=3)\n",
        "gx2 = np.multiply(gx, gx)\n",
        "gy2 = np.multiply(gy, gy)\n",
        "gxgy = np.multiply(gx, gy)\n",
        "\n",
        "if gxgy is None:\n",
        "    print(\"Errore nel caricamento dell'immagine.\")\n",
        "else:\n",
        "    # Mostra l'immagine in scala di grigi\n",
        "    cv2.imshow('Immagine Grayscale', gx2)\n",
        "\n",
        "    # Attende fino a quando l'utente non preme un tasto\n",
        "    cv2.waitKey(0)\n",
        "\n",
        "    # Chiude tutte le finestre di OpenCV\n",
        "    cv2.destroyAllWindows()"
      ]
    },
    {
      "cell_type": "markdown",
      "metadata": {
        "id": "G2UkYHnNFJ_S"
      },
      "source": [
        "Come visto in teoria, l'applicazione della funzione finestra può essere realizzata nella pratica con un'operazione di smoothing sulle immagini $\\nabla_x^2$, $\\nabla_y^2$ e $\\nabla_x\\nabla_y$ calcolate precedentemente.\n",
        "\n",
        "Per lo smoothing Gaussiano utilizzare la funzione `cv2.GaussianBlur` con i parametri già suggeriti nel codice.\n",
        "\n",
        "<img src=https://biolab.csr.unibo.it/vr/esercitazioni/NotebookImages/EsHarris/step2.png width=\"800\">"
      ]
    },
    {
      "cell_type": "code",
      "execution_count": 7,
      "metadata": {
        "id": "DCydmGVOiMRP"
      },
      "outputs": [],
      "source": [
        "filter_size = 7\n",
        "filter_sigma = 1.4\n",
        "\n",
        "gx2_b = cv2.GaussianBlur(gx2,(filter_size,filter_size),filter_sigma, cv2.BORDER_DEFAULT)\n",
        "gy2_b = cv2.GaussianBlur(gy2,(filter_size,filter_size),filter_sigma, cv2.BORDER_DEFAULT)\n",
        "gxgy_b = cv2.GaussianBlur(gxgy,(filter_size,filter_size),filter_sigma, cv2.BORDER_DEFAULT)\n",
        "#cv2_imshow(cv2.normalize(gx2_b, None, 0, 255, cv2.NORM_MINMAX))\n",
        "#cv2_imshow(cv2.normalize(gy2_b, None, 0, 255, cv2.NORM_MINMAX))\n",
        "#cv2_imshow(cv2.normalize(gxgy_b, None, 0, 255, cv2.NORM_MINMAX))\n",
        "\n",
        "if gxgy is None:\n",
        "    print(\"Errore nel caricamento dell'immagine.\")\n",
        "else:\n",
        "    # Mostra l'immagine in scala di grigi\n",
        "    cv2.imshow('Immagine Grayscale', cv2.normalize(gx2_b, None, 0, 255, cv2.NORM_MINMAX))\n",
        "\n",
        "    # Attende fino a quando l'utente non preme un tasto\n",
        "    cv2.waitKey(0)\n",
        "\n",
        "    # Chiude tutte le finestre di OpenCV\n",
        "    cv2.destroyAllWindows()"
      ]
    },
    {
      "cell_type": "markdown",
      "metadata": {
        "id": "-FQWrh_0IWzr"
      },
      "source": [
        "## Calcolo cornerness map\n",
        "A partire dalla versione blurred di $\\nabla_x^2$, $\\nabla_y^2$ e $\\nabla_x\\nabla_y$ è ora possibile calcolare la cornerness map.\n",
        "\n",
        "Si consiglia di inizializzare la cornerness map a 0 e di *memorizzare solo i valori di cornerness superiori alla soglia* preimpostata.\n",
        "\n",
        "<img src=https://biolab.csr.unibo.it/vr/esercitazioni/NotebookImages/EsHarris/step3.png>"
      ]
    },
    {
      "cell_type": "code",
      "execution_count": 8,
      "metadata": {
        "id": "CkQokQYVej_7"
      },
      "outputs": [],
      "source": [
        "cornerness_thr = 1000000\n",
        "alfa = 0.04\n",
        "\n",
        "def compute_cornerness_map(gx2_b, gy2_b, gxgy_b):\n",
        "  map = np.zeros(gx2_b.shape)\n",
        "  for p, x in np.ndenumerate(map):\n",
        "    M = np.zeros((2,2))\n",
        "    M[0,0] = gx2_b[p]\n",
        "    M[0,1] = M[1,0] = gxgy_b[p]\n",
        "    M[1,1] = gy2_b[p]\n",
        "    det = np.linalg.det(M)\n",
        "    tr = np.trace(M)\n",
        "    r = det - alfa * tr * tr\n",
        "    if r > cornerness_thr:\n",
        "      map[p] = r\n",
        "  return map\n",
        "\n",
        "c_map = compute_cornerness_map(gx2_b, gy2_b, gxgy_b)\n",
        "#cv2_imshow(cv2.normalize(c_map, None, 0, 255, norm_type=cv2.NORM_MINMAX))\n",
        "\n",
        "if c_map is None:\n",
        "    print(\"Errore nel caricamento dell'immagine.\")\n",
        "else:\n",
        "    # Mostra l'immagine in scala di grigi\n",
        "    cv2.imshow('Immagine Grayscale', cv2.normalize(c_map, None, 0, 255, norm_type=cv2.NORM_MINMAX))\n",
        "\n",
        "    # Attende fino a quando l'utente non preme un tasto\n",
        "    cv2.waitKey(0)\n",
        "\n",
        "    # Chiude tutte le finestre di OpenCV\n",
        "    cv2.destroyAllWindows()"
      ]
    },
    {
      "cell_type": "code",
      "execution_count": 9,
      "metadata": {
        "id": "uUHkXLgyfKVY"
      },
      "outputs": [],
      "source": [
        "cornerness_thr = 0.01\n",
        "alfa = 0.04\n",
        "\n",
        "def compute_cornerness_map(gx2_b, gy2_b, gxgy_b):\n",
        "  map = np.zeros(gx2_b.shape)\n",
        "  for p, x in np.ndenumerate(map):\n",
        "    M = np.zeros((2,2))\n",
        "    M[0,0] = gx2_b[p]\n",
        "    M[0,1] = M[1,0] = gxgy_b[p]\n",
        "    M[1,1] = gy2_b[p]\n",
        "    det = np.linalg.det(M)\n",
        "    tr = np.trace(M)\n",
        "    r = det - alfa * tr * tr\n",
        "    map[p] = r\n",
        "  map[map<cornerness_thr*map.max()]=0\n",
        "  return map\n",
        "\n",
        "c_map = compute_cornerness_map(gx2_b, gy2_b, gxgy_b)\n",
        "#cv2_imshow(cv2.normalize(c_map, None, 0, 255, norm_type=cv2.NORM_MINMAX))\n",
        "if c_map is None:\n",
        "    print(\"Errore nel caricamento dell'immagine.\")\n",
        "else:\n",
        "    # Mostra l'immagine in scala di grigi\n",
        "    cv2.imshow('Immagine Grayscale', cv2.normalize(c_map, None, 0, 255, norm_type=cv2.NORM_MINMAX))\n",
        "\n",
        "    # Attende fino a quando l'utente non preme un tasto\n",
        "    cv2.waitKey(0)\n",
        "\n",
        "    # Chiude tutte le finestre di OpenCV\n",
        "    cv2.destroyAllWindows()"
      ]
    },
    {
      "cell_type": "markdown",
      "metadata": {
        "id": "h_0DM4r_LI-z"
      },
      "source": [
        "## Soppressione dei non massimi\n",
        "\n",
        "L'idea alla base dell'algoritmo è far scorrere una finestra di dimensione prefissata su tutta la mappa. Se esiste, all'interno della finestra, un pixel con un valore di cornerness superiore al pixel centrale, allora il pixel centrale viene \"soppresso\".\n",
        "\n",
        "Alla fine sopravviveranno alla scrematura solo i pixel che rappresentano dei massimi locali.\n",
        "\n",
        "<img src=https://biolab.csr.unibo.it/vr/esercitazioni/NotebookImages/EsHarris/step4.png>"
      ]
    },
    {
      "cell_type": "code",
      "execution_count": 11,
      "metadata": {
        "id": "fSycPzUriwRG"
      },
      "outputs": [],
      "source": [
        "window_radius = 5\n",
        "\n",
        "def non_maxima_suppression(map):\n",
        "  s = map.shape\n",
        "  max_y = s[0] - window_radius\n",
        "  max_x = s[1] - window_radius\n",
        "  points = []\n",
        "  for y in range(window_radius, max_y):\n",
        "    for x in range(window_radius, max_x):\n",
        "      current_value = map[y, x]\n",
        "      if (current_value > 0):\n",
        "        found = False\n",
        "        for i in range(-window_radius, window_radius):\n",
        "          for j in range(-window_radius, window_radius):\n",
        "            if map[y+i, x+j] > current_value:\n",
        "             found = True\n",
        "             break\n",
        "        if not found:\n",
        "          points.append((x, y))\n",
        "  return points\n",
        "\n",
        "def draw_corners(img, corners):\n",
        "  res = img.copy()\n",
        "  for c in corners:\n",
        "    cv2.circle(res, c, radius=3, color=(0, 0, 255), thickness=1)\n",
        "  return res\n",
        "\n",
        "corners = non_maxima_suppression(c_map)\n",
        "res = draw_corners(img_gray, corners)\n",
        "#cv2_imshow(res)\n",
        "if res is None:\n",
        "    print(\"Errore nel caricamento dell'immagine.\")\n",
        "else:\n",
        "    # Mostra l'immagine in scala di grigi\n",
        "    cv2.imshow('Immagine Grayscale', res)\n",
        "\n",
        "    # Attende fino a quando l'utente non preme un tasto\n",
        "    cv2.waitKey(0)\n",
        "\n",
        "    # Chiude tutte le finestre di OpenCV\n",
        "    cv2.destroyAllWindows()"
      ]
    }
  ],
  "metadata": {
    "colab": {
      "private_outputs": true,
      "provenance": []
    },
    "kernelspec": {
      "display_name": "Python 3",
      "name": "python3"
    },
    "language_info": {
      "codemirror_mode": {
        "name": "ipython",
        "version": 3
      },
      "file_extension": ".py",
      "mimetype": "text/x-python",
      "name": "python",
      "nbconvert_exporter": "python",
      "pygments_lexer": "ipython3",
      "version": "3.7.12"
    }
  },
  "nbformat": 4,
  "nbformat_minor": 0
}
