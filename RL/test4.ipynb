{
 "cells": [
  {
   "cell_type": "code",
   "execution_count": 9,
   "metadata": {},
   "outputs": [
    {
     "name": "stdout",
     "output_type": "stream",
     "text": [
      "[[27.91404891 28.00399232 28.09447218 ... 37.64808402 37.57071719\n",
      "  37.49364838]\n",
      " [27.90433335 27.99415755 28.08463741 ... 37.65648828 37.57912145\n",
      "  37.50199303]\n",
      " [27.89461779 27.98438239 28.07480264 ... 37.66489253 37.5874661\n",
      "  37.51033768]\n",
      " ...\n",
      " [ 8.98206288  8.98212248  8.98218208 ...  8.98283774  8.98283774\n",
      "   8.98283774]\n",
      " [ 8.96775776  8.66645626  8.66627745 ...  8.96817499  8.96817499\n",
      "   8.96817499]\n",
      " [ 8.6425548   8.64750198  8.6528664  ...  8.95351225  8.95351225\n",
      "   8.95351225]]\n"
     ]
    }
   ],
   "source": [
    "import cv2\n",
    "import numpy as np\n",
    "\n",
    "# Carica l'immagine RGB\n",
    "rgb_image = cv2.imread('output/camera1.png')\n",
    "\n",
    "# Assicurati che l'immagine sia in formato RGB (a volte OpenCV carica come BGR)\n",
    "rgb_image = cv2.cvtColor(rgb_image, cv2.COLOR_BGR2RGB)\n",
    "\n",
    "# Calcola la profondità normalizzata\n",
    "normalized_depth = (rgb_image[:, :, 0] + rgb_image[:, :, 1] * 256 + rgb_image[:, :, 2] * 256**2) / (256**3 - 1)\n",
    "\n",
    "# Converte la profondità in metri\n",
    "depth_in_meters = 1000 * normalized_depth\n",
    "print(depth_in_meters)\n",
    "\n",
    "depth_grayscale = cv2.normalize(depth_in_meters, None, 0, 255, cv2.NORM_MINMAX)\n",
    "depth_grayscale = depth_grayscale.astype(np.uint8) \n",
    "# Visualizza l'immagine della profondità\n",
    "cv2.imshow('Depth in Meters', depth_grayscale)  # Visualizzazione in formato intero per chiarezza\n",
    "cv2.waitKey(0)\n",
    "cv2.destroyAllWindows()\n"
   ]
  },
  {
   "cell_type": "code",
   "execution_count": 11,
   "metadata": {},
   "outputs": [
    {
     "name": "stderr",
     "output_type": "stream",
     "text": [
      "c:\\Users\\danie\\anaconda3\\envs\\carla-env\\lib\\site-packages\\ipykernel_launcher.py:34: RuntimeWarning: divide by zero encountered in double_scalars\n",
      "c:\\Users\\danie\\anaconda3\\envs\\carla-env\\lib\\site-packages\\ipykernel_launcher.py:35: RuntimeWarning: divide by zero encountered in double_scalars\n"
     ]
    },
    {
     "ename": "OverflowError",
     "evalue": "cannot convert float infinity to integer",
     "output_type": "error",
     "traceback": [
      "\u001b[1;31m---------------------------------------------------------------------------\u001b[0m",
      "\u001b[1;31mOverflowError\u001b[0m                             Traceback (most recent call last)",
      "\u001b[1;32m~\\AppData\\Local\\Temp\\ipykernel_8820\\127664441.py\u001b[0m in \u001b[0;36m<module>\u001b[1;34m\u001b[0m\n\u001b[0;32m     57\u001b[0m \u001b[1;33m\u001b[0m\u001b[0m\n\u001b[0;32m     58\u001b[0m \u001b[1;31m# Creazione della vista dall'alto\u001b[0m\u001b[1;33m\u001b[0m\u001b[1;33m\u001b[0m\u001b[1;33m\u001b[0m\u001b[0m\n\u001b[1;32m---> 59\u001b[1;33m \u001b[0mtop_down_view\u001b[0m \u001b[1;33m=\u001b[0m \u001b[0mcreate_top_down_view\u001b[0m\u001b[1;33m(\u001b[0m\u001b[0mdepth_image\u001b[0m\u001b[1;33m,\u001b[0m \u001b[0mrgb_image\u001b[0m\u001b[1;33m,\u001b[0m \u001b[0mcamera_position\u001b[0m\u001b[1;33m,\u001b[0m \u001b[0mfocal_length\u001b[0m\u001b[1;33m,\u001b[0m \u001b[0msensor_size\u001b[0m\u001b[1;33m)\u001b[0m\u001b[1;33m\u001b[0m\u001b[1;33m\u001b[0m\u001b[0m\n\u001b[0m\u001b[0;32m     60\u001b[0m \u001b[1;33m\u001b[0m\u001b[0m\n\u001b[0;32m     61\u001b[0m \u001b[1;31m# Visualizzazione dell'immagine risultante\u001b[0m\u001b[1;33m\u001b[0m\u001b[1;33m\u001b[0m\u001b[1;33m\u001b[0m\u001b[0m\n",
      "\u001b[1;32m~\\AppData\\Local\\Temp\\ipykernel_8820\\127664441.py\u001b[0m in \u001b[0;36mcreate_top_down_view\u001b[1;34m(depth_image, rgb_image, camera_position, focal_length, sensor_size, scale)\u001b[0m\n\u001b[0;32m     42\u001b[0m \u001b[1;33m\u001b[0m\u001b[0m\n\u001b[0;32m     43\u001b[0m             \u001b[1;31m# Proiezione su un piano 2D (assumendo la vista dall'alto, con l'asse z come altezza)\u001b[0m\u001b[1;33m\u001b[0m\u001b[1;33m\u001b[0m\u001b[1;33m\u001b[0m\u001b[0m\n\u001b[1;32m---> 44\u001b[1;33m             \u001b[1;32mif\u001b[0m \u001b[1;36m0\u001b[0m \u001b[1;33m<=\u001b[0m \u001b[0mint\u001b[0m\u001b[1;33m(\u001b[0m\u001b[0mworld_x\u001b[0m\u001b[1;33m)\u001b[0m \u001b[1;33m<\u001b[0m \u001b[0mwidth\u001b[0m \u001b[1;32mand\u001b[0m \u001b[1;36m0\u001b[0m \u001b[1;33m<=\u001b[0m \u001b[0mint\u001b[0m\u001b[1;33m(\u001b[0m\u001b[0mworld_y\u001b[0m\u001b[1;33m)\u001b[0m \u001b[1;33m<\u001b[0m \u001b[0mheight\u001b[0m\u001b[1;33m:\u001b[0m\u001b[1;33m\u001b[0m\u001b[1;33m\u001b[0m\u001b[0m\n\u001b[0m\u001b[0;32m     45\u001b[0m                 \u001b[0mtop_down_image\u001b[0m\u001b[1;33m[\u001b[0m\u001b[0mint\u001b[0m\u001b[1;33m(\u001b[0m\u001b[0mworld_y\u001b[0m\u001b[1;33m)\u001b[0m\u001b[1;33m,\u001b[0m \u001b[0mint\u001b[0m\u001b[1;33m(\u001b[0m\u001b[0mworld_x\u001b[0m\u001b[1;33m)\u001b[0m\u001b[1;33m]\u001b[0m \u001b[1;33m=\u001b[0m \u001b[0mrgb_image\u001b[0m\u001b[1;33m[\u001b[0m\u001b[0my\u001b[0m\u001b[1;33m,\u001b[0m \u001b[0mx\u001b[0m\u001b[1;33m]\u001b[0m\u001b[1;33m\u001b[0m\u001b[1;33m\u001b[0m\u001b[0m\n\u001b[0;32m     46\u001b[0m \u001b[1;33m\u001b[0m\u001b[0m\n",
      "\u001b[1;31mOverflowError\u001b[0m: cannot convert float infinity to integer"
     ]
    }
   ],
   "source": [
    "import numpy as np\n",
    "import cv2\n",
    "import matplotlib.pyplot as plt\n",
    "\n",
    "# Funzione per creare l'immagine 2D dall'alto\n",
    "def create_top_down_view(depth_image, rgb_image, camera_position, focal_length, sensor_size, scale=1.0):\n",
    "    \"\"\"\n",
    "    Crea un'immagine 2D dall'alto a partire da una mappa di profondità e un'immagine RGB.\n",
    "    \n",
    "    :param depth_image: Immagine in scala di grigi della profondità (H, W).\n",
    "    :param rgb_image: Immagine RGB (H, W, 3).\n",
    "    :param camera_position: Posizione della telecamera come tuple (x, y, z).\n",
    "    :param focal_length: Lunghezza focale della telecamera.\n",
    "    :param sensor_size: Dimensioni del sensore della telecamera (w, h).\n",
    "    :param scale: Scala per adattare la profondità all'immagine finale.\n",
    "    :return: Immagine 2D dell'area vista dall'alto.\n",
    "    \"\"\"\n",
    "    height, width = np.shape(depth_image)\n",
    "    camera_x, camera_y, camera_z = camera_position\n",
    "    \n",
    "    # Creazione di un'immagine vuota per la vista dall'alto\n",
    "    top_down_image = np.zeros((height, width, 3), dtype=np.uint8)\n",
    "    \n",
    "    # Calcolo dei parametri di proiezione\n",
    "    pixel_size_x = sensor_size[0] / width\n",
    "    pixel_size_y = sensor_size[1] / height\n",
    "    \n",
    "    # Iterazione su ciascun pixel per costruire la vista dall'alto\n",
    "    for y in range(height):\n",
    "        for x in range(width):\n",
    "            depth = depth_image[y, x] * scale  # Profondità scalata\n",
    "\n",
    "            # Calcolo delle coordinate 3D nel mondo\n",
    "            world_x = (x - width / 2) * pixel_size_x * focal_length / depth\n",
    "            world_y = (y - height / 2) * pixel_size_y * focal_length / depth\n",
    "            world_z = depth\n",
    "\n",
    "            # Traslazione della posizione della telecamera\n",
    "            world_x += camera_x\n",
    "            world_y += camera_y\n",
    "            world_z += camera_z\n",
    "\n",
    "            # Proiezione su un piano 2D (assumendo la vista dall'alto, con l'asse z come altezza)\n",
    "            if 0 <= int(world_x) < width and 0 <= int(world_y) < height:\n",
    "                top_down_image[int(world_y), int(world_x)] = rgb_image[y, x]\n",
    "    \n",
    "    return top_down_image\n",
    "\n",
    "# Caricamento delle immagini\n",
    "depth_image = depth_grayscale\n",
    "rgb_image = cv2.imread('output/camera.png')\n",
    "\n",
    "# Parametri della telecamera\n",
    "camera_position = (0, 0, 1000)  # Esempio: la telecamera è posizionata a 1000 unità sopra l'origine\n",
    "focal_length = 800  # Lunghezza focale in pixel\n",
    "sensor_size = (0.036, 0.024)  # Dimensioni del sensore in metri (esempio per una fotocamera standard)\n",
    "\n",
    "# Creazione della vista dall'alto\n",
    "top_down_view = create_top_down_view(depth_image, rgb_image, camera_position, focal_length, sensor_size)\n",
    "\n",
    "# Visualizzazione dell'immagine risultante\n",
    "plt.imshow(top_down_view)\n",
    "plt.title('Vista dallalto')\n",
    "plt.show()\n"
   ]
  }
 ],
 "metadata": {
  "kernelspec": {
   "display_name": "carla-env",
   "language": "python",
   "name": "python3"
  },
  "language_info": {
   "codemirror_mode": {
    "name": "ipython",
    "version": 3
   },
   "file_extension": ".py",
   "mimetype": "text/x-python",
   "name": "python",
   "nbconvert_exporter": "python",
   "pygments_lexer": "ipython3",
   "version": "3.7.16"
  }
 },
 "nbformat": 4,
 "nbformat_minor": 2
}
