{
 "cells": [
  {
   "cell_type": "code",
   "id": "initial_id",
   "metadata": {
    "collapsed": true,
    "ExecuteTime": {
     "end_time": "2024-11-29T10:14:14.543404Z",
     "start_time": "2024-11-29T10:14:14.525710Z"
    }
   },
   "source": [
    "import carla, time, pygame, math, random, cv2\n",
    "import numpy as np"
   ],
   "outputs": [
    {
     "ename": "ModuleNotFoundError",
     "evalue": "No module named 'carla'",
     "output_type": "error",
     "traceback": [
      "\u001B[1;31m---------------------------------------------------------------------------\u001B[0m",
      "\u001B[1;31mModuleNotFoundError\u001B[0m                       Traceback (most recent call last)",
      "\u001B[1;32m~\\AppData\\Local\\Temp\\ipykernel_18336\\3660091931.py\u001B[0m in \u001B[0;36m<module>\u001B[1;34m\u001B[0m\n\u001B[1;32m----> 1\u001B[1;33m \u001B[1;32mimport\u001B[0m \u001B[0mcarla\u001B[0m\u001B[1;33m,\u001B[0m \u001B[0mtime\u001B[0m\u001B[1;33m,\u001B[0m \u001B[0mpygame\u001B[0m\u001B[1;33m,\u001B[0m \u001B[0mmath\u001B[0m\u001B[1;33m,\u001B[0m \u001B[0mrandom\u001B[0m\u001B[1;33m,\u001B[0m \u001B[0mcv2\u001B[0m\u001B[1;33m\u001B[0m\u001B[1;33m\u001B[0m\u001B[0m\n\u001B[0m\u001B[0;32m      2\u001B[0m \u001B[1;32mimport\u001B[0m \u001B[0mnumpy\u001B[0m \u001B[1;32mas\u001B[0m \u001B[0mnp\u001B[0m\u001B[1;33m\u001B[0m\u001B[1;33m\u001B[0m\u001B[0m\n",
      "\u001B[1;31mModuleNotFoundError\u001B[0m: No module named 'carla'"
     ]
    }
   ],
   "execution_count": 29
  },
  {
   "metadata": {
    "ExecuteTime": {
     "end_time": "2024-11-29T09:45:01.414348Z",
     "start_time": "2024-11-29T09:45:01.403246Z"
    }
   },
   "cell_type": "code",
   "source": [
    "client = carla.Client('localhost', 2000)\n",
    "client.set_timeout(10.0)\n",
    "client.load_world('Town5')\n",
    "world = client.get_world()\n",
    "spectator = world.get_spectator()"
   ],
   "id": "63d8772f0aac217",
   "outputs": [
    {
     "ename": "NameError",
     "evalue": "name 'carla' is not defined",
     "output_type": "error",
     "traceback": [
      "\u001B[1;31m---------------------------------------------------------------------------\u001B[0m",
      "\u001B[1;31mNameError\u001B[0m                                 Traceback (most recent call last)",
      "\u001B[1;32m~\\AppData\\Local\\Temp\\ipykernel_18336\\2945463158.py\u001B[0m in \u001B[0;36m<module>\u001B[1;34m\u001B[0m\n\u001B[1;32m----> 1\u001B[1;33m \u001B[0mclient\u001B[0m \u001B[1;33m=\u001B[0m \u001B[0mcarla\u001B[0m\u001B[1;33m.\u001B[0m\u001B[0mClient\u001B[0m\u001B[1;33m(\u001B[0m\u001B[1;34m'localhost'\u001B[0m\u001B[1;33m,\u001B[0m \u001B[1;36m2000\u001B[0m\u001B[1;33m)\u001B[0m\u001B[1;33m\u001B[0m\u001B[1;33m\u001B[0m\u001B[0m\n\u001B[0m\u001B[0;32m      2\u001B[0m \u001B[0mclient\u001B[0m\u001B[1;33m.\u001B[0m\u001B[0mset_timeout\u001B[0m\u001B[1;33m(\u001B[0m\u001B[1;36m10.0\u001B[0m\u001B[1;33m)\u001B[0m\u001B[1;33m\u001B[0m\u001B[1;33m\u001B[0m\u001B[0m\n\u001B[0;32m      3\u001B[0m \u001B[0mclient\u001B[0m\u001B[1;33m.\u001B[0m\u001B[0mload_world\u001B[0m\u001B[1;33m(\u001B[0m\u001B[1;34m'Town5'\u001B[0m\u001B[1;33m)\u001B[0m\u001B[1;33m\u001B[0m\u001B[1;33m\u001B[0m\u001B[0m\n\u001B[0;32m      4\u001B[0m \u001B[0mworld\u001B[0m \u001B[1;33m=\u001B[0m \u001B[0mclient\u001B[0m\u001B[1;33m.\u001B[0m\u001B[0mget_world\u001B[0m\u001B[1;33m(\u001B[0m\u001B[1;33m)\u001B[0m\u001B[1;33m\u001B[0m\u001B[1;33m\u001B[0m\u001B[0m\n\u001B[0;32m      5\u001B[0m \u001B[0mspectator\u001B[0m \u001B[1;33m=\u001B[0m \u001B[0mworld\u001B[0m\u001B[1;33m.\u001B[0m\u001B[0mget_spectator\u001B[0m\u001B[1;33m(\u001B[0m\u001B[1;33m)\u001B[0m\u001B[1;33m\u001B[0m\u001B[1;33m\u001B[0m\u001B[0m\n",
      "\u001B[1;31mNameError\u001B[0m: name 'carla' is not defined"
     ]
    }
   ],
   "execution_count": 23
  }
 ],
 "metadata": {
  "kernelspec": {
   "display_name": "Python 3 (ipykernel)",
   "language": "python",
   "name": "python3"
  },
  "language_info": {
   "codemirror_mode": {
    "name": "ipython",
    "version": 2
   },
   "file_extension": ".py",
   "mimetype": "text/x-python",
   "name": "python",
   "nbconvert_exporter": "python",
   "pygments_lexer": "ipython2",
   "version": "2.7.6"
  }
 },
 "nbformat": 4,
 "nbformat_minor": 5
}
