{
 "cells": [
  {
   "cell_type": "code",
   "execution_count": 34,
   "metadata": {},
   "outputs": [],
   "source": [
    "import carla, time, pygame, math, random, cv2\n",
    "import numpy as np\n",
    "\n",
    "client = carla.Client('localhost', 2000)\n",
    "client.set_timeout(20.0)\n",
    "client.load_world('Town05')\n",
    "world = client.get_world()\n",
    "spectator = world.get_spectator()"
   ]
  },
  {
   "cell_type": "code",
   "execution_count": 36,
   "metadata": {},
   "outputs": [],
   "source": [
    "def move_spectator_to(transform, distance=5.0, x=0, y=0, z=4, yaw=0, pitch=-30, roll=0):\n",
    "    back_location = transform.location - transform.get_forward_vector() * distance\n",
    "    \n",
    "    back_location.x += x\n",
    "    back_location.y += y\n",
    "    back_location.z += z\n",
    "    transform.rotation.yaw += yaw\n",
    "    transform.rotation.pitch = pitch\n",
    "    transform.rotation.roll = roll\n",
    "    \n",
    "    spectator_transform = carla.Transform(back_location, transform.rotation)\n",
    "    \n",
    "    spectator.set_transform(spectator_transform)\n",
    "\n",
    "def spawn_vehicle(vehicle_index=0, spawn_index=0, pattern='vehicle.*'):\n",
    "    blueprint_library = world.get_blueprint_library()\n",
    "    vehicle_bp = blueprint_library.filter(pattern)[vehicle_index]\n",
    "    spawn_point = world.get_map().get_spawn_points()[spawn_index]\n",
    "    vehicle = world.spawn_actor(vehicle_bp, spawn_point)\n",
    "    return vehicle\n",
    "\n",
    "def draw_on_screen(world, transform, content='O', color=carla.Color(0, 255, 0), life_time=20):\n",
    "    world.debug.draw_string(transform.location, content, color=color, life_time=life_time)\n",
    "\n",
    "def spawn_camera(attach_to=None, transform=carla.Transform(carla.Location(x=1.2, z=1.2), carla.Rotation(pitch=-30)), width=800, height=600):\n",
    "    camera_bp = world.get_blueprint_library().find('sensor.camera.rgb')\n",
    "    camera_bp.set_attribute('image_size_x', str(width))\n",
    "    camera_bp.set_attribute('image_size_y', str(height))\n",
    "    camera = world.spawn_actor(camera_bp, transform, attach_to=attach_to)\n",
    "    return camera"
   ]
  },
  {
   "cell_type": "code",
   "execution_count": 38,
   "metadata": {},
   "outputs": [
    {
     "data": {
      "text/plain": [
       "True"
      ]
     },
     "execution_count": 38,
     "metadata": {},
     "output_type": "execute_result"
    }
   ],
   "source": [
    "camera_position = carla.Transform(carla.Location(x=-34, y=31, z=11), carla.Rotation(pitch=-38, yaw=-170, roll=0))\n",
    "\n",
    "camera = spawn_camera(transform=camera_position)\n",
    "vehicle = spawn_vehicle()\n",
    "\n",
    "camera.listen(lambda image: image.save_to_disk('output/camera.png'))\n",
    "\n",
    "time.sleep(2)\n",
    "\n",
    "camera.destroy()\n",
    "vehicle.destroy()"
   ]
  },
  {
   "cell_type": "code",
   "execution_count": 10,
   "metadata": {},
   "outputs": [
    {
     "name": "stdout",
     "output_type": "stream",
     "text": [
      "sensor.other.collision\n",
      "sensor.camera.depth\n",
      "sensor.camera.optical_flow\n",
      "sensor.camera.normals\n",
      "sensor.other.lane_invasion\n",
      "sensor.camera.dvs\n",
      "sensor.other.imu\n",
      "sensor.other.gnss\n",
      "sensor.other.obstacle\n",
      "sensor.other.radar\n",
      "sensor.lidar.ray_cast_semantic\n",
      "sensor.lidar.ray_cast\n",
      "sensor.camera.rgb\n",
      "sensor.camera.semantic_segmentation\n",
      "sensor.other.rss\n",
      "sensor.camera.instance_segmentation\n"
     ]
    }
   ],
   "source": [
    "sensors = world.get_blueprint_library().filter('sensor.*')\n",
    "\n",
    "for sensor in sensors:\n",
    "    print(sensor.id)"
   ]
  },
  {
   "cell_type": "code",
   "execution_count": 39,
   "metadata": {},
   "outputs": [
    {
     "data": {
      "text/plain": [
       "True"
      ]
     },
     "execution_count": 39,
     "metadata": {},
     "output_type": "execute_result"
    }
   ],
   "source": [
    "def spawn_camera_depth(attach_to=None, transform=carla.Transform(carla.Location(x=1.2, z=1.2), carla.Rotation(pitch=-30)), width=800, height=600):\n",
    "    camera_bp = world.get_blueprint_library().find('sensor.camera.depth')\n",
    "    camera_bp.set_attribute('image_size_x', str(width))\n",
    "    camera_bp.set_attribute('image_size_y', str(height))\n",
    "    camera = world.spawn_actor(camera_bp, transform, attach_to=attach_to)\n",
    "    return camera\n",
    "\n",
    "camera_position = carla.Transform(carla.Location(x=-34, y=31, z=11), carla.Rotation(pitch=-38, yaw=-170, roll=0))\n",
    "\n",
    "camera = spawn_camera_depth(transform=camera_position)\n",
    "vehicle = spawn_vehicle()\n",
    "\n",
    "def proces(image):\n",
    "    image = carla.ColorConverter.LogarithmicDepth(image)\n",
    "    image.save_to_disk('output/camera_depth.png')\n",
    "\n",
    "camera.listen(lambda image: image.save_to_disk(\"output/camera1.png\"))\n",
    "\n",
    "time.sleep(2)\n",
    "\n",
    "camera.destroy()\n",
    "vehicle.destroy()"
   ]
  },
  {
   "cell_type": "code",
   "execution_count": 40,
   "metadata": {},
   "outputs": [
    {
     "name": "stdout",
     "output_type": "stream",
     "text": [
      "[[[27.91405   27.91405   27.91405  ]\n",
      "  [28.003992  28.003992  28.003992 ]\n",
      "  [28.094473  28.094473  28.094473 ]\n",
      "  ...\n",
      "  [37.648083  37.648083  37.648083 ]\n",
      "  [37.570717  37.570717  37.570717 ]\n",
      "  [37.49365   37.49365   37.49365  ]]\n",
      "\n",
      " [[27.904333  27.904333  27.904333 ]\n",
      "  [27.994158  27.994158  27.994158 ]\n",
      "  [28.084637  28.084637  28.084637 ]\n",
      "  ...\n",
      "  [37.656487  37.656487  37.656487 ]\n",
      "  [37.57912   37.57912   37.57912  ]\n",
      "  [37.50199   37.50199   37.50199  ]]\n",
      "\n",
      " [[27.894617  27.894617  27.894617 ]\n",
      "  [27.984383  27.984383  27.984383 ]\n",
      "  [28.074802  28.074802  28.074802 ]\n",
      "  ...\n",
      "  [37.664894  37.664894  37.664894 ]\n",
      "  [37.587467  37.587467  37.587467 ]\n",
      "  [37.510338  37.510338  37.510338 ]]\n",
      "\n",
      " ...\n",
      "\n",
      " [[ 8.982063   8.982063   8.982063 ]\n",
      "  [ 8.982122   8.982122   8.982122 ]\n",
      "  [ 8.9821825  8.9821825  8.9821825]\n",
      "  ...\n",
      "  [ 8.982838   8.982838   8.982838 ]\n",
      "  [ 8.982838   8.982838   8.982838 ]\n",
      "  [ 8.982838   8.982838   8.982838 ]]\n",
      "\n",
      " [[ 8.967758   8.967758   8.967758 ]\n",
      "  [ 8.666456   8.666456   8.666456 ]\n",
      "  [ 8.666278   8.666278   8.666278 ]\n",
      "  ...\n",
      "  [ 8.968175   8.968175   8.968175 ]\n",
      "  [ 8.968175   8.968175   8.968175 ]\n",
      "  [ 8.968175   8.968175   8.968175 ]]\n",
      "\n",
      " [[ 8.642555   8.642555   8.642555 ]\n",
      "  [ 8.647502   8.647502   8.647502 ]\n",
      "  [ 8.652866   8.652866   8.652866 ]\n",
      "  ...\n",
      "  [ 8.953512   8.953512   8.953512 ]\n",
      "  [ 8.953512   8.953512   8.953512 ]\n",
      "  [ 8.953512   8.953512   8.953512 ]]]\n"
     ]
    },
    {
     "data": {
      "image/png": "[encoded data removed]",
      "text/plain": [
       "<Figure size 640x480 with 1 Axes>"
      ]
     },
     "metadata": {},
     "output_type": "display_data"
    }
   ],
   "source": [
    "import matplotlib.pyplot as plt\n",
    "\n",
    "def normalizza_pixel(R, G, B):\n",
    "    normalized = (R + G * 256 + B * 256 * 256) / (256 * 256 * 256 - 1)\n",
    "    in_meters = 1000 * normalized\n",
    "    return in_meters\n",
    "\n",
    "# Funzione per applicare la normalizzazione a tutta l'immagine\n",
    "def normalizza_immagine(image):\n",
    "    # Crea un'immagine vuota per il risultato\n",
    "    result_image = np.zeros(image.shape, dtype=np.float32)\n",
    "    \n",
    "    # Itera attraverso ogni pixel dell'immagine\n",
    "    for i in range(image.shape[0]):  # Ciclo per le righe\n",
    "        for j in range(image.shape[1]):  # Ciclo per le colonne\n",
    "            R, G, B = image[i, j]  # Estrai i valori RGB\n",
    "            result_image[i, j] = normalizza_pixel(R, G, B)  # Normalizza e converte in metri\n",
    "    \n",
    "    return result_image\n",
    "\n",
    "# Carica un'immagine RGB (ad esempio 'image.jpg')\n",
    "image = cv2.imread(\"output/camera1.png\")  # Carica l'immagine\n",
    "\n",
    "# Assicurati che l'immagine sia in formato RGB\n",
    "image_rgb = cv2.cvtColor(image, cv2.COLOR_BGR2RGB)\n",
    "\n",
    "# Normalizza l'immagine\n",
    "normalized_image = normalizza_immagine(image_rgb)\n",
    "print(normalized_image)\n",
    "\n",
    "def converti_grayscale(normalized_image):\n",
    "    # Calcola la media dei tre canali per ogni pixel\n",
    "    grayscale_image = np.mean(normalized_image, axis=-1)\n",
    "    \n",
    "    # Normalizza l'immagine in scala di grigi per il range [0, 255]\n",
    "    grayscale_image = (grayscale_image - np.min(grayscale_image)) / (np.max(grayscale_image) - np.min(grayscale_image)) * 255\n",
    "    grayscale_image = grayscale_image.astype(np.uint8)  # Converte i valori in uint8 per visualizzare correttamente\n",
    "    \n",
    "    return grayscale_image\n",
    "\n",
    "# Converti l'immagine normalizzata in scala di grigi\n",
    "grayscale_image = converti_grayscale(normalized_image)\n",
    "\n",
    "# Ora normalized_image contiene l'immagine normalizzata in \"metri\"\n",
    "\n",
    "# Mostra l'immagine di profondità normalizzata\n",
    "plt.subplot(1, 2, 2)\n",
    "plt.imshow(grayscale_image, cmap='gray')\n",
    "plt.title('Profondità Normalizzata')\n",
    "plt.axis('off')\n",
    "\n",
    "plt.show()"
   ]
  },
  {
   "cell_type": "code",
   "execution_count": 41,
   "metadata": {},
   "outputs": [
    {
     "data": {
      "image/png": "[encoded data removed]",
      "text/plain": [
       "<Figure size 640x480 with 1 Axes>"
      ]
     },
     "metadata": {},
     "output_type": "display_data"
    },
    {
     "data": {
      "text/plain": [
       "True"
      ]
     },
     "execution_count": 41,
     "metadata": {},
     "output_type": "execute_result"
    }
   ],
   "source": [
    "import numpy as np\n",
    "import cv2\n",
    "import matplotlib.pyplot as plt\n",
    "\n",
    "def create_top_view(depth_img, rgb_img, fx, fy, cx, cy):\n",
    "    \"\"\"\n",
    "    Crea una vista dall'alto combinando la mappa di profondità e l'immagine RGB.\n",
    "    \n",
    "    depth_img: Immagine di profondità in scala di grigi (valori di profondità)\n",
    "    rgb_img: Immagine RGB\n",
    "    fx, fy: Focali della fotocamera\n",
    "    cx, cy: Coordinate del centro dell'immagine\n",
    "    \"\"\"\n",
    "    \n",
    "    # Assicurati che le immagini abbiano le stesse dimensioni\n",
    "    assert depth_img.shape[:2] == rgb_img.shape[:2], \"Le immagini devono avere le stesse dimensioni\"\n",
    "\n",
    "    # Crea un array vuoto per la vista dall'alto\n",
    "    top_view = np.zeros_like(rgb_img)\n",
    "\n",
    "    # Numero di righe e colonne nell'immagine\n",
    "    rows, cols = depth_img.shape[:2]\n",
    "\n",
    "    for i in range(rows):\n",
    "        for j in range(cols):\n",
    "            # Estrai la profondità in metri (assumendo che la profondità sia già in unità metriche)\n",
    "            z = depth_img[i, j]\n",
    "            \n",
    "            if z == 0:  # Se la profondità è zero (non definita), ignora questo pixel\n",
    "                continue\n",
    "            \n",
    "            # Calcola le coordinate 3D (x, y) usando la mappa di profondità\n",
    "            x = (j - cx) * z / fx\n",
    "            y = (i - cy) * z / fy\n",
    "            \n",
    "            # Proietta la posizione nel piano 2D della vista dall'alto (ignoriamo la profondità)\n",
    "            # Puoi usare una semplice trasformazione per ottenere la vista dall'alto\n",
    "            top_x = int(x + cols // 2)  # Centra la scena\n",
    "            top_y = int(y + rows // 2)  # Centra la scena\n",
    "            \n",
    "            # Verifica se la proiezione rientra nei limiti dell'immagine\n",
    "            if 0 <= top_x < cols and 0 <= top_y < rows:\n",
    "                # Copia il colore dall'immagine RGB alla vista dall'alto\n",
    "                top_view[top_y, top_x] = rgb_img[i, j]\n",
    "    \n",
    "    return top_view\n",
    "\n",
    "# Carica l'immagine di profondità e RGB\n",
    "depth_img = grayscale_image  # Immagine di profondità in scala di grigi\n",
    "rgb_img = cv2.imread(\"output/camera.png\")  # Immagine RGB\n",
    "\n",
    "# Parametri della fotocamera (esempi, dovresti usare i tuoi valori)\n",
    "fx = 1000  # Focale in pixel (x)\n",
    "fy = 1000  # Focale in pixel (y)\n",
    "cx = rgb_img.shape[1] // 2  # Centro dell'immagine (x)\n",
    "cy = rgb_img.shape[0] // 2  # Centro dell'immagine (y)\n",
    "\n",
    "# Crea la vista dall'alto\n",
    "top_view = create_top_view(depth_img, rgb_img, fx, fy, cx, cy)\n",
    "\n",
    "# Mostra l'immagine della vista dall'alto\n",
    "plt.imshow(top_view)\n",
    "plt.axis('off')\n",
    "plt.show()\n",
    "\n",
    "# Salva l'immagine risultante\n",
    "cv2.imwrite('top_view.png', top_view)\n"
   ]
  },
  {
   "cell_type": "code",
   "execution_count": 43,
   "metadata": {},
   "outputs": [
    {
     "data": {
      "image/png": "[encoded data removed]",
      "text/plain": [
       "<Figure size 640x480 with 1 Axes>"
      ]
     },
     "metadata": {},
     "output_type": "display_data"
    },
    {
     "data": {
      "text/plain": [
       "True"
      ]
     },
     "execution_count": 43,
     "metadata": {},
     "output_type": "execute_result"
    }
   ],
   "source": [
    "import numpy as np\n",
    "import cv2\n",
    "import matplotlib.pyplot as plt\n",
    "import math\n",
    "\n",
    "def create_top_view_with_camera(depth_img, rgb_img, fx, fy, cx, cy, cam_location, cam_rotation):\n",
    "    \"\"\"\n",
    "    Crea una vista dall'alto combinando la mappa di profondità, l'immagine RGB e la posizione/rotazione della fotocamera.\n",
    "    \n",
    "    depth_img: Immagine di profondità in scala di grigi (valori di profondità)\n",
    "    rgb_img: Immagine RGB\n",
    "    fx, fy: Focali della fotocamera\n",
    "    cx, cy: Coordinate del centro dell'immagine\n",
    "    cam_location: Posizione della fotocamera (x, y, z)\n",
    "    cam_rotation: Rotazione della fotocamera (pitch, yaw, roll)\n",
    "    \"\"\"\n",
    "    \n",
    "    # Assicurati che le immagini abbiano le stesse dimensioni\n",
    "    assert depth_img.shape[:2] == rgb_img.shape[:2], \"Le immagini devono avere le stesse dimensioni\"\n",
    "    \n",
    "    # Crea un array vuoto per la vista dall'alto\n",
    "    top_view = np.zeros_like(rgb_img)\n",
    "    \n",
    "    # Numero di righe e colonne nell'immagine\n",
    "    rows, cols = depth_img.shape[:2]\n",
    "\n",
    "    # Converte gli angoli di rotazione da gradi a radianti\n",
    "    pitch_rad = math.radians(cam_rotation.pitch)\n",
    "    yaw_rad = math.radians(cam_rotation.yaw)\n",
    "    roll_rad = math.radians(cam_rotation.roll)\n",
    "\n",
    "    # Matrice di rotazione della fotocamera (roll, pitch, yaw)\n",
    "    R = np.array([\n",
    "        [math.cos(yaw_rad)*math.cos(pitch_rad), math.cos(yaw_rad)*math.sin(pitch_rad)*math.sin(roll_rad) - math.sin(yaw_rad)*math.cos(roll_rad), math.cos(yaw_rad)*math.sin(pitch_rad)*math.cos(roll_rad) + math.sin(yaw_rad)*math.sin(roll_rad)],\n",
    "        [math.sin(yaw_rad)*math.cos(pitch_rad), math.sin(yaw_rad)*math.sin(pitch_rad)*math.sin(roll_rad) + math.cos(yaw_rad)*math.cos(roll_rad), math.sin(yaw_rad)*math.sin(pitch_rad)*math.cos(roll_rad) - math.cos(yaw_rad)*math.sin(roll_rad)],\n",
    "        [-math.sin(pitch_rad), math.cos(pitch_rad)*math.sin(roll_rad), math.cos(pitch_rad)*math.cos(roll_rad)]\n",
    "    ])\n",
    "    \n",
    "    # Posizione della fotocamera\n",
    "    cam_pos = np.array([cam_location.x, cam_location.y, cam_location.z])\n",
    "    \n",
    "    for i in range(rows):\n",
    "        for j in range(cols):\n",
    "            # Estrai la profondità in metri (assumendo che la profondità sia già in unità metriche)\n",
    "            z = depth_img[i, j]\n",
    "            \n",
    "            if z == 0:  # Se la profondità è zero (non definita), ignora questo pixel\n",
    "                continue\n",
    "            \n",
    "            # Calcola le coordinate 3D (x, y) usando la mappa di profondità\n",
    "            x = (j - cx) * z / fx\n",
    "            y = (i - cy) * z / fy\n",
    "            point_3d = np.array([x, y, z])\n",
    "            \n",
    "            # Trasforma il punto 3D dalla fotocamera alla scena\n",
    "            # Punto 3D nella scena globale\n",
    "            point_3d_world = np.dot(R, point_3d) + cam_pos\n",
    "            \n",
    "            # Proietta la posizione nel piano 2D della vista dall'alto (ignoriamo la profondità)\n",
    "            top_x = int(point_3d_world[0] + cols // 2)  # Centra la scena\n",
    "            top_y = int(point_3d_world[1] + rows // 2)  # Centra la scena\n",
    "            \n",
    "            # Verifica se la proiezione rientra nei limiti dell'immagine\n",
    "            if 0 <= top_x < cols and 0 <= top_y < rows:\n",
    "                # Copia il colore dall'immagine RGB alla vista dall'alto\n",
    "                top_view[top_y, top_x] = rgb_img[i, j]\n",
    "    \n",
    "    return top_view\n",
    "\n",
    "# Carica l'immagine di profondità e RGB\n",
    "depth_img = grayscale_image  # Immagine di profondità in scala di grigi\n",
    "rgb_img = cv2.imread(\"output/camera.png\")  # Immagine RGB\n",
    "\n",
    "# Parametri della fotocamera (esempi, dovresti usare i tuoi valori)\n",
    "fx = 1000  # Focale in pixel (x)\n",
    "fy = 1000  # Focale in pixel (y)\n",
    "cx = rgb_img.shape[1] // 2  # Centro dell'immagine (x)\n",
    "cy = rgb_img.shape[0] // 2  # Centro dell'immagine (y)\n",
    "\n",
    "# Posizione e rotazione della fotocamera (dati Carla)\n",
    "cam_location = carla.Location(x=-34, y=31, z=11)  # Posizione della fotocamera\n",
    "cam_rotation = carla.Rotation(pitch=-38, yaw=-170, roll=0)  # Rotazione della fotocamera\n",
    "\n",
    "# Crea la vista dall'alto\n",
    "top_view = create_top_view_with_camera(depth_img, rgb_img, fx, fy, cx, cy, cam_location, cam_rotation)\n",
    "\n",
    "# Mostra l'immagine della vista dall'alto\n",
    "plt.imshow(top_view)\n",
    "plt.axis('off')\n",
    "plt.show()\n",
    "\n",
    "# Salva l'immagine risultante\n",
    "cv2.imwrite('top_view1.png', top_view)\n"
   ]
  }
 ],
 "metadata": {
  "kernelspec": {
   "display_name": "carla-env",
   "language": "python",
   "name": "python3"
  },
  "language_info": {
   "codemirror_mode": {
    "name": "ipython",
    "version": 3
   },
   "file_extension": ".py",
   "mimetype": "text/x-python",
   "name": "python",
   "nbconvert_exporter": "python",
   "pygments_lexer": "ipython3",
   "version": "3.7.12"
  }
 },
 "nbformat": 4,
 "nbformat_minor": 2
}
