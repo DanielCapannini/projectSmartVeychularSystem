{
 "cells": [
  {
   "cell_type": "code",
   "execution_count": 2,
   "metadata": {},
   "outputs": [],
   "source": [
    "import carla, time, pygame, math, random, cv2\n",
    "import numpy as np\n",
    "from Common import spawn_camera, preprocess_image, find_highest_segment_midpoint_and_perpendicular, spline_cubica"
   ]
  },
  {
   "cell_type": "code",
   "execution_count": 16,
   "metadata": {},
   "outputs": [],
   "source": [
    "client = carla.Client('localhost', 2000)\n",
    "client.set_timeout(20.0)\n",
    "client.load_world('Town05')\n",
    "world = client.get_world()\n",
    "spectator = world.get_spectator()"
   ]
  },
  {
   "cell_type": "code",
   "execution_count": 4,
   "metadata": {},
   "outputs": [],
   "source": [
    "#macchina spawnata debug\n",
    "blueprint_library = world.get_blueprint_library()\n",
    "vehicle_bp = blueprint_library.filter('vehicle.*')[0]\n",
    "spawn_point = carla.Transform(carla.Location(6.6, -41.3, 2), carla.Rotation(yaw=-90))\n",
    "vehicle = world.spawn_actor(vehicle_bp, spawn_point)\n",
    "camera_retro = spawn_camera(attach_to=vehicle, world=world, transform=carla.Transform(carla.Location(x=-1.6, z=1.9), carla.Rotation(yaw=180, pitch=-40)))\n",
    "camera_rigth = spawn_camera(attach_to=vehicle, world=world, transform=carla.Transform(carla.Location(x=-1.6, z=1.9), carla.Rotation(yaw=90, pitch=-40)))"
   ]
  },
  {
   "cell_type": "code",
   "execution_count": 5,
   "metadata": {},
   "outputs": [
    {
     "name": "stdout",
     "output_type": "stream",
     "text": [
      "Distruggendo il veicolo...\n",
      "Veicolo rimosso.\n"
     ]
    }
   ],
   "source": [
    "print(\"Distruggendo il veicolo...\")\n",
    "vehicle.destroy()\n",
    "print(\"Veicolo rimosso.\")"
   ]
  },
  {
   "cell_type": "code",
   "execution_count": 6,
   "metadata": {},
   "outputs": [],
   "source": [
    "#macchina spawnata tipo 1\n",
    "blueprint_library = world.get_blueprint_library()\n",
    "vehicle_bp = blueprint_library.filter('vehicle.*')[0]\n",
    "spawn_point = carla.Transform(carla.Location(-1, -41.3, 2), carla.Rotation(yaw=-90))\n",
    "vehicle = world.spawn_actor(vehicle_bp, spawn_point)\n",
    "camera_retro = spawn_camera(attach_to=vehicle, world=world, transform=carla.Transform(carla.Location(x=-1.6, z=1.9), carla.Rotation(yaw=180, pitch=-40)))\n",
    "camera_rigth = spawn_camera(attach_to=vehicle, world=world, transform=carla.Transform(carla.Location(x=-1.6, z=1.9), carla.Rotation(yaw=90, pitch=-40)))\n"
   ]
  },
  {
   "cell_type": "code",
   "execution_count": 8,
   "metadata": {},
   "outputs": [],
   "source": [
    "#macchina spawnata tipo 2\n",
    "blueprint_library = world.get_blueprint_library()\n",
    "vehicle_bp = blueprint_library.filter('vehicle.*')[0]\n",
    "spawn_point = carla.Transform(carla.Location(0, -41.3, 1), carla.Rotation(yaw=-90))\n",
    "vehicle = world.spawn_actor(vehicle_bp, spawn_point)\n",
    "camera_retro = spawn_camera(attach_to=vehicle, world=world, transform=carla.Transform(carla.Location(x=-1.6, z=1.9), carla.Rotation(yaw=180, pitch=-40)))\n",
    "camera_rigth = spawn_camera(attach_to=vehicle, world=world, transform=carla.Transform(carla.Location(x=-1.6, z=1.9), carla.Rotation(yaw=90, pitch=-40)))"
   ]
  },
  {
   "cell_type": "code",
   "execution_count": 24,
   "metadata": {},
   "outputs": [],
   "source": [
    "#macchina spawnata tipo 3\n",
    "blueprint_library = world.get_blueprint_library()\n",
    "vehicle_bp = blueprint_library.filter('vehicle.*')[0]\n",
    "spawn_point = carla.Transform(carla.Location(-0.5, -41.3, 1), carla.Rotation(yaw=-90))\n",
    "vehicle = world.spawn_actor(vehicle_bp, spawn_point)\n",
    "camera_retro = spawn_camera(attach_to=vehicle, world=world, transform=carla.Transform(carla.Location(x=-1.6, z=1.9), carla.Rotation(yaw=180, pitch=-40)))\n",
    "camera_rigth = spawn_camera(attach_to=vehicle, world=world, transform=carla.Transform(carla.Location(x=-1.6, z=1.9), carla.Rotation(yaw=90, pitch=-40)))"
   ]
  },
  {
   "cell_type": "code",
   "execution_count": 25,
   "metadata": {},
   "outputs": [],
   "source": [
    "video_output = np.zeros((600, 800, 4), dtype=np.uint8)\n",
    "def camera_callback(image):\n",
    "    global video_output\n",
    "    #cv2.imwrite(f'./output/{image.frame}.png', np.reshape(np.copy(image.raw_data), (image.height, image.width, 4)))\n",
    "    video_output = np.array(np.reshape(np.copy(image.raw_data), (image.height, image.width, 4)))\n",
    "\n",
    "camera_retro.listen(lambda image: camera_callback(image))"
   ]
  },
  {
   "cell_type": "code",
   "execution_count": 26,
   "metadata": {},
   "outputs": [
    {
     "name": "stdout",
     "output_type": "stream",
     "text": [
      "Parcheggio completato!\n",
      "Distruggendo il veicolo...\n",
      "Veicolo rimosso.\n"
     ]
    }
   ],
   "source": [
    "# Configura i controlli iniziali\n",
    "control = carla.VehicleControl()\n",
    "control.reverse = False  # Retromarcia\n",
    "control.throttle = 0.3  # Velocità moderata\n",
    "control.brake = 0.0\n",
    "\n",
    "# Passi per il parcheggio\n",
    "PARKING_STEP_0_DURATION = 5\n",
    "PARKING_STEP_1_DURATION = 6  # Tempo per sterzare all'indietro\n",
    "PARKING_STEP_2_DURATION = 2  # Tempo per raddrizzare\n",
    "\n",
    "\n",
    "control.steer = -0.8  # Sterzata a destra (positivo per destra)\n",
    "start_time = time.time()\n",
    "while time.time() - start_time < PARKING_STEP_0_DURATION:\n",
    "    vehicle.apply_control(control)\n",
    "    time.sleep(0.1)\n"
   ]
  },
  {
   "cell_type": "code",
   "execution_count": null,
   "metadata": {},
   "outputs": [],
   "source": [
    "def proces(img):\n",
    "    img = preprocess_image(img)\n",
    "# Trova i pixel bianchi\n",
    "    white_pixels = np.column_stack(np.where(img == 255))\n",
    "\n",
    "# Se esistono pixel bianchi, trova il punto con la massima coordinata y\n",
    "    if len(white_pixels) > 0:\n",
    "        lowest_point = white_pixels[np.argmax(white_pixels[:, 0])]\n",
    "        y_lowest, x_lowest = lowest_point\n",
    "        print(f\"Punto bianco più basso: ({x_lowest}, {y_lowest})\")\n",
    "    \n",
    "    # Calcola le coordinate della linea inclinata di 30 gradi\n",
    "        length = 450  # Lunghezza della linea (modificabile)\n",
    "        angle = math.radians(30)  # Inclinazione in radianti\n",
    "    \n",
    "    # Punto finale della linea\n",
    "        x_end = int(x_lowest + length * math.cos(angle))\n",
    "        y_end = int(y_lowest - length * math.sin(angle))  # y diminuisce verso l'alto\n",
    "\n",
    "    # Disegna la linea sull'immagine originale\n",
    "        output_img = cv2.cvtColor(img, cv2.COLOR_GRAY2BGR)  # Converti in BGR per colori\n",
    "        cv2.line(output_img, (x_lowest, y_lowest), (x_end, y_end), (255, 255, 255), thickness=8)  \n",
    "        img = cv2.cvtColor(output_img, cv2.COLOR_BGR2GRAY)\n",
    "        colored_image = cv2.cvtColor(img, cv2.COLOR_GRAY2BGR)\n",
    "        contours, _ = cv2.findContours(255 - img, cv2.RETR_EXTERNAL, cv2.CHAIN_APPROX_SIMPLE)\n",
    "        height, width = img.shape\n",
    "        for contour in contours:\n",
    "            area = cv2.contourArea(contour)\n",
    "            x, y, w, h = cv2.boundingRect(contour)\n",
    "            if x > 0 and y > 0 and (x + w) < width and (y + h) < height:\n",
    "                if area > 1000: \n",
    "                    print(area)\n",
    "                    cv2.drawContours(colored_image, [contour], -1, (0,0,255), thickness=cv2.FILLED)\n",
    "\n",
    "        hsv_image = cv2.cvtColor(colored_image, cv2.COLOR_BGR2HSV)\n",
    "\n",
    "# Definisci i range per il colore rosso in formato HSV\n",
    "        lower_red = np.array([0, 100, 100])\n",
    "        upper_red = np.array([10, 255, 255])\n",
    "\n",
    "# Maschera per isolare il colore rosso\n",
    "        mask = cv2.inRange(hsv_image, lower_red, upper_red)\n",
    "        mask = cv2.Canny(mask,100,200)\n",
    "\n",
    "        midpoint, perp_start, perp_end = find_highest_segment_midpoint_and_perpendicular(mask)\n",
    "        print(midpoint)\n",
    "        cv2.circle(colored_image, midpoint, 5, (255, 0, 0), -1)\n",
    "        curve_points = spline_cubica((400,600), (400,500), midpoint, perp_start)\n",
    "        return curve_points"
   ]
  },
  {
   "cell_type": "code",
   "execution_count": null,
   "metadata": {},
   "outputs": [],
   "source": [
    "curve_points = proces(video_output)\n",
    "\n",
    "def follow_curve(vehicle, curve_points, speed=30):\n",
    "    # Impostiamo la velocità di base\n",
    "    throttle = 0.5\n",
    "    brake = 0.0\n",
    "    steering = 0.0\n",
    "    \n",
    "    # Iteriamo sui punti della curva\n",
    "    for point in curve_points:\n",
    "        # Calcoliamo la direzione tra il veicolo e il punto successivo\n",
    "        dx = point[0] - vehicle.get_location().x\n",
    "        dy = point[1] - vehicle.get_location().y\n",
    "        angle_to_target = math.atan2(dy, dx)  # Angolo tra il veicolo e il punto\n",
    "        \n",
    "        # Otteniamo la differenza tra l'angolo corrente e l'angolo da percorrere\n",
    "        angle_difference = angle_to_target - vehicle.get_transform().rotation.yaw\n",
    "        if angle_difference > math.pi:\n",
    "            angle_difference -= 2 * math.pi\n",
    "        elif angle_difference < -math.pi:\n",
    "            angle_difference += 2 * math.pi\n",
    "        \n",
    "        # Impostiamo la sterzata in base all'angolo\n",
    "        steering = max(-1.0, min(1.0, angle_difference / math.pi))\n",
    "        \n",
    "        # Impostiamo la velocità (accelera o frena)\n",
    "        if abs(angle_difference) < 0.1:  # Se l'angolo è molto piccolo, vai dritto\n",
    "            throttle = 0.7\n",
    "        else:  # Altrimenti riduci la velocità\n",
    "            throttle = 0.3\n",
    "        \n",
    "        vehicle.apply_control(carla.VehicleControl(throttle=throttle, steer=steering, brake=brake, reverse=True))\n",
    "        \n",
    "        # Aggiorna il mondo e attendi un po'\n",
    "        world.tick()\n",
    "        time.sleep(0.1)\n",
    "\n",
    "\n",
    "follow_curve(vehicle, curve_points)"
   ]
  }
 ],
 "metadata": {
  "kernelspec": {
   "display_name": "carla-env",
   "language": "python",
   "name": "python3"
  },
  "language_info": {
   "codemirror_mode": {
    "name": "ipython",
    "version": 3
   },
   "file_extension": ".py",
   "mimetype": "text/x-python",
   "name": "python",
   "nbconvert_exporter": "python",
   "pygments_lexer": "ipython3",
   "version": "3.7.16"
  }
 },
 "nbformat": 4,
 "nbformat_minor": 2
}
