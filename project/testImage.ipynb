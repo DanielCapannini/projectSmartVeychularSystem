{
 "cells": [
  {
   "cell_type": "code",
   "execution_count": 1,
   "metadata": {},
   "outputs": [
    {
     "name": "stdout",
     "output_type": "stream",
     "text": [
      "pygame 2.6.1 (SDL 2.28.4, Python 3.7.16)\n",
      "Hello from the pygame community. https://www.pygame.org/contribute.html\n"
     ]
    }
   ],
   "source": [
    "import carla, time, pygame, math, random, cv2\n",
    "import numpy as np\n",
    "from Common import process_image"
   ]
  },
  {
   "cell_type": "code",
   "execution_count": 10,
   "metadata": {},
   "outputs": [],
   "source": [
    "import cv2\n",
    "import numpy as np\n",
    "import math\n",
    "\n",
    "def draw_line_with_angle(image):\n",
    "    \"\"\"\n",
    "    Trova il punto bianco più basso appartenente a una linea nell'immagine e traccia una linea\n",
    "    per tutta l'immagine con un angolo di 70 gradi rispetto alla linea a cui appartiene il punto.\n",
    "\n",
    "    Args:\n",
    "        image (numpy.ndarray): Immagine binaria (0 e 255).\n",
    "\n",
    "    Returns:\n",
    "        numpy.ndarray: Immagine con la linea tracciata.\n",
    "    \"\"\"\n",
    "    image_with_line = image.copy()\n",
    "    height, width = image.shape\n",
    "\n",
    "    # Trova i contorni\n",
    "    contours, _ = cv2.findContours(image, cv2.RETR_EXTERNAL, cv2.CHAIN_APPROX_SIMPLE)\n",
    "\n",
    "    if not contours:\n",
    "        return image_with_line  # Nessun contorno trovato\n",
    "\n",
    "    # Trova il punto bianco più basso tra tutti i contorni\n",
    "    lowest_point = None\n",
    "    for contour in contours:\n",
    "        for point in contour:\n",
    "            x, y = point[0]\n",
    "            if lowest_point is None or y > lowest_point[1]:\n",
    "                lowest_point = (x, y)\n",
    "\n",
    "    if lowest_point is None:\n",
    "        return image_with_line  # Nessun punto bianco trovato\n",
    "\n",
    "    # Calcola la direzione della linea con un angolo di 70 gradi\n",
    "    angle_rad = math.radians(70)  # Converti 70 gradi in radianti\n",
    "    dx = math.cos(angle_rad)  # Delta x (variazione lungo l'asse x)\n",
    "    dy = math.sin(angle_rad)  # Delta y (variazione lungo l'asse y)\n",
    "\n",
    "    # Calcola i punti di inizio e fine della linea\n",
    "    start_point = (int(lowest_point[0] - dx * height), int(lowest_point[1] - dy * height))\n",
    "    end_point = (int(lowest_point[0] + dx * height), int(lowest_point[1] + dy * height))\n",
    "\n",
    "    # Assicurati che i punti siano entro i limiti dell'immagine\n",
    "    start_point = (max(0, min(width - 1, start_point[0])), max(0, min(height - 1, start_point[1])))\n",
    "    end_point = (max(0, min(width - 1, end_point[0])), max(0, min(height - 1, end_point[1])))\n",
    "\n",
    "    # Disegna la linea sull'immagine\n",
    "    cv2.line(image_with_line, start_point, end_point, (255, 255, 255), thickness=5)\n",
    "\n",
    "    return image_with_line\n",
    "\n",
    "# Esempio di utilizzo\n",
    "# image = cv2.imread('path_to_image', cv2.IMREAD_GRAYSCALE)\n",
    "# binary_image = cv2.threshold(image, 127, 255, cv2.THRESH_BINARY)[1]\n",
    "# result_image = draw_line_with_angle(binary_image)\n",
    "# cv2.imshow('Result', result_image)\n",
    "# cv2.waitKey(0)\n",
    "# cv2.destroyAllWindows()\n",
    "\n"
   ]
  },
  {
   "cell_type": "code",
   "execution_count": 11,
   "metadata": {},
   "outputs": [],
   "source": [
    "def preprocess_image(image):\n",
    "    gray_image = cv2.cvtColor(image, cv2.COLOR_BGR2GRAY)\n",
    "    _, binary_mask = cv2.threshold(gray_image, 200, 255, cv2.THRESH_BINARY)\n",
    "    kernel = np.ones((5, 5), np.uint8)\n",
    "    mask_cleaned = cv2.morphologyEx(binary_mask, cv2.MORPH_CLOSE, kernel)\n",
    "    return mask_cleaned"
   ]
  },
  {
   "cell_type": "code",
   "execution_count": 12,
   "metadata": {},
   "outputs": [],
   "source": [
    "imageURL = \"output/246072.png\"\n",
    "image = cv2.imread(imageURL)\n",
    "image = preprocess_image(image)\n",
    "image = draw_line_with_angle(image)\n",
    "cv2.imshow(\"Image with Horizontal Lines\", image)\n",
    "cv2.waitKey(0)\n",
    "cv2.destroyAllWindows()"
   ]
  }
 ],
 "metadata": {
  "kernelspec": {
   "display_name": "carla-env",
   "language": "python",
   "name": "python3"
  },
  "language_info": {
   "codemirror_mode": {
    "name": "ipython",
    "version": 3
   },
   "file_extension": ".py",
   "mimetype": "text/x-python",
   "name": "python",
   "nbconvert_exporter": "python",
   "pygments_lexer": "ipython3",
   "version": "3.7.16"
  }
 },
 "nbformat": 4,
 "nbformat_minor": 2
}
