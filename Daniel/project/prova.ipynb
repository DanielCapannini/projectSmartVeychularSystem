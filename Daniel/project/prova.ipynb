{
 "cells": [
  {
   "cell_type": "code",
   "execution_count": 1,
   "metadata": {},
   "outputs": [
    {
     "name": "stdout",
     "output_type": "stream",
     "text": [
      "pygame 2.6.1 (SDL 2.28.4, Python 3.7.16)\n",
      "Hello from the pygame community. https://www.pygame.org/contribute.html\n"
     ]
    }
   ],
   "source": [
    "import carla, time, pygame, math, random, cv2\n",
    "import numpy as np\n",
    "from Utility import spawn_camera, speed_control, preprocess_image"
   ]
  },
  {
   "cell_type": "code",
   "execution_count": 2,
   "metadata": {},
   "outputs": [],
   "source": [
    "client = carla.Client('localhost', 2000)\n",
    "client.set_timeout(20.0)\n",
    "client.load_world('Town05')\n",
    "world = client.get_world()\n",
    "spectator = world.get_spectator()\n",
    "world.set_weather(carla.WeatherParameters.WetNight)"
   ]
  },
  {
   "cell_type": "code",
   "execution_count": 8,
   "metadata": {},
   "outputs": [],
   "source": [
    "spawn_point = carla.Transform(carla.Location(-1, -21, 2), carla.Rotation(yaw=-90))"
   ]
  },
  {
   "cell_type": "code",
   "execution_count": 9,
   "metadata": {},
   "outputs": [],
   "source": [
    "blueprint_library = world.get_blueprint_library()\n",
    "vehicle_bp = blueprint_library.filter('vehicle.*')[0]\n",
    "vehicle = world.spawn_actor(vehicle_bp, spawn_point)\n",
    "camera_retro = spawn_camera(attach_to=vehicle, world=world, transform=carla.Transform(carla.Location(x=-1.6, z=1.9), carla.Rotation(yaw=180, pitch=-40)))\n",
    "camera_rigth = spawn_camera(attach_to=vehicle, world=world, transform=carla.Transform(carla.Location(x=-0.8, y=0.5, z=1.9), carla.Rotation(yaw=90, pitch=-40)))\n",
    "run = True\n",
    "video_output=None "
   ]
  },
  {
   "cell_type": "code",
   "execution_count": null,
   "metadata": {},
   "outputs": [
    {
     "data": {
      "text/plain": [
       "True"
      ]
     },
     "execution_count": 13,
     "metadata": {},
     "output_type": "execute_result"
    }
   ],
   "source": [
    "vehicle.destroy()\n",
    "camera_rigth.destroy()"
   ]
  },
  {
   "cell_type": "code",
   "execution_count": 10,
   "metadata": {},
   "outputs": [],
   "source": [
    "def camera_rigth_callback(image):\n",
    "    global video_output\n",
    "    cv2.imwrite(f'./output3/{image.frame}.png', np.reshape(np.copy(image.raw_data), (image.height, image.width, 4)))\n",
    "    video_output = preprocess_image(np.reshape(np.copy(image.raw_data), (image.height, image.width, 4)))\n",
    "camera_rigth.listen(lambda image: camera_rigth_callback(image))"
   ]
  },
  {
   "cell_type": "code",
   "execution_count": 11,
   "metadata": {},
   "outputs": [],
   "source": [
    "def angle_calculation(image):\n",
    "    edges = cv2.Canny(image, 50, 150)\n",
    "    lines = cv2.HoughLines(edges, 1, np.pi / 180, threshold=100)\n",
    "    min_angle = 75\n",
    "    max_angle = 105\n",
    "    min_angle_rad = np.deg2rad(min_angle)\n",
    "    max_angle_rad = np.deg2rad(max_angle)\n",
    "    theta_sum = 0\n",
    "    line_count = 0\n",
    "    for line in lines:\n",
    "        rho, theta = line[0]\n",
    "        if min_angle_rad <= theta <= max_angle_rad:\n",
    "            theta_sum += theta\n",
    "            line_count += 1\n",
    "    if  line_count > 0:\n",
    "        theta_mean = theta_sum / line_count\n",
    "        theta_mean_deg = np.rad2deg(theta_mean) \n",
    "        if theta_mean_deg > 90:\n",
    "            return theta_mean_deg+5\n",
    "        if theta_mean_deg < 90:\n",
    "            return theta_mean_deg-2\n",
    "        return theta_mean_deg \n",
    "    return None\n",
    "\n",
    "def mantieni_corsia(image, control, current_speed_mps, target_speed_mps):\n",
    "    angolo = angle_calculation(image)\n",
    "    control.steer = 0.0\n",
    "    if angolo != None:\n",
    "        valore_scalato = (((angolo - 75) / (105 - 75)) * 0.8) - 0.4\n",
    "        control.steer = valore_scalato\n",
    "    control = speed_control(control, target_speed_mps, current_speed_mps)\n",
    "    return control\n"
   ]
  },
  {
   "cell_type": "code",
   "execution_count": 12,
   "metadata": {},
   "outputs": [
    {
     "ename": "TypeError",
     "evalue": "'NoneType' object is not iterable",
     "output_type": "error",
     "traceback": [
      "\u001b[1;31m---------------------------------------------------------------------------\u001b[0m",
      "\u001b[1;31mTypeError\u001b[0m                                 Traceback (most recent call last)",
      "\u001b[1;32m~\\AppData\\Local\\Temp\\ipykernel_8108\\3928559036.py\u001b[0m in \u001b[0;36m<module>\u001b[1;34m\u001b[0m\n\u001b[0;32m      4\u001b[0m     \u001b[0mcurrent_velocity\u001b[0m \u001b[1;33m=\u001b[0m \u001b[0mvehicle\u001b[0m\u001b[1;33m.\u001b[0m\u001b[0mget_velocity\u001b[0m\u001b[1;33m(\u001b[0m\u001b[1;33m)\u001b[0m\u001b[1;33m\u001b[0m\u001b[1;33m\u001b[0m\u001b[0m\n\u001b[0;32m      5\u001b[0m     \u001b[0mcurrent_speed_mps\u001b[0m \u001b[1;33m=\u001b[0m \u001b[0mcurrent_velocity\u001b[0m\u001b[1;33m.\u001b[0m\u001b[0mlength\u001b[0m\u001b[1;33m(\u001b[0m\u001b[1;33m)\u001b[0m\u001b[1;33m\u001b[0m\u001b[1;33m\u001b[0m\u001b[0m\n\u001b[1;32m----> 6\u001b[1;33m     \u001b[0mcontrol\u001b[0m \u001b[1;33m=\u001b[0m \u001b[0mmantieni_corsia\u001b[0m\u001b[1;33m(\u001b[0m\u001b[0mvideo_output\u001b[0m\u001b[1;33m,\u001b[0m \u001b[0mcontrol\u001b[0m\u001b[1;33m,\u001b[0m \u001b[0mcurrent_speed_mps\u001b[0m\u001b[1;33m,\u001b[0m \u001b[0mtarget_speed_mps\u001b[0m\u001b[1;33m)\u001b[0m\u001b[1;33m\u001b[0m\u001b[1;33m\u001b[0m\u001b[0m\n\u001b[0m\u001b[0;32m      7\u001b[0m     \u001b[0mvehicle\u001b[0m\u001b[1;33m.\u001b[0m\u001b[0mapply_control\u001b[0m\u001b[1;33m(\u001b[0m\u001b[0mcontrol\u001b[0m\u001b[1;33m)\u001b[0m\u001b[1;33m\u001b[0m\u001b[1;33m\u001b[0m\u001b[0m\n\u001b[0;32m      8\u001b[0m     \u001b[0mtime\u001b[0m\u001b[1;33m.\u001b[0m\u001b[0msleep\u001b[0m\u001b[1;33m(\u001b[0m\u001b[1;36m0.05\u001b[0m\u001b[1;33m)\u001b[0m\u001b[1;33m\u001b[0m\u001b[1;33m\u001b[0m\u001b[0m\n",
      "\u001b[1;32m~\\AppData\\Local\\Temp\\ipykernel_8108\\3580066450.py\u001b[0m in \u001b[0;36mmantieni_corsia\u001b[1;34m(image, control, current_speed_mps, target_speed_mps)\u001b[0m\n\u001b[0;32m     24\u001b[0m \u001b[1;33m\u001b[0m\u001b[0m\n\u001b[0;32m     25\u001b[0m \u001b[1;32mdef\u001b[0m \u001b[0mmantieni_corsia\u001b[0m\u001b[1;33m(\u001b[0m\u001b[0mimage\u001b[0m\u001b[1;33m,\u001b[0m \u001b[0mcontrol\u001b[0m\u001b[1;33m,\u001b[0m \u001b[0mcurrent_speed_mps\u001b[0m\u001b[1;33m,\u001b[0m \u001b[0mtarget_speed_mps\u001b[0m\u001b[1;33m)\u001b[0m\u001b[1;33m:\u001b[0m\u001b[1;33m\u001b[0m\u001b[1;33m\u001b[0m\u001b[0m\n\u001b[1;32m---> 26\u001b[1;33m     \u001b[0mangolo\u001b[0m \u001b[1;33m=\u001b[0m \u001b[0mangle_calculation\u001b[0m\u001b[1;33m(\u001b[0m\u001b[0mimage\u001b[0m\u001b[1;33m)\u001b[0m\u001b[1;33m\u001b[0m\u001b[1;33m\u001b[0m\u001b[0m\n\u001b[0m\u001b[0;32m     27\u001b[0m     \u001b[0mcontrol\u001b[0m\u001b[1;33m.\u001b[0m\u001b[0msteer\u001b[0m \u001b[1;33m=\u001b[0m \u001b[1;36m0.0\u001b[0m\u001b[1;33m\u001b[0m\u001b[1;33m\u001b[0m\u001b[0m\n\u001b[0;32m     28\u001b[0m     \u001b[1;32mif\u001b[0m \u001b[0mangolo\u001b[0m \u001b[1;33m!=\u001b[0m \u001b[1;32mNone\u001b[0m\u001b[1;33m:\u001b[0m\u001b[1;33m\u001b[0m\u001b[1;33m\u001b[0m\u001b[0m\n",
      "\u001b[1;32m~\\AppData\\Local\\Temp\\ipykernel_8108\\3580066450.py\u001b[0m in \u001b[0;36mangle_calculation\u001b[1;34m(image)\u001b[0m\n\u001b[0;32m      8\u001b[0m     \u001b[0mtheta_sum\u001b[0m \u001b[1;33m=\u001b[0m \u001b[1;36m0\u001b[0m\u001b[1;33m\u001b[0m\u001b[1;33m\u001b[0m\u001b[0m\n\u001b[0;32m      9\u001b[0m     \u001b[0mline_count\u001b[0m \u001b[1;33m=\u001b[0m \u001b[1;36m0\u001b[0m\u001b[1;33m\u001b[0m\u001b[1;33m\u001b[0m\u001b[0m\n\u001b[1;32m---> 10\u001b[1;33m     \u001b[1;32mfor\u001b[0m \u001b[0mline\u001b[0m \u001b[1;32min\u001b[0m \u001b[0mlines\u001b[0m\u001b[1;33m:\u001b[0m\u001b[1;33m\u001b[0m\u001b[1;33m\u001b[0m\u001b[0m\n\u001b[0m\u001b[0;32m     11\u001b[0m         \u001b[0mrho\u001b[0m\u001b[1;33m,\u001b[0m \u001b[0mtheta\u001b[0m \u001b[1;33m=\u001b[0m \u001b[0mline\u001b[0m\u001b[1;33m[\u001b[0m\u001b[1;36m0\u001b[0m\u001b[1;33m]\u001b[0m\u001b[1;33m\u001b[0m\u001b[1;33m\u001b[0m\u001b[0m\n\u001b[0;32m     12\u001b[0m         \u001b[1;32mif\u001b[0m \u001b[0mmin_angle_rad\u001b[0m \u001b[1;33m<=\u001b[0m \u001b[0mtheta\u001b[0m \u001b[1;33m<=\u001b[0m \u001b[0mmax_angle_rad\u001b[0m\u001b[1;33m:\u001b[0m\u001b[1;33m\u001b[0m\u001b[1;33m\u001b[0m\u001b[0m\n",
      "\u001b[1;31mTypeError\u001b[0m: 'NoneType' object is not iterable"
     ]
    }
   ],
   "source": [
    "target_speed_mps = 10 / 3.6\n",
    "control = carla.VehicleControl()\n",
    "while run:\n",
    "    current_velocity = vehicle.get_velocity()\n",
    "    current_speed_mps = current_velocity.length()\n",
    "    control = mantieni_corsia(video_output, control, current_speed_mps, target_speed_mps)\n",
    "    vehicle.apply_control(control)\n",
    "    time.sleep(0.05)"
   ]
  },
  {
   "cell_type": "code",
   "execution_count": 82,
   "metadata": {},
   "outputs": [
    {
     "data": {
      "text/plain": [
       "True"
      ]
     },
     "execution_count": 82,
     "metadata": {},
     "output_type": "execute_result"
    }
   ],
   "source": [
    "vehicle.destroy()\n",
    "camera_rigth.destroy()"
   ]
  },
  {
   "cell_type": "code",
   "execution_count": 1,
   "metadata": {},
   "outputs": [
    {
     "name": "stdout",
     "output_type": "stream",
     "text": [
      "Media degli angoli (in gradi): 86.36\n"
     ]
    }
   ],
   "source": [
    "import cv2\n",
    "import numpy as np\n",
    "import math\n",
    "\n",
    "# Carica l'immagine in bianco e nero (grayscale)\n",
    "image = cv2.imread('output/111931.png', cv2.IMREAD_GRAYSCALE)\n",
    "\n",
    "# Applica il filtro di Canny per rilevare i bordi\n",
    "edges = cv2.Canny(image, 50, 150)\n",
    "\n",
    "# Crea una copia a colori per disegnare le linee rosse\n",
    "color_image = cv2.cvtColor(image, cv2.COLOR_GRAY2BGR)\n",
    "\n",
    "# Applicare la trasformata di Hough per trovare le linee sugli edge\n",
    "lines = cv2.HoughLines(edges, 1, np.pi / 180, threshold=100)\n",
    "\n",
    "# Angolo desiderato in gradi (80° a 100°)\n",
    "min_angle = 75\n",
    "max_angle = 105\n",
    "\n",
    "# Converte gli angoli in radianti\n",
    "min_angle_rad = np.deg2rad(min_angle)\n",
    "max_angle_rad = np.deg2rad(max_angle)\n",
    "theta_sum = 0\n",
    "line_count = 0\n",
    "\n",
    "# Filtra le linee in base all'angolo\n",
    "for line in lines:\n",
    "    rho, theta = line[0]\n",
    "    # Verifica se l'angolo è tra 80° e 100° (in radianti)\n",
    "    if min_angle_rad <= theta <= max_angle_rad:\n",
    "        # Calcolare le coordinate della linea\n",
    "        theta_sum += theta\n",
    "        line_count += 1\n",
    "        a = np.cos(theta)\n",
    "        b = np.sin(theta)\n",
    "        x0 = a * rho\n",
    "        y0 = b * rho\n",
    "        x1 = int(x0 + 1000 * (-b))\n",
    "        y1 = int(y0 + 1000 * (a))\n",
    "        x2 = int(x0 - 1000 * (-b))\n",
    "        y2 = int(y0 - 1000 * (a))\n",
    "        \n",
    "        cv2.line(color_image, (x1, y1), (x2, y2), (0, 0, 255), 2)\n",
    "\n",
    "theta_mean = theta_sum / line_count\n",
    "theta_mean_deg = np.rad2deg(theta_mean)  # Converti in gradi\n",
    "print(f'Media degli angoli (in gradi): {theta_mean_deg:.2f}')\n",
    "# Mostra l'immagine con le linee rosse sugli edge\n",
    "cv2.imshow('Lines between 80 and 100 degrees', color_image)\n",
    "cv2.waitKey(0)\n",
    "cv2.destroyAllWindows()\n"
   ]
  }
 ],
 "metadata": {
  "kernelspec": {
   "display_name": "carla-env",
   "language": "python",
   "name": "python3"
  },
  "language_info": {
   "codemirror_mode": {
    "name": "ipython",
    "version": 3
   },
   "file_extension": ".py",
   "mimetype": "text/x-python",
   "name": "python",
   "nbconvert_exporter": "python",
   "pygments_lexer": "ipython3",
   "version": "3.7.16"
  }
 },
 "nbformat": 4,
 "nbformat_minor": 2
}
