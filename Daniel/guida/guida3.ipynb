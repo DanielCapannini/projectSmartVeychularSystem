{
 "cells": [
  {
   "cell_type": "code",
   "execution_count": 1,
   "metadata": {},
   "outputs": [],
   "source": [
    "import carla\n",
    "import random\n",
    "import time\n",
    "import math\n",
    "from Common import spawn_camera, spawn_vehicle, preprocess_image, follow_curve\n",
    "import cv2\n",
    "import numpy as np\n",
    "\n",
    "# Connessione al simulatore CARLA\n",
    "client = carla.Client('localhost', 2000)\n",
    "client.set_timeout(20.0)\n",
    "client.load_world('Town05')\n",
    "# Ottenere il mondo di simulazione\n",
    "world = client.get_world()"
   ]
  },
  {
   "cell_type": "code",
   "execution_count": 6,
   "metadata": {},
   "outputs": [
    {
     "data": {
      "text/plain": [
       "True"
      ]
     },
     "execution_count": 6,
     "metadata": {},
     "output_type": "execute_result"
    }
   ],
   "source": [
    "# Selezioniamo un veicolo dal mondo o creiamone uno\n",
    "vehicle = spawn_vehicle(world=world)\n",
    "\n",
    "# Aggiungi una telecamera per monitorare il comportamento\n",
    "camera_bp = world.get_blueprint_library().find('sensor.camera.rgb')\n",
    "camera_transform = carla.Transform(carla.Location(x=1.5, z=2.5))\n",
    "camera = world.spawn_actor(camera_bp, camera_transform, attach_to=vehicle)\n",
    "\n",
    "# Funzione per seguire la curva\n",
    "def follow_curve(vehicle, curve_points, speed=30):\n",
    "    # Impostiamo la velocità di base\n",
    "    throttle = 0.5\n",
    "    brake = 0.0\n",
    "    steering = 0.0\n",
    "    \n",
    "    # Iteriamo sui punti della curva\n",
    "    for point in curve_points:\n",
    "        # Calcoliamo la direzione tra il veicolo e il punto successivo\n",
    "        dx = point[0] - vehicle.get_location().x\n",
    "        dy = point[1] - vehicle.get_location().y\n",
    "        angle_to_target = math.atan2(dy, dx)  # Angolo tra il veicolo e il punto\n",
    "        \n",
    "        # Otteniamo la differenza tra l'angolo corrente e l'angolo da percorrere\n",
    "        angle_difference = angle_to_target - vehicle.get_transform().rotation.yaw\n",
    "        if angle_difference > math.pi:\n",
    "            angle_difference -= 2 * math.pi\n",
    "        elif angle_difference < -math.pi:\n",
    "            angle_difference += 2 * math.pi\n",
    "        \n",
    "        # Impostiamo la sterzata in base all'angolo\n",
    "        steering = max(-1.0, min(1.0, angle_difference / math.pi))\n",
    "        \n",
    "        # Impostiamo la velocità (accelera o frena)\n",
    "        if abs(angle_difference) < 0.1:  # Se l'angolo è molto piccolo, vai dritto\n",
    "            throttle = 0.7\n",
    "        else:  # Altrimenti riduci la velocità\n",
    "            throttle = 0.3\n",
    "        \n",
    "        vehicle.apply_control(carla.VehicleControl(throttle=throttle, steer=steering, brake=brake, reverse=True))\n",
    "        \n",
    "        # Aggiorna il mondo e attendi un po'\n",
    "        world.tick()\n",
    "        time.sleep(0.1)\n",
    "\n",
    "# Definiamo una curva (serie di punti)\n",
    "# Crea un'immagine in scala di grigi\n",
    "image = cv2.imread(\"output/369908.png\")\n",
    "\n",
    "# Definizione dei punti\n",
    "p0 = (0, 300)       # Punto iniziale\n",
    "p1 = (400, 300)     # Punto di controllo\n",
    "p2 = (400, 600)     # Punto finale\n",
    "\n",
    "# Funzione per calcolare i punti della curva Bézier\n",
    "def bezier_quadratica(t, p0, p1, p2):\n",
    "    x = int((1 - t)**2 * p0[0] + 2 * (1 - t) * t * p1[0] + t**2 * p2[0])\n",
    "    y = int((1 - t)**2 * p0[1] + 2 * (1 - t) * t * p1[1] + t**2 * p2[1])\n",
    "    return (x, y)\n",
    "\n",
    "# Genera i punti della curva\n",
    "num_points = 100\n",
    "curve_points = [bezier_quadratica(t, p0, p1, p2) for t in np.linspace(0, 1, num_points)]\n",
    "\n",
    "# Fai seguire al veicolo la curva\n",
    "follow_curve(vehicle, curve_points)\n",
    "\n",
    "# Dopo aver fatto seguire la curva al veicolo, puoi fermarlo\n",
    "vehicle.apply_control(carla.VehicleControl(throttle=0, steer=0, brake=1))\n",
    "\n",
    "# Chiudere il simulatore\n",
    "camera.destroy()\n",
    "vehicle.destroy()\n"
   ]
  },
  {
   "cell_type": "code",
   "execution_count": 2,
   "metadata": {},
   "outputs": [],
   "source": [
    "blueprint_library = world.get_blueprint_library()\n",
    "vehicle_bp = blueprint_library.filter('vehicle.*')[0]\n",
    "\n",
    "spawn_point = carla.Transform(carla.Location(-1, -40, 2), carla.Rotation(yaw=-90))\n",
    "\n",
    "vehicle = world.spawn_actor(vehicle_bp, spawn_point)\n",
    "camera = spawn_camera(attach_to=vehicle, world=world, transform=carla.Transform(carla.Location(x=-1.6, z=1.9), carla.Rotation(yaw=180, pitch=-40)))\n",
    "\n",
    "vehicle.set_autopilot(False)\n",
    "\n",
    "image = cv2.imread(\"output/369908.png\")\n",
    "\n",
    "# Definizione dei punti\n",
    "p0 = (0, 300)       # Punto iniziale\n",
    "p1 = (400, 300)     # Punto di controllo\n",
    "p2 = (400, 600)     # Punto finale\n",
    "\n",
    "# Funzione per calcolare i punti della curva Bézier\n",
    "def bezier_quadratica(t, p0, p1, p2):\n",
    "    x = int((1 - t)**2 * p0[0] + 2 * (1 - t) * t * p1[0] + t**2 * p2[0])\n",
    "    y = int((1 - t)**2 * p0[1] + 2 * (1 - t) * t * p1[1] + t**2 * p2[1])\n",
    "    return (x, y)\n",
    "\n",
    "# Genera i punti della curva\n",
    "num_points = 100\n",
    "curve_points = [bezier_quadratica(t, p0, p1, p2) for t in np.linspace(0, 1, num_points)]"
   ]
  },
  {
   "cell_type": "code",
   "execution_count": 3,
   "metadata": {},
   "outputs": [
    {
     "ename": "KeyboardInterrupt",
     "evalue": "",
     "output_type": "error",
     "traceback": [
      "\u001b[1;31m---------------------------------------------------------------------------\u001b[0m",
      "\u001b[1;31mKeyboardInterrupt\u001b[0m                         Traceback (most recent call last)",
      "\u001b[1;32m~\\AppData\\Local\\Temp\\ipykernel_16532\\299270469.py\u001b[0m in \u001b[0;36m<module>\u001b[1;34m\u001b[0m\n\u001b[0;32m     16\u001b[0m             \u001b[1;32mbreak\u001b[0m\u001b[1;33m\u001b[0m\u001b[1;33m\u001b[0m\u001b[0m\n\u001b[0;32m     17\u001b[0m \u001b[1;33m\u001b[0m\u001b[0m\n\u001b[1;32m---> 18\u001b[1;33m         \u001b[0mfollow_curve\u001b[0m\u001b[1;33m(\u001b[0m\u001b[0mworld\u001b[0m\u001b[1;33m,\u001b[0m \u001b[0mvehicle\u001b[0m\u001b[1;33m,\u001b[0m \u001b[0mcurve_points\u001b[0m\u001b[1;33m)\u001b[0m\u001b[1;33m\u001b[0m\u001b[1;33m\u001b[0m\u001b[0m\n\u001b[0m\u001b[0;32m     19\u001b[0m         \u001b[0mcv2\u001b[0m\u001b[1;33m.\u001b[0m\u001b[0mimshow\u001b[0m\u001b[1;33m(\u001b[0m\u001b[1;34m'RGB Camera'\u001b[0m\u001b[1;33m,\u001b[0m \u001b[0mvideo_output\u001b[0m\u001b[1;33m)\u001b[0m\u001b[1;33m\u001b[0m\u001b[1;33m\u001b[0m\u001b[0m\n\u001b[0;32m     20\u001b[0m \u001b[1;32mfinally\u001b[0m\u001b[1;33m:\u001b[0m\u001b[1;33m\u001b[0m\u001b[1;33m\u001b[0m\u001b[0m\n",
      "\u001b[1;32mc:\\Users\\daniel.capannini\\Desktop\\SVS\\projectSmartVeychularSystem\\RL\\guida\\Common.py\u001b[0m in \u001b[0;36mfollow_curve\u001b[1;34m(world, vehicle, curve_points, speed)\u001b[0m\n\u001b[0;32m     69\u001b[0m         \u001b[0mvehicle\u001b[0m\u001b[1;33m.\u001b[0m\u001b[0mapply_control\u001b[0m\u001b[1;33m(\u001b[0m\u001b[0mcarla\u001b[0m\u001b[1;33m.\u001b[0m\u001b[0mVehicleControl\u001b[0m\u001b[1;33m(\u001b[0m\u001b[0mthrottle\u001b[0m\u001b[1;33m=\u001b[0m\u001b[0mthrottle\u001b[0m\u001b[1;33m,\u001b[0m \u001b[0msteer\u001b[0m\u001b[1;33m=\u001b[0m\u001b[0msteering\u001b[0m\u001b[1;33m,\u001b[0m \u001b[0mbrake\u001b[0m\u001b[1;33m=\u001b[0m\u001b[0mbrake\u001b[0m\u001b[1;33m,\u001b[0m \u001b[0mreverse\u001b[0m\u001b[1;33m=\u001b[0m\u001b[1;32mTrue\u001b[0m\u001b[1;33m)\u001b[0m\u001b[1;33m)\u001b[0m\u001b[1;33m\u001b[0m\u001b[1;33m\u001b[0m\u001b[0m\n\u001b[0;32m     70\u001b[0m         \u001b[0mworld\u001b[0m\u001b[1;33m.\u001b[0m\u001b[0mtick\u001b[0m\u001b[1;33m(\u001b[0m\u001b[1;33m)\u001b[0m\u001b[1;33m\u001b[0m\u001b[1;33m\u001b[0m\u001b[0m\n\u001b[1;32m---> 71\u001b[1;33m         \u001b[0mtime\u001b[0m\u001b[1;33m.\u001b[0m\u001b[0msleep\u001b[0m\u001b[1;33m(\u001b[0m\u001b[1;36m0.1\u001b[0m\u001b[1;33m)\u001b[0m\u001b[1;33m\u001b[0m\u001b[1;33m\u001b[0m\u001b[0m\n\u001b[0m\u001b[0;32m     72\u001b[0m \u001b[1;33m\u001b[0m\u001b[0m\n\u001b[0;32m     73\u001b[0m \u001b[1;32mdef\u001b[0m \u001b[0mspline_cubica\u001b[0m\u001b[1;33m(\u001b[0m\u001b[0mp0\u001b[0m\u001b[1;33m,\u001b[0m \u001b[0mt0\u001b[0m\u001b[1;33m,\u001b[0m \u001b[0mp1\u001b[0m\u001b[1;33m,\u001b[0m \u001b[0mt1\u001b[0m\u001b[1;33m,\u001b[0m \u001b[0mnum_points\u001b[0m\u001b[1;33m=\u001b[0m\u001b[1;36m100\u001b[0m\u001b[1;33m)\u001b[0m\u001b[1;33m:\u001b[0m\u001b[1;33m\u001b[0m\u001b[1;33m\u001b[0m\u001b[0m\n",
      "\u001b[1;31mKeyboardInterrupt\u001b[0m: "
     ]
    }
   ],
   "source": [
    "video_output = np.zeros((600, 800, 4), dtype=np.uint8)\n",
    "def camera_callback(image):\n",
    "    global video_output\n",
    "    video_output = np.array(preprocess_image(np.reshape(np.copy(image.raw_data), (image.height, image.width, 4))))\n",
    "\n",
    "camera.listen(lambda image: camera_callback(image))\n",
    "\n",
    "cv2.namedWindow('RGB Camera', cv2.WINDOW_AUTOSIZE)\n",
    "\n",
    "running = True\n",
    "global vehicle\n",
    "try:\n",
    "    while running:\n",
    "        if cv2.waitKey(1) == ord('q'):\n",
    "            running = False\n",
    "            break\n",
    "\n",
    "        follow_curve(world, vehicle, curve_points)\n",
    "        cv2.imshow('RGB Camera', video_output)\n",
    "finally:\n",
    "    cv2.destroyAllWindows()\n",
    "    camera.destroy()\n",
    "    vehicle.destroy()"
   ]
  }
 ],
 "metadata": {
  "kernelspec": {
   "display_name": "carla-env",
   "language": "python",
   "name": "python3"
  },
  "language_info": {
   "codemirror_mode": {
    "name": "ipython",
    "version": 3
   },
   "file_extension": ".py",
   "mimetype": "text/x-python",
   "name": "python",
   "nbconvert_exporter": "python",
   "pygments_lexer": "ipython3",
   "version": "3.7.12"
  }
 },
 "nbformat": 4,
 "nbformat_minor": 2
}
