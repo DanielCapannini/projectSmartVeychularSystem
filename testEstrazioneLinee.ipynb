{
 "cells": [
  {
   "cell_type": "code",
   "execution_count": 2,
   "metadata": {},
   "outputs": [
    {
     "name": "stdout",
     "output_type": "stream",
     "text": [
      "pygame 2.6.1 (SDL 2.28.4, Python 3.7.12)\n",
      "Hello from the pygame community. https://www.pygame.org/contribute.html\n"
     ]
    }
   ],
   "source": [
    "import carla, time, pygame, math, random, cv2\n",
    "import numpy as np"
   ]
  },
  {
   "cell_type": "code",
   "execution_count": 5,
   "metadata": {},
   "outputs": [],
   "source": [
    "image = cv2.imread(\"33264.png\")\n",
    "gray = cv2.cvtColor(image, cv2.COLOR_BGR2GRAY)\n",
    "\n",
    "# Applica una trasformazione di Canny per rilevare i bordi\n",
    "edges = cv2.Canny(gray, 50, 150, apertureSize=3)\n",
    "\n",
    "# Esegui la trasformata di Hough probabilistica per individuare le linee\n",
    "lines = cv2.HoughLinesP(edges, 1, np.pi/180, threshold=100, minLineLength=100, maxLineGap=10)\n",
    "\n",
    "# Disegna le linee rilevate sull'immagine originale\n",
    "if lines is not None:\n",
    "    for line in lines:\n",
    "        x1, y1, x2, y2 = line[0]\n",
    "        cv2.line(gray, (x1, y1), (x2, y2), (0, 255, 0), 2)\n",
    "\n",
    "# Mostra l'immagine con le linee rilevate\n",
    "cv2.imshow(\"Detected Lines\", gray)\n",
    "cv2.waitKey(0)\n",
    "cv2.destroyAllWindows()"
   ]
  },
  {
   "cell_type": "code",
   "execution_count": 21,
   "metadata": {},
   "outputs": [],
   "source": [
    "# Carica l'immagine\n",
    "image = cv2.imread(\"33264.png\")\n",
    "\n",
    "# Converti l'immagine in scala di grigi\n",
    "gray_image = cv2.cvtColor(image, cv2.COLOR_BGR2GRAY)\n",
    "\n",
    "# Calcola una soglia per identificare i pixel più chiari\n",
    "_, thresholded = cv2.threshold(gray_image, 0, 255, cv2.THRESH_BINARY + cv2.THRESH_OTSU)\n",
    "\n",
    "# Trova i pixel bianchi nell'immagine thresholded\n",
    "white_pixels = np.where(thresholded == 255)\n",
    "\n",
    "# Crea una maschera per estrarre solo i pixel più chiari del 90% per 100%\n",
    "mask = np.zeros_like(gray_image)\n",
    "mask[white_pixels] = gray_image[white_pixels]\n",
    "cv2.imshow(\"Detected Lines\", mask)\n",
    "cv2.waitKey(0)\n",
    "cv2.destroyAllWindows()\n"
   ]
  },
  {
   "cell_type": "code",
   "execution_count": 28,
   "metadata": {},
   "outputs": [],
   "source": [
    "edges = cv2.Canny(mask, 50, 150, apertureSize=3)\n",
    "\n",
    "# Esegui la trasformata di Hough probabilistica per individuare le linee\n",
    "lines = cv2.HoughLinesP(mask, 1, np.pi/180, threshold=100, minLineLength=100, maxLineGap=10)\n",
    "\n",
    "# Disegna le linee rilevate sull'immagine originale\n",
    "if lines is not None:\n",
    "    for line in lines:\n",
    "        x1, y1, x2, y2 = line[0]\n",
    "        cv2.line(image, (x1, y1), (x2, y2), (0, 255, 0), 2)\n",
    "\n",
    "# Mostra l'immagine con le linee rilevate\n",
    "cv2.imshow(\"Detected Lines\", image)\n",
    "cv2.waitKey(0)\n",
    "cv2.destroyAllWindows()"
   ]
  },
  {
   "cell_type": "code",
   "execution_count": 40,
   "metadata": {},
   "outputs": [],
   "source": [
    "# Carica l'immagine\n",
    "image = cv2.imread(\"33264.png\")\n",
    "\n",
    "# Converti l'immagine in scala di grigi\n",
    "gray_image = cv2.cvtColor(image, cv2.COLOR_BGR2GRAY)\n",
    "\n",
    "# Calcola una soglia per identificare i pixel più chiari\n",
    "_, thresholded = cv2.threshold(gray_image, 0, 255, cv2.THRESH_BINARY + cv2.THRESH_OTSU)\n",
    "\n",
    "# Trova i pixel bianchi nell'immagine thresholded\n",
    "white_pixels = np.where(thresholded == 255)\n",
    "\n",
    "# Calcola la soglia personalizzata per estrarre il 95% dei pixel più chiari\n",
    "sorted_pixels = np.sort(gray_image[white_pixels])\n",
    "threshold_value = sorted_pixels[int(0.90 * len(sorted_pixels))]\n",
    "\n",
    "# Applica una sogliatura personalizzata per estrarre il 95% dei pixel più chiari\n",
    "_, custom_thresholded = cv2.threshold(gray_image, threshold_value, 255, cv2.THRESH_BINARY)\n",
    "\n",
    "# Crea una maschera per estrarre solo i pixel più chiari del 95% dell'immagine\n",
    "mask = np.zeros_like(gray_image)\n",
    "mask[custom_thresholded == 255] = gray_image[custom_thresholded == 255]\n",
    "\n",
    "# Definisci il kernel per le operazioni morfologiche\n",
    "kernel = np.ones((7, 7), np.uint8)  # Dimensione del kernel per l'operazione morfologica\n",
    "\n",
    "# Esegui l'operazione di apertura\n",
    "\n",
    "# Esegui l'operazione di chiusura\n",
    "image_closed = cv2.morphologyEx(mask, cv2.MORPH_CLOSE, kernel)\n",
    "\n",
    "image_opened = cv2.morphologyEx(image_closed, cv2.MORPH_OPEN, (3,3))\n",
    "\n",
    "cv2.imshow(\"Detected Lines\", image_closed)\n",
    "cv2.waitKey(0)\n",
    "cv2.destroyAllWindows()"
   ]
  }
 ],
 "metadata": {
  "kernelspec": {
   "display_name": "carla-env",
   "language": "python",
   "name": "python3"
  },
  "language_info": {
   "codemirror_mode": {
    "name": "ipython",
    "version": 3
   },
   "file_extension": ".py",
   "mimetype": "text/x-python",
   "name": "python",
   "nbconvert_exporter": "python",
   "pygments_lexer": "ipython3",
   "version": "3.7.12"
  }
 },
 "nbformat": 4,
 "nbformat_minor": 2
}
